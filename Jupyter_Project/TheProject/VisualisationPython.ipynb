{
 "cells": [
  {
   "cell_type": "code",
   "execution_count": 18,
   "metadata": {},
   "outputs": [
    {
     "name": "stdout",
     "output_type": "stream",
     "text": [
      "Index(['id', 'handle', 'text', 'is_retweet', 'original_author', 'time',\n",
      "       'in_reply_to_screen_name', 'in_reply_to_status_id',\n",
      "       'in_reply_to_user_id', 'is_quote_status', 'lang', 'retweet_count',\n",
      "       'favorite_count', 'longitude', 'latitude', 'place_id',\n",
      "       'place_full_name', 'place_name', 'place_type', 'place_country_code',\n",
      "       'place_country', 'place_contained_within', 'place_attributes',\n",
      "       'place_bounding_box', 'source_url', 'truncated', 'entities',\n",
      "       'extended_entities', 'date'],\n",
      "      dtype='object')\n",
      "Day with highest number of tweets:\n",
      "date                2016-09-27\n",
      "total_tweets               149\n",
      "total_retweets         1340273\n",
      "total_favorites        2789266\n",
      "total_engagement       4129539\n",
      "Name: 266, dtype: object\n",
      "\n",
      "Day with lowest engagement:\n",
      "date                2016-09-28\n",
      "total_tweets                 1\n",
      "total_retweets             218\n",
      "total_favorites            651\n",
      "total_engagement           869\n",
      "Name: 267, dtype: object\n"
     ]
    }
   ],
   "source": [
    "import pandas as pd\n",
    "\n",
    "df = pd.read_csv('tweets.csv')\n",
    "# Ensure the tweet date is in datetime format\n",
    "df['time'] = pd.to_datetime(df['time'])\n",
    "df['date'] = df['time'].dt.date\n",
    "# Group by date to calculate total tweets and total engagement (retweets + favorites)\n",
    "print(df.columns)\n",
    "df_daily = df.groupby('date').agg(\n",
    "    total_tweets=('id', 'count'),\n",
    "    total_retweets=('retweet_count', 'sum'),\n",
    "    total_favorites=('favorite_count', 'sum')\n",
    ").reset_index()\n",
    "\n",
    "\n",
    "# Calculate total engagement by adding retweets and favorites\n",
    "df_daily['total_engagement'] = df_daily['total_retweets'] + df_daily['total_favorites']\n",
    "\n",
    "# Find the day with the highest number of tweets\n",
    "day_highest_tweets = df_daily.loc[df_daily['total_tweets'].idxmax()]\n",
    "\n",
    "# Find the day with the lowest engagement\n",
    "day_lowest_engagement = df_daily.loc[df_daily['total_engagement'].idxmin()]\n",
    "\n",
    "# Output the results\n",
    "print(\"Day with highest number of tweets:\")\n",
    "print(day_highest_tweets)\n",
    "\n",
    "print(\"\\nDay with lowest engagement:\")\n",
    "print(day_lowest_engagement)\n"
   ]
  },
  {
   "cell_type": "code",
   "execution_count": 23,
   "metadata": {},
   "outputs": [
    {
     "name": "stdout",
     "output_type": "stream",
     "text": [
      "No critical moments found where high tweets and low engagement occurred.\n"
     ]
    }
   ],
   "source": [
    "import pandas as pd\n",
    "\n",
    "df = pd.read_csv('tweets.csv')\n",
    "\n",
    "# Ensure the tweet date is in datetime format\n",
    "df['time'] = pd.to_datetime(df['time'])\n",
    "df['date'] = df['time'].dt.date\n",
    "\n",
    "# Group by date to calculate total tweets and total engagement (retweets + favorites)\n",
    "df_daily = df.groupby('date').agg(\n",
    "    total_tweets=('id', 'count'),\n",
    "    total_retweets=('retweet_count', 'sum'),\n",
    "    total_favorites=('favorite_count', 'sum')\n",
    ").reset_index()\n",
    "\n",
    "# Calculate total engagement by adding retweets and favorites\n",
    "df_daily['total_engagement'] = df_daily['total_retweets'] + df_daily['total_favorites']\n",
    "\n",
    "# Calculate mean and standard deviation for tweets and engagement\n",
    "mean_tweets = df_daily['total_tweets'].mean()\n",
    "std_tweets = df_daily['total_tweets'].std()\n",
    "mean_engagement = df_daily['total_engagement'].mean()\n",
    "std_engagement = df_daily['total_engagement'].std()\n",
    "\n",
    "# Define thresholds for identifying critical moments (high tweets and low engagement)\n",
    "high_tweets_threshold = mean_tweets + std_tweets  # High tweets: above mean + std\n",
    "low_engagement_threshold = mean_engagement - std_engagement  # Low engagement: below mean - std\n",
    "\n",
    "# Find the day with a high number of tweets and low engagement\n",
    "critical_moments = df_daily[(df_daily['total_tweets'] > high_tweets_threshold) & \n",
    "                            (df_daily['total_engagement'] < low_engagement_threshold)]\n",
    "\n",
    "# If there are multiple moments, you can select the one with the highest tweet count\n",
    "if not critical_moments.empty:\n",
    "    critical_moment = critical_moments.loc[critical_moments['total_tweets'].idxmax()]\n",
    "    print(\"Critical moment: High number of tweets and low engagement\")\n",
    "    print(critical_moment)\n",
    "else:\n",
    "    print(\"No critical moments found where high tweets and low engagement occurred.\")\n"
   ]
  }
 ],
 "metadata": {
  "kernelspec": {
   "display_name": "SydnUni",
   "language": "python",
   "name": "python3"
  },
  "language_info": {
   "codemirror_mode": {
    "name": "ipython",
    "version": 3
   },
   "file_extension": ".py",
   "mimetype": "text/x-python",
   "name": "python",
   "nbconvert_exporter": "python",
   "pygments_lexer": "ipython3",
   "version": "3.10.6"
  }
 },
 "nbformat": 4,
 "nbformat_minor": 2
}
