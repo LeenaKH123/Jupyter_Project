{
 "cells": [
  {
   "cell_type": "code",
   "execution_count": 4,
   "metadata": {},
   "outputs": [
    {
     "ename": "ModuleNotFoundError",
     "evalue": "No module named 'matplotlib'",
     "output_type": "error",
     "traceback": [
      "\u001b[0;31m---------------------------------------------------------------------------\u001b[0m",
      "\u001b[0;31mModuleNotFoundError\u001b[0m                       Traceback (most recent call last)",
      "Cell \u001b[0;32mIn[4], line 1\u001b[0m\n\u001b[0;32m----> 1\u001b[0m \u001b[38;5;28;01mimport\u001b[39;00m \u001b[38;5;21;01mmatplotlib\u001b[39;00m\u001b[38;5;21;01m.\u001b[39;00m\u001b[38;5;21;01mpyplot\u001b[39;00m \u001b[38;5;28;01mas\u001b[39;00m \u001b[38;5;21;01mplt\u001b[39;00m\n\u001b[1;32m      2\u001b[0m \u001b[38;5;28;01mimport\u001b[39;00m \u001b[38;5;21;01mpandas\u001b[39;00m \u001b[38;5;28;01mas\u001b[39;00m \u001b[38;5;21;01mpd\u001b[39;00m\n\u001b[1;32m      3\u001b[0m \u001b[38;5;28;01mfrom\u001b[39;00m \u001b[38;5;21;01mtextblob\u001b[39;00m \u001b[38;5;28;01mimport\u001b[39;00m TextBlob\n",
      "\u001b[0;31mModuleNotFoundError\u001b[0m: No module named 'matplotlib'"
     ]
    }
   ],
   "source": [
    "import matplotlib.pyplot as plt\n",
    "import pandas as pd\n",
    "from textblob import TextBlob\n",
    "\n",
    "# Example data: Date and tweet text\n",
    "data = {\n",
    "    'date': ['2024-11-01', '2024-11-02', '2024-11-03', '2024-11-04', '2024-11-05'],\n",
    "    'tweet': ['Great day!', 'I am so upset...', 'Feeling positive!', 'The situation is terrible...', 'Optimistic again!']\n",
    "}\n",
    "df = pd.DataFrame(data)\n",
    "df['date'] = pd.to_datetime(df['date'])\n",
    "\n",
    "# Sentiment analysis using TextBlob (simple sentiment scoring)\n",
    "df['sentiment'] = df['tweet'].apply(lambda x: TextBlob(x).sentiment.polarity)\n",
    "\n",
    "# Plot sentiment over time\n",
    "plt.figure(figsize=(10, 5))\n",
    "plt.plot(df['date'], df['sentiment'], marker='o', linestyle='-', color='b', label='Sentiment')\n",
    "plt.xlabel('Date')\n",
    "plt.ylabel('Sentiment')\n",
    "plt.title('Sentiment Over Time')\n",
    "plt.grid(True)\n",
    "\n",
    "# Simulate alternative tweet impact (e.g., simulating a more negative tweet)\n",
    "simulated_tweet = 'This situation is absolutely horrible!'\n",
    "simulated_sentiment = TextBlob(simulated_tweet).sentiment.polarity\n",
    "\n",
    "# Add simulated impact to the plot (e.g., simulate a more negative tweet on a specific date)\n",
    "df_simulated = df.append({'date': pd.to_datetime('2024-11-06'), 'tweet': simulated_tweet, 'sentiment': simulated_sentiment}, ignore_index=True)\n",
    "plt.plot(df_simulated['date'], df_simulated['sentiment'], marker='o', linestyle='--', color='r', label='Simulated Impact')\n",
    "\n",
    "plt.legend()\n",
    "plt.show()\n"
   ]
  }
 ],
 "metadata": {
  "kernelspec": {
   "display_name": "lewagon",
   "language": "python",
   "name": "python3"
  },
  "language_info": {
   "codemirror_mode": {
    "name": "ipython",
    "version": 3
   },
   "file_extension": ".py",
   "mimetype": "text/x-python",
   "name": "python",
   "nbconvert_exporter": "python",
   "pygments_lexer": "ipython3",
   "version": "3.10.6"
  }
 },
 "nbformat": 4,
 "nbformat_minor": 2
}
