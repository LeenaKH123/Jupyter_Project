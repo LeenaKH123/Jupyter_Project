{
 "cells": [
  {
   "cell_type": "code",
   "execution_count": 4,
   "metadata": {},
   "outputs": [
    {
     "name": "stdout",
     "output_type": "stream",
     "text": [
      "Retweet Model Performance:\n",
      "Mean Squared Error: 528844066.0011776\n",
      "R-squared: -2.610538444673564\n",
      "\n",
      "Favorite Model Performance:\n",
      "Mean Squared Error: 1614002398.6463861\n",
      "R-squared: -1.2477063011493859\n"
     ]
    }
   ],
   "source": [
    "import pandas as pd\n",
    "from sklearn.model_selection import train_test_split\n",
    "from sklearn.linear_model import LinearRegression\n",
    "from sklearn.metrics import mean_squared_error, r2_score\n",
    "\n",
    "# Load the prepared dataset\n",
    "data_path = 'tweets_with_calculated_features.xlsx'\n",
    "data = pd.read_excel(data_path)\n",
    "\n",
    "# Define features (X) and target variables (y)\n",
    "X = data[['sentiment', 'text_length', 'hashtag_count', 'mention_count']]\n",
    "y_retweet = data['retweet_count']  # Model for retweets\n",
    "y_favorite = data['favorite_count']  # Model for favorites\n",
    "\n",
    "# Split the data for retweets\n",
    "X_train_rt, X_test_rt, y_train_rt, y_test_rt = train_test_split(X, y_retweet, test_size=0.2, random_state=42)\n",
    "\n",
    "# Train the model for retweet count\n",
    "retweet_model = LinearRegression()\n",
    "retweet_model.fit(X_train_rt, y_train_rt)\n",
    "\n",
    "# Predict and evaluate for retweets\n",
    "y_pred_rt = retweet_model.predict(X_test_rt)\n",
    "mse_rt = mean_squared_error(y_test_rt, y_pred_rt)\n",
    "r2_rt = r2_score(y_test_rt, y_pred_rt)\n",
    "\n",
    "print(\"Retweet Model Performance:\")\n",
    "print(\"Mean Squared Error:\", mse_rt)\n",
    "print(\"R-squared:\", r2_rt)\n",
    "\n",
    "# Repeat for favorites\n",
    "X_train_fav, X_test_fav, y_train_fav, y_test_fav = train_test_split(X, y_favorite, test_size=0.2, random_state=42)\n",
    "\n",
    "# Train the model for favorite count\n",
    "favorite_model = LinearRegression()\n",
    "favorite_model.fit(X_train_fav, y_train_fav)\n",
    "\n",
    "# Predict and evaluate for favorites\n",
    "y_pred_fav = favorite_model.predict(X_test_fav)\n",
    "mse_fav = mean_squared_error(y_test_fav, y_pred_fav)\n",
    "r2_fav = r2_score(y_test_fav, y_pred_fav)\n",
    "\n",
    "print(\"\\nFavorite Model Performance:\")\n",
    "print(\"Mean Squared Error:\", mse_fav)\n",
    "print(\"R-squared:\", r2_fav)\n"
   ]
  }
 ],
 "metadata": {
  "kernelspec": {
   "display_name": "SydnUni",
   "language": "python",
   "name": "python3"
  },
  "language_info": {
   "codemirror_mode": {
    "name": "ipython",
    "version": 3
   },
   "file_extension": ".py",
   "mimetype": "text/x-python",
   "name": "python",
   "nbconvert_exporter": "python",
   "pygments_lexer": "ipython3",
   "version": "3.10.6"
  }
 },
 "nbformat": 4,
 "nbformat_minor": 2
}
