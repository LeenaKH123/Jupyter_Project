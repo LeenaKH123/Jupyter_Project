{
 "cells": [
  {
   "cell_type": "code",
   "execution_count": 8,
   "id": "8dd98d0c",
   "metadata": {},
   "outputs": [
    {
     "data": {
      "application/vnd.plotly.v1+json": {
       "config": {
        "plotlyServerURL": "https://plot.ly"
       },
       "data": [
        {
         "hovertemplate": "<b>%{hovertext}</b><br><br>Industry=Retail<br>Rank=%{x}<br>Revenue (USD millions)=%{y}<br>Revenue growth=%{marker.size}<extra></extra>",
         "hovertext": [
          "Walmart",
          "Costco",
          "Albertsons",
          "Publix",
          "TJX"
         ],
         "legendgroup": "Retail",
         "marker": {
          "color": "#636efa",
          "size": [
           6,
           6.8,
           8,
           4.7,
           2.9
          ],
          "sizemode": "area",
          "sizeref": 0.31475000000000003,
          "symbol": "circle"
         },
         "mode": "markers",
         "name": "Retail",
         "orientation": "v",
         "showlegend": true,
         "type": "scatter",
         "x": [
          1,
          11,
          53,
          72,
          80
         ],
         "xaxis": "x",
         "y": [
          648125,
          242290,
          77650,
          57534,
          49936
         ],
         "yaxis": "y"
        },
        {
         "hovertemplate": "<b>%{hovertext}</b><br><br>Industry=Retail and cloud computing<br>Rank=%{x}<br>Revenue (USD millions)=%{y}<br>Revenue growth=%{marker.size}<extra></extra>",
         "hovertext": [
          "Amazon"
         ],
         "legendgroup": "Retail and cloud computing",
         "marker": {
          "color": "#EF553B",
          "size": [
           11.9
          ],
          "sizemode": "area",
          "sizeref": 0.31475000000000003,
          "symbol": "circle"
         },
         "mode": "markers",
         "name": "Retail and cloud computing",
         "orientation": "v",
         "showlegend": true,
         "type": "scatter",
         "x": [
          2
         ],
         "xaxis": "x",
         "y": [
          574785
         ],
         "yaxis": "y"
        },
        {
         "hovertemplate": "<b>%{hovertext}</b><br><br>Industry=Healthcare<br>Rank=%{x}<br>Revenue (USD millions)=%{y}<br>Revenue growth=%{marker.size}<extra></extra>",
         "hovertext": [
          "UnitedHealth Group",
          "CVS Health",
          "Cardinal Health",
          "Elevance Health",
          "Centene",
          "HCA Healthcare"
         ],
         "legendgroup": "Healthcare",
         "marker": {
          "color": "#00cc96",
          "size": [
           14.6,
           10.9,
           13,
           9.4,
           6.5,
           7.9
          ],
          "sizemode": "area",
          "sizeref": 0.31475000000000003,
          "symbol": "circle"
         },
         "mode": "markers",
         "name": "Healthcare",
         "orientation": "v",
         "showlegend": true,
         "type": "scatter",
         "x": [
          4,
          6,
          14,
          20,
          22,
          61
         ],
         "xaxis": "x",
         "y": [
          371622,
          357776,
          205012,
          171340,
          153999,
          64968
         ],
         "yaxis": "y"
        },
        {
         "hovertemplate": "<b>%{hovertext}</b><br><br>Industry=Conglomerate<br>Rank=%{x}<br>Revenue (USD millions)=%{y}<br>Revenue growth=%{marker.size}<extra></extra>",
         "hovertext": [
          "Berkshire Hathaway",
          "RTX Corporation"
         ],
         "legendgroup": "Conglomerate",
         "marker": {
          "color": "#ab63fa",
          "size": [
           20.7,
           2.8
          ],
          "sizemode": "area",
          "sizeref": 0.31475000000000003,
          "symbol": "circle"
         },
         "mode": "markers",
         "name": "Conglomerate",
         "orientation": "v",
         "showlegend": true,
         "type": "scatter",
         "x": [
          5,
          55
         ],
         "xaxis": "x",
         "y": [
          364482,
          68920
         ],
         "yaxis": "y"
        },
        {
         "hovertemplate": "<b>%{hovertext}</b><br><br>Industry=Technology and cloud computing<br>Rank=%{x}<br>Revenue (USD millions)=%{y}<br>Revenue growth=%{marker.size}<extra></extra>",
         "hovertext": [
          "Alphabet",
          "Microsoft"
         ],
         "legendgroup": "Technology and cloud computing",
         "marker": {
          "color": "#FFA15A",
          "size": [
           8.7,
           6.9
          ],
          "sizemode": "area",
          "sizeref": 0.31475000000000003,
          "symbol": "circle"
         },
         "mode": "markers",
         "name": "Technology and cloud computing",
         "orientation": "v",
         "showlegend": true,
         "type": "scatter",
         "x": [
          8,
          13
         ],
         "xaxis": "x",
         "y": [
          307394,
          211915
         ],
         "yaxis": "y"
        },
        {
         "hovertemplate": "<b>%{hovertext}</b><br><br>Industry=Health<br>Rank=%{x}<br>Revenue (USD millions)=%{y}<br>Revenue growth=%{marker.size}<extra></extra>",
         "hovertext": [
          "McKesson Corporation"
         ],
         "legendgroup": "Health",
         "marker": {
          "color": "#19d3f3",
          "size": [
           4.8
          ],
          "sizemode": "area",
          "sizeref": 0.31475000000000003,
          "symbol": "circle"
         },
         "mode": "markers",
         "name": "Health",
         "orientation": "v",
         "showlegend": true,
         "type": "scatter",
         "x": [
          9
         ],
         "xaxis": "x",
         "y": [
          276711
         ],
         "yaxis": "y"
        },
        {
         "hovertemplate": "<b>%{hovertext}</b><br><br>Industry=Pharmacy wholesale<br>Rank=%{x}<br>Revenue (USD millions)=%{y}<br>Revenue growth=%{marker.size}<extra></extra>",
         "hovertext": [
          "Cencora"
         ],
         "legendgroup": "Pharmacy wholesale",
         "marker": {
          "color": "#FF6692",
          "size": [
           9.9
          ],
          "sizemode": "area",
          "sizeref": 0.31475000000000003,
          "symbol": "circle"
         },
         "mode": "markers",
         "name": "Pharmacy wholesale",
         "orientation": "v",
         "showlegend": true,
         "type": "scatter",
         "x": [
          10
         ],
         "xaxis": "x",
         "y": [
          262173
         ],
         "yaxis": "y"
        },
        {
         "hovertemplate": "<b>%{hovertext}</b><br><br>Industry=Financial services<br>Rank=%{x}<br>Revenue (USD millions)=%{y}<br>Revenue growth=%{marker.size}<extra></extra>",
         "hovertext": [
          "JPMorgan Chase"
         ],
         "legendgroup": "Financial services",
         "marker": {
          "color": "#B6E880",
          "size": [
           54.7
          ],
          "sizemode": "area",
          "sizeref": 0.31475000000000003,
          "symbol": "circle"
         },
         "mode": "markers",
         "name": "Financial services",
         "orientation": "v",
         "showlegend": true,
         "type": "scatter",
         "x": [
          12
         ],
         "xaxis": "x",
         "y": [
          239425
         ],
         "yaxis": "y"
        },
        {
         "hovertemplate": "<b>%{hovertext}</b><br><br>Industry=Health insurance<br>Rank=%{x}<br>Revenue (USD millions)=%{y}<br>Revenue growth=%{marker.size}<extra></extra>",
         "hovertext": [
          "Cigna",
          "Humana"
         ],
         "legendgroup": "Health insurance",
         "marker": {
          "color": "#FF97FF",
          "size": [
           8.2,
           14.5
          ],
          "sizemode": "area",
          "sizeref": 0.31475000000000003,
          "symbol": "circle"
         },
         "mode": "markers",
         "name": "Health insurance",
         "orientation": "v",
         "showlegend": true,
         "type": "scatter",
         "x": [
          16,
          38
         ],
         "xaxis": "x",
         "y": [
          195265,
          106374
         ],
         "yaxis": "y"
        },
        {
         "hovertemplate": "<b>%{hovertext}</b><br><br>Industry=Automotive industry<br>Rank=%{x}<br>Revenue (USD millions)=%{y}<br>Revenue growth=%{marker.size}<extra></extra>",
         "hovertext": [
          "Ford Motor Company",
          "General Motors"
         ],
         "legendgroup": "Automotive industry",
         "marker": {
          "color": "#FECB52",
          "size": [
           11.5,
           9.6
          ],
          "sizemode": "area",
          "sizeref": 0.31475000000000003,
          "symbol": "circle"
         },
         "mode": "markers",
         "name": "Automotive industry",
         "orientation": "v",
         "showlegend": true,
         "type": "scatter",
         "x": [
          17,
          19
         ],
         "xaxis": "x",
         "y": [
          176191,
          171842
         ],
         "yaxis": "y"
        },
        {
         "hovertemplate": "<b>%{hovertext}</b><br><br>Industry=Financials<br>Rank=%{x}<br>Revenue (USD millions)=%{y}<br>Revenue growth=%{marker.size}<extra></extra>",
         "hovertext": [
          "Bank of America",
          "Citigroup",
          "Fannie Mae",
          "Wells Fargo",
          "Goldman Sachs",
          "Freddie Mac",
          "State Farm",
          "Morgan Stanley",
          "Capital One Financial",
          "TIAA"
         ],
         "legendgroup": "Financials",
         "marker": {
          "color": "#636efa",
          "size": [
           49.4,
           55.1,
           16.2,
           39.2,
           57.8,
           24.6,
           16.6,
           45.9,
           29,
           11.8
          ],
          "sizemode": "area",
          "sizeref": 0.31475000000000003,
          "symbol": "circle"
         },
         "mode": "markers",
         "name": "Financials",
         "orientation": "v",
         "showlegend": true,
         "type": "scatter",
         "x": [
          18,
          21,
          27,
          34,
          35,
          36,
          39,
          41,
          91,
          96
         ],
         "xaxis": "x",
         "y": [
          171912,
          156820,
          141240,
          115340,
          108418,
          108050,
          104199,
          96194,
          49484,
          45735
         ],
         "yaxis": "y"
        },
        {
         "hovertemplate": "<b>%{hovertext}</b><br><br>Industry=Pharmaceutical industry<br>Rank=%{x}<br>Revenue (USD millions)=%{y}<br>Revenue growth=%{marker.size}<extra></extra>",
         "hovertext": [
          "Walgreens Boots Alliance",
          "Johnson & Johnson",
          "Merck & Co."
         ],
         "legendgroup": "Pharmaceutical industry",
         "marker": {
          "color": "#EF553B",
          "size": [
           4.8,
           0.3,
           1.4
          ],
          "sizemode": "area",
          "sizeref": 0.31475000000000003,
          "symbol": "circle"
         },
         "mode": "markers",
         "name": "Pharmaceutical industry",
         "orientation": "v",
         "showlegend": true,
         "type": "scatter",
         "x": [
          28,
          42,
          67
         ],
         "xaxis": "x",
         "y": [
          139081,
          95195,
          60115
         ],
         "yaxis": "y"
        },
        {
         "hovertemplate": "<b>%{hovertext}</b><br><br>Industry=Technology<br>Rank=%{x}<br>Revenue (USD millions)=%{y}<br>Revenue growth=%{marker.size}<extra></extra>",
         "hovertext": [
          "Meta Platforms",
          "Nvidia",
          "Oracle Corporation"
         ],
         "legendgroup": "Technology",
         "marker": {
          "color": "#00cc96",
          "size": [
           15.7,
           125.9,
           17.7
          ],
          "sizemode": "area",
          "sizeref": 0.31475000000000003,
          "symbol": "circle"
         },
         "mode": "markers",
         "name": "Technology",
         "orientation": "v",
         "showlegend": true,
         "type": "scatter",
         "x": [
          30,
          65,
          89
         ],
         "xaxis": "x",
         "y": [
          134902,
          60922,
          49954
         ],
         "yaxis": "y"
        },
        {
         "hovertemplate": "<b>%{hovertext}</b><br><br>Industry=Conglomerate and telecommunications<br>Rank=%{x}<br>Revenue (USD millions)=%{y}<br>Revenue growth=%{marker.size}<extra></extra>",
         "hovertext": [
          "AT&T"
         ],
         "legendgroup": "Conglomerate and telecommunications",
         "marker": {
          "color": "#ab63fa",
          "size": [
           1.4
          ],
          "sizemode": "area",
          "sizeref": 0.31475000000000003,
          "symbol": "circle"
         },
         "mode": "markers",
         "name": "Conglomerate and telecommunications",
         "orientation": "v",
         "showlegend": true,
         "type": "scatter",
         "x": [
          32
         ],
         "xaxis": "x",
         "y": [
          122428
         ],
         "yaxis": "y"
        },
        {
         "hovertemplate": "<b>%{hovertext}</b><br><br>Industry=Telecommunications<br>Rank=%{x}<br>Revenue (USD millions)=%{y}<br>Revenue growth=%{marker.size}<extra></extra>",
         "hovertext": [
          "Comcast",
          "Charter Communications"
         ],
         "legendgroup": "Telecommunications",
         "marker": {
          "color": "#FFA15A",
          "size": [
           0.1,
           1.1
          ],
          "sizemode": "area",
          "sizeref": 0.31475000000000003,
          "symbol": "circle"
         },
         "mode": "markers",
         "name": "Telecommunications",
         "orientation": "v",
         "showlegend": true,
         "type": "scatter",
         "x": [
          33,
          76
         ],
         "xaxis": "x",
         "y": [
          121572,
          54607
         ],
         "yaxis": "y"
        },
        {
         "hovertemplate": "<b>%{hovertext}</b><br><br>Industry=Automotive and energy<br>Rank=%{x}<br>Revenue (USD millions)=%{y}<br>Revenue growth=%{marker.size}<extra></extra>",
         "hovertext": [
          "Tesla"
         ],
         "legendgroup": "Automotive and energy",
         "marker": {
          "color": "#19d3f3",
          "size": [
           18.8
          ],
          "sizemode": "area",
          "sizeref": 0.31475000000000003,
          "symbol": "circle"
         },
         "mode": "markers",
         "name": "Automotive and energy",
         "orientation": "v",
         "showlegend": true,
         "type": "scatter",
         "x": [
          40
         ],
         "xaxis": "x",
         "y": [
          96773
         ],
         "yaxis": "y"
        },
        {
         "hovertemplate": "<b>%{hovertext}</b><br><br>Industry=Beverage<br>Rank=%{x}<br>Revenue (USD millions)=%{y}<br>Revenue growth=%{marker.size}<extra></extra>",
         "hovertext": [
          "PepsiCo",
          "Coca-Cola"
         ],
         "legendgroup": "Beverage",
         "marker": {
          "color": "#FF6692",
          "size": [
           5.9,
           6.4
          ],
          "sizemode": "area",
          "sizeref": 0.31475000000000003,
          "symbol": "circle"
         },
         "mode": "markers",
         "name": "Beverage",
         "orientation": "v",
         "showlegend": true,
         "type": "scatter",
         "x": [
          44,
          95
         ],
         "xaxis": "x",
         "y": [
          91471,
          45754
         ],
         "yaxis": "y"
        },
        {
         "hovertemplate": "<b>%{hovertext}</b><br><br>Industry=Media<br>Rank=%{x}<br>Revenue (USD millions)=%{y}<br>Revenue growth=%{marker.size}<extra></extra>",
         "hovertext": [
          "The Walt Disney Company"
         ],
         "legendgroup": "Media",
         "marker": {
          "color": "#B6E880",
          "size": [
           7.5
          ],
          "sizemode": "area",
          "sizeref": 0.31475000000000003,
          "symbol": "circle"
         },
         "mode": "markers",
         "name": "Media",
         "orientation": "v",
         "showlegend": true,
         "type": "scatter",
         "x": [
          47
         ],
         "xaxis": "x",
         "y": [
          88898
         ],
         "yaxis": "y"
        },
        {
         "hovertemplate": "<b>%{hovertext}</b><br><br>Industry=Consumer products manufacturing<br>Rank=%{x}<br>Revenue (USD millions)=%{y}<br>Revenue growth=%{marker.size}<extra></extra>",
         "hovertext": [
          "Procter & Gamble"
         ],
         "legendgroup": "Consumer products manufacturing",
         "marker": {
          "color": "#FF97FF",
          "size": [
           2.3
          ],
          "sizemode": "area",
          "sizeref": 0.31475000000000003,
          "symbol": "circle"
         },
         "mode": "markers",
         "name": "Consumer products manufacturing",
         "orientation": "v",
         "showlegend": true,
         "type": "scatter",
         "x": [
          50
         ],
         "xaxis": "x",
         "y": [
          82006
         ],
         "yaxis": "y"
        },
        {
         "hovertemplate": "<b>%{hovertext}</b><br><br>Industry=Aerospace and defense<br>Rank=%{x}<br>Revenue (USD millions)=%{y}<br>Revenue growth=%{marker.size}<extra></extra>",
         "hovertext": [
          "Boeing",
          "Lockheed Martin"
         ],
         "legendgroup": "Aerospace and defense",
         "marker": {
          "color": "#FECB52",
          "size": [
           16.8,
           2.4
          ],
          "sizemode": "area",
          "sizeref": 0.31475000000000003,
          "symbol": "circle"
         },
         "mode": "markers",
         "name": "Aerospace and defense",
         "orientation": "v",
         "showlegend": true,
         "type": "scatter",
         "x": [
          52,
          57
         ],
         "xaxis": "x",
         "y": [
          77794,
          67571
         ],
         "yaxis": "y"
        },
        {
         "hovertemplate": "<b>%{hovertext}</b><br><br>Industry=Food service<br>Rank=%{x}<br>Revenue (USD millions)=%{y}<br>Revenue growth=%{marker.size}<extra></extra>",
         "hovertext": [
          "Sysco"
         ],
         "legendgroup": "Food service",
         "marker": {
          "color": "#636efa",
          "size": [
           11.2
          ],
          "sizemode": "area",
          "sizeref": 0.31475000000000003,
          "symbol": "circle"
         },
         "mode": "markers",
         "name": "Food service",
         "orientation": "v",
         "showlegend": true,
         "type": "scatter",
         "x": [
          54
         ],
         "xaxis": "x",
         "y": [
          76325
         ],
         "yaxis": "y"
        },
        {
         "hovertemplate": "<b>%{hovertext}</b><br><br>Industry=Financial<br>Rank=%{x}<br>Revenue (USD millions)=%{y}<br>Revenue growth=%{marker.size}<extra></extra>",
         "hovertext": [
          "American Express",
          "Nationwide Mutual Insurance Company"
         ],
         "legendgroup": "Financial",
         "marker": {
          "color": "#EF553B",
          "size": [
           21.1,
           6.1
          ],
          "sizemode": "area",
          "sizeref": 0.31475000000000003,
          "symbol": "circle"
         },
         "mode": "markers",
         "name": "Financial",
         "orientation": "v",
         "showlegend": true,
         "type": "scatter",
         "x": [
          58,
          75
         ],
         "xaxis": "x",
         "y": [
          67364,
          54609
         ],
         "yaxis": "y"
        },
        {
         "hovertemplate": "<b>%{hovertext}</b><br><br>Industry=Machinery<br>Rank=%{x}<br>Revenue (USD millions)=%{y}<br>Revenue growth=%{marker.size}<extra></extra>",
         "hovertext": [
          "Caterpillar"
         ],
         "legendgroup": "Machinery",
         "marker": {
          "color": "#00cc96",
          "size": [
           12.8
          ],
          "sizemode": "area",
          "sizeref": 0.31475000000000003,
          "symbol": "circle"
         },
         "mode": "markers",
         "name": "Machinery",
         "orientation": "v",
         "showlegend": true,
         "type": "scatter",
         "x": [
          59
         ],
         "xaxis": "x",
         "y": [
          67060
         ],
         "yaxis": "y"
        },
        {
         "hovertemplate": "<b>%{hovertext}</b><br><br>Industry=Insurance<br>Rank=%{x}<br>Revenue (USD millions)=%{y}<br>Revenue growth=%{marker.size}<extra></extra>",
         "hovertext": [
          "Progressive Corporation",
          "Allstate",
          "New York Life Insurance Company",
          "Liberty Mutual"
         ],
         "legendgroup": "Insurance",
         "marker": {
          "color": "#ab63fa",
          "size": [
           25.2,
           11.1,
           14.2,
           5.3
          ],
          "sizemode": "area",
          "sizeref": 0.31475000000000003,
          "symbol": "circle"
         },
         "mode": "markers",
         "name": "Insurance",
         "orientation": "v",
         "showlegend": true,
         "type": "scatter",
         "x": [
          62,
          73,
          78,
          87
         ],
         "xaxis": "x",
         "y": [
          62109,
          57094,
          54317,
          52612
         ],
         "yaxis": "y"
        },
        {
         "hovertemplate": "<b>%{hovertext}</b><br><br>Industry=Agriculture manufacturing<br>Rank=%{x}<br>Revenue (USD millions)=%{y}<br>Revenue growth=%{marker.size}<extra></extra>",
         "hovertext": [
          "John Deere"
         ],
         "legendgroup": "Agriculture manufacturing",
         "marker": {
          "color": "#FFA15A",
          "size": [
           16.5
          ],
          "sizemode": "area",
          "sizeref": 0.31475000000000003,
          "symbol": "circle"
         },
         "mode": "markers",
         "name": "Agriculture manufacturing",
         "orientation": "v",
         "showlegend": true,
         "type": "scatter",
         "x": [
          64
         ],
         "xaxis": "x",
         "y": [
          61251
         ],
         "yaxis": "y"
        },
        {
         "hovertemplate": "<b>%{hovertext}</b><br><br>Industry=Airline<br>Rank=%{x}<br>Revenue (USD millions)=%{y}<br>Revenue growth=%{marker.size}<extra></extra>",
         "hovertext": [
          "Delta Air Lines",
          "United Airlines",
          "American Airlines"
         ],
         "legendgroup": "Airline",
         "marker": {
          "color": "#19d3f3",
          "size": [
           14.8,
           19.5,
           7.8
          ],
          "sizemode": "area",
          "sizeref": 0.31475000000000003,
          "symbol": "circle"
         },
         "mode": "markers",
         "name": "Airline",
         "orientation": "v",
         "showlegend": true,
         "type": "scatter",
         "x": [
          70,
          83,
          86
         ],
         "xaxis": "x",
         "y": [
          58048,
          53717,
          52788
         ],
         "yaxis": "y"
        },
        {
         "hovertemplate": "<b>%{hovertext}</b><br><br>Industry=Telecom hardware manufacturing<br>Rank=%{x}<br>Revenue (USD millions)=%{y}<br>Revenue growth=%{marker.size}<extra></extra>",
         "hovertext": [
          "Cisco"
         ],
         "legendgroup": "Telecom hardware manufacturing",
         "marker": {
          "color": "#FF6692",
          "size": [
           10.6
          ],
          "sizemode": "area",
          "sizeref": 0.31475000000000003,
          "symbol": "circle"
         },
         "mode": "markers",
         "name": "Telecom hardware manufacturing",
         "orientation": "v",
         "showlegend": true,
         "type": "scatter",
         "x": [
          74
         ],
         "xaxis": "x",
         "y": [
          56998
         ],
         "yaxis": "y"
        },
        {
         "hovertemplate": "<b>%{hovertext}</b><br><br>Industry=Food processing<br>Rank=%{x}<br>Revenue (USD millions)=%{y}<br>Revenue growth=%{marker.size}<extra></extra>",
         "hovertext": [
          "Performance Food Group"
         ],
         "legendgroup": "Food processing",
         "marker": {
          "color": "#B6E880",
          "size": [
           13.1
          ],
          "sizemode": "area",
          "sizeref": 0.31475000000000003,
          "symbol": "circle"
         },
         "mode": "markers",
         "name": "Food processing",
         "orientation": "v",
         "showlegend": true,
         "type": "scatter",
         "x": [
          84
         ],
         "xaxis": "x",
         "y": [
          53355
         ],
         "yaxis": "y"
        },
        {
         "hovertemplate": "<b>%{hovertext}</b><br><br>Industry=Apparel<br>Rank=%{x}<br>Revenue (USD millions)=%{y}<br>Revenue growth=%{marker.size}<extra></extra>",
         "hovertext": [
          "Nike"
         ],
         "legendgroup": "Apparel",
         "marker": {
          "color": "#FF97FF",
          "size": [
           9.6
          ],
          "sizemode": "area",
          "sizeref": 0.31475000000000003,
          "symbol": "circle"
         },
         "mode": "markers",
         "name": "Apparel",
         "orientation": "v",
         "showlegend": true,
         "type": "scatter",
         "x": [
          88
         ],
         "xaxis": "x",
         "y": [
          51217
         ],
         "yaxis": "y"
        }
       ],
       "layout": {
        "legend": {
         "itemsizing": "constant",
         "title": {
          "text": "Industry"
         },
         "tracegroupgap": 0
        },
        "template": {
         "data": {
          "bar": [
           {
            "error_x": {
             "color": "#2a3f5f"
            },
            "error_y": {
             "color": "#2a3f5f"
            },
            "marker": {
             "line": {
              "color": "#E5ECF6",
              "width": 0.5
             },
             "pattern": {
              "fillmode": "overlay",
              "size": 10,
              "solidity": 0.2
             }
            },
            "type": "bar"
           }
          ],
          "barpolar": [
           {
            "marker": {
             "line": {
              "color": "#E5ECF6",
              "width": 0.5
             },
             "pattern": {
              "fillmode": "overlay",
              "size": 10,
              "solidity": 0.2
             }
            },
            "type": "barpolar"
           }
          ],
          "carpet": [
           {
            "aaxis": {
             "endlinecolor": "#2a3f5f",
             "gridcolor": "white",
             "linecolor": "white",
             "minorgridcolor": "white",
             "startlinecolor": "#2a3f5f"
            },
            "baxis": {
             "endlinecolor": "#2a3f5f",
             "gridcolor": "white",
             "linecolor": "white",
             "minorgridcolor": "white",
             "startlinecolor": "#2a3f5f"
            },
            "type": "carpet"
           }
          ],
          "choropleth": [
           {
            "colorbar": {
             "outlinewidth": 0,
             "ticks": ""
            },
            "type": "choropleth"
           }
          ],
          "contour": [
           {
            "colorbar": {
             "outlinewidth": 0,
             "ticks": ""
            },
            "colorscale": [
             [
              0,
              "#0d0887"
             ],
             [
              0.1111111111111111,
              "#46039f"
             ],
             [
              0.2222222222222222,
              "#7201a8"
             ],
             [
              0.3333333333333333,
              "#9c179e"
             ],
             [
              0.4444444444444444,
              "#bd3786"
             ],
             [
              0.5555555555555556,
              "#d8576b"
             ],
             [
              0.6666666666666666,
              "#ed7953"
             ],
             [
              0.7777777777777778,
              "#fb9f3a"
             ],
             [
              0.8888888888888888,
              "#fdca26"
             ],
             [
              1,
              "#f0f921"
             ]
            ],
            "type": "contour"
           }
          ],
          "contourcarpet": [
           {
            "colorbar": {
             "outlinewidth": 0,
             "ticks": ""
            },
            "type": "contourcarpet"
           }
          ],
          "heatmap": [
           {
            "colorbar": {
             "outlinewidth": 0,
             "ticks": ""
            },
            "colorscale": [
             [
              0,
              "#0d0887"
             ],
             [
              0.1111111111111111,
              "#46039f"
             ],
             [
              0.2222222222222222,
              "#7201a8"
             ],
             [
              0.3333333333333333,
              "#9c179e"
             ],
             [
              0.4444444444444444,
              "#bd3786"
             ],
             [
              0.5555555555555556,
              "#d8576b"
             ],
             [
              0.6666666666666666,
              "#ed7953"
             ],
             [
              0.7777777777777778,
              "#fb9f3a"
             ],
             [
              0.8888888888888888,
              "#fdca26"
             ],
             [
              1,
              "#f0f921"
             ]
            ],
            "type": "heatmap"
           }
          ],
          "heatmapgl": [
           {
            "colorbar": {
             "outlinewidth": 0,
             "ticks": ""
            },
            "colorscale": [
             [
              0,
              "#0d0887"
             ],
             [
              0.1111111111111111,
              "#46039f"
             ],
             [
              0.2222222222222222,
              "#7201a8"
             ],
             [
              0.3333333333333333,
              "#9c179e"
             ],
             [
              0.4444444444444444,
              "#bd3786"
             ],
             [
              0.5555555555555556,
              "#d8576b"
             ],
             [
              0.6666666666666666,
              "#ed7953"
             ],
             [
              0.7777777777777778,
              "#fb9f3a"
             ],
             [
              0.8888888888888888,
              "#fdca26"
             ],
             [
              1,
              "#f0f921"
             ]
            ],
            "type": "heatmapgl"
           }
          ],
          "histogram": [
           {
            "marker": {
             "pattern": {
              "fillmode": "overlay",
              "size": 10,
              "solidity": 0.2
             }
            },
            "type": "histogram"
           }
          ],
          "histogram2d": [
           {
            "colorbar": {
             "outlinewidth": 0,
             "ticks": ""
            },
            "colorscale": [
             [
              0,
              "#0d0887"
             ],
             [
              0.1111111111111111,
              "#46039f"
             ],
             [
              0.2222222222222222,
              "#7201a8"
             ],
             [
              0.3333333333333333,
              "#9c179e"
             ],
             [
              0.4444444444444444,
              "#bd3786"
             ],
             [
              0.5555555555555556,
              "#d8576b"
             ],
             [
              0.6666666666666666,
              "#ed7953"
             ],
             [
              0.7777777777777778,
              "#fb9f3a"
             ],
             [
              0.8888888888888888,
              "#fdca26"
             ],
             [
              1,
              "#f0f921"
             ]
            ],
            "type": "histogram2d"
           }
          ],
          "histogram2dcontour": [
           {
            "colorbar": {
             "outlinewidth": 0,
             "ticks": ""
            },
            "colorscale": [
             [
              0,
              "#0d0887"
             ],
             [
              0.1111111111111111,
              "#46039f"
             ],
             [
              0.2222222222222222,
              "#7201a8"
             ],
             [
              0.3333333333333333,
              "#9c179e"
             ],
             [
              0.4444444444444444,
              "#bd3786"
             ],
             [
              0.5555555555555556,
              "#d8576b"
             ],
             [
              0.6666666666666666,
              "#ed7953"
             ],
             [
              0.7777777777777778,
              "#fb9f3a"
             ],
             [
              0.8888888888888888,
              "#fdca26"
             ],
             [
              1,
              "#f0f921"
             ]
            ],
            "type": "histogram2dcontour"
           }
          ],
          "mesh3d": [
           {
            "colorbar": {
             "outlinewidth": 0,
             "ticks": ""
            },
            "type": "mesh3d"
           }
          ],
          "parcoords": [
           {
            "line": {
             "colorbar": {
              "outlinewidth": 0,
              "ticks": ""
             }
            },
            "type": "parcoords"
           }
          ],
          "pie": [
           {
            "automargin": true,
            "type": "pie"
           }
          ],
          "scatter": [
           {
            "fillpattern": {
             "fillmode": "overlay",
             "size": 10,
             "solidity": 0.2
            },
            "type": "scatter"
           }
          ],
          "scatter3d": [
           {
            "line": {
             "colorbar": {
              "outlinewidth": 0,
              "ticks": ""
             }
            },
            "marker": {
             "colorbar": {
              "outlinewidth": 0,
              "ticks": ""
             }
            },
            "type": "scatter3d"
           }
          ],
          "scattercarpet": [
           {
            "marker": {
             "colorbar": {
              "outlinewidth": 0,
              "ticks": ""
             }
            },
            "type": "scattercarpet"
           }
          ],
          "scattergeo": [
           {
            "marker": {
             "colorbar": {
              "outlinewidth": 0,
              "ticks": ""
             }
            },
            "type": "scattergeo"
           }
          ],
          "scattergl": [
           {
            "marker": {
             "colorbar": {
              "outlinewidth": 0,
              "ticks": ""
             }
            },
            "type": "scattergl"
           }
          ],
          "scattermapbox": [
           {
            "marker": {
             "colorbar": {
              "outlinewidth": 0,
              "ticks": ""
             }
            },
            "type": "scattermapbox"
           }
          ],
          "scatterpolar": [
           {
            "marker": {
             "colorbar": {
              "outlinewidth": 0,
              "ticks": ""
             }
            },
            "type": "scatterpolar"
           }
          ],
          "scatterpolargl": [
           {
            "marker": {
             "colorbar": {
              "outlinewidth": 0,
              "ticks": ""
             }
            },
            "type": "scatterpolargl"
           }
          ],
          "scatterternary": [
           {
            "marker": {
             "colorbar": {
              "outlinewidth": 0,
              "ticks": ""
             }
            },
            "type": "scatterternary"
           }
          ],
          "surface": [
           {
            "colorbar": {
             "outlinewidth": 0,
             "ticks": ""
            },
            "colorscale": [
             [
              0,
              "#0d0887"
             ],
             [
              0.1111111111111111,
              "#46039f"
             ],
             [
              0.2222222222222222,
              "#7201a8"
             ],
             [
              0.3333333333333333,
              "#9c179e"
             ],
             [
              0.4444444444444444,
              "#bd3786"
             ],
             [
              0.5555555555555556,
              "#d8576b"
             ],
             [
              0.6666666666666666,
              "#ed7953"
             ],
             [
              0.7777777777777778,
              "#fb9f3a"
             ],
             [
              0.8888888888888888,
              "#fdca26"
             ],
             [
              1,
              "#f0f921"
             ]
            ],
            "type": "surface"
           }
          ],
          "table": [
           {
            "cells": {
             "fill": {
              "color": "#EBF0F8"
             },
             "line": {
              "color": "white"
             }
            },
            "header": {
             "fill": {
              "color": "#C8D4E3"
             },
             "line": {
              "color": "white"
             }
            },
            "type": "table"
           }
          ]
         },
         "layout": {
          "annotationdefaults": {
           "arrowcolor": "#2a3f5f",
           "arrowhead": 0,
           "arrowwidth": 1
          },
          "autotypenumbers": "strict",
          "coloraxis": {
           "colorbar": {
            "outlinewidth": 0,
            "ticks": ""
           }
          },
          "colorscale": {
           "diverging": [
            [
             0,
             "#8e0152"
            ],
            [
             0.1,
             "#c51b7d"
            ],
            [
             0.2,
             "#de77ae"
            ],
            [
             0.3,
             "#f1b6da"
            ],
            [
             0.4,
             "#fde0ef"
            ],
            [
             0.5,
             "#f7f7f7"
            ],
            [
             0.6,
             "#e6f5d0"
            ],
            [
             0.7,
             "#b8e186"
            ],
            [
             0.8,
             "#7fbc41"
            ],
            [
             0.9,
             "#4d9221"
            ],
            [
             1,
             "#276419"
            ]
           ],
           "sequential": [
            [
             0,
             "#0d0887"
            ],
            [
             0.1111111111111111,
             "#46039f"
            ],
            [
             0.2222222222222222,
             "#7201a8"
            ],
            [
             0.3333333333333333,
             "#9c179e"
            ],
            [
             0.4444444444444444,
             "#bd3786"
            ],
            [
             0.5555555555555556,
             "#d8576b"
            ],
            [
             0.6666666666666666,
             "#ed7953"
            ],
            [
             0.7777777777777778,
             "#fb9f3a"
            ],
            [
             0.8888888888888888,
             "#fdca26"
            ],
            [
             1,
             "#f0f921"
            ]
           ],
           "sequentialminus": [
            [
             0,
             "#0d0887"
            ],
            [
             0.1111111111111111,
             "#46039f"
            ],
            [
             0.2222222222222222,
             "#7201a8"
            ],
            [
             0.3333333333333333,
             "#9c179e"
            ],
            [
             0.4444444444444444,
             "#bd3786"
            ],
            [
             0.5555555555555556,
             "#d8576b"
            ],
            [
             0.6666666666666666,
             "#ed7953"
            ],
            [
             0.7777777777777778,
             "#fb9f3a"
            ],
            [
             0.8888888888888888,
             "#fdca26"
            ],
            [
             1,
             "#f0f921"
            ]
           ]
          },
          "colorway": [
           "#636efa",
           "#EF553B",
           "#00cc96",
           "#ab63fa",
           "#FFA15A",
           "#19d3f3",
           "#FF6692",
           "#B6E880",
           "#FF97FF",
           "#FECB52"
          ],
          "font": {
           "color": "#2a3f5f"
          },
          "geo": {
           "bgcolor": "white",
           "lakecolor": "white",
           "landcolor": "#E5ECF6",
           "showlakes": true,
           "showland": true,
           "subunitcolor": "white"
          },
          "hoverlabel": {
           "align": "left"
          },
          "hovermode": "closest",
          "mapbox": {
           "style": "light"
          },
          "paper_bgcolor": "white",
          "plot_bgcolor": "#E5ECF6",
          "polar": {
           "angularaxis": {
            "gridcolor": "white",
            "linecolor": "white",
            "ticks": ""
           },
           "bgcolor": "#E5ECF6",
           "radialaxis": {
            "gridcolor": "white",
            "linecolor": "white",
            "ticks": ""
           }
          },
          "scene": {
           "xaxis": {
            "backgroundcolor": "#E5ECF6",
            "gridcolor": "white",
            "gridwidth": 2,
            "linecolor": "white",
            "showbackground": true,
            "ticks": "",
            "zerolinecolor": "white"
           },
           "yaxis": {
            "backgroundcolor": "#E5ECF6",
            "gridcolor": "white",
            "gridwidth": 2,
            "linecolor": "white",
            "showbackground": true,
            "ticks": "",
            "zerolinecolor": "white"
           },
           "zaxis": {
            "backgroundcolor": "#E5ECF6",
            "gridcolor": "white",
            "gridwidth": 2,
            "linecolor": "white",
            "showbackground": true,
            "ticks": "",
            "zerolinecolor": "white"
           }
          },
          "shapedefaults": {
           "line": {
            "color": "#2a3f5f"
           }
          },
          "ternary": {
           "aaxis": {
            "gridcolor": "white",
            "linecolor": "white",
            "ticks": ""
           },
           "baxis": {
            "gridcolor": "white",
            "linecolor": "white",
            "ticks": ""
           },
           "bgcolor": "#E5ECF6",
           "caxis": {
            "gridcolor": "white",
            "linecolor": "white",
            "ticks": ""
           }
          },
          "title": {
           "x": 0.05
          },
          "xaxis": {
           "automargin": true,
           "gridcolor": "white",
           "linecolor": "white",
           "ticks": "",
           "title": {
            "standoff": 15
           },
           "zerolinecolor": "white",
           "zerolinewidth": 2
          },
          "yaxis": {
           "automargin": true,
           "gridcolor": "white",
           "linecolor": "white",
           "ticks": "",
           "title": {
            "standoff": 15
           },
           "zerolinecolor": "white",
           "zerolinewidth": 2
          }
         }
        },
        "title": {
         "text": "Scatter Plot of Companies"
        },
        "xaxis": {
         "anchor": "y",
         "domain": [
          0,
          1
         ],
         "title": {
          "text": "Rank"
         }
        },
        "yaxis": {
         "anchor": "x",
         "domain": [
          0,
          1
         ],
         "title": {
          "text": "Revenue (USD millions)"
         }
        }
       }
      },
      "text/html": [
       "<div>                            <div id=\"7638c880-eef7-422c-a08b-3cae0e750ebe\" class=\"plotly-graph-div\" style=\"height:525px; width:100%;\"></div>            <script type=\"text/javascript\">                require([\"plotly\"], function(Plotly) {                    window.PLOTLYENV=window.PLOTLYENV || {};                                    if (document.getElementById(\"7638c880-eef7-422c-a08b-3cae0e750ebe\")) {                    Plotly.newPlot(                        \"7638c880-eef7-422c-a08b-3cae0e750ebe\",                        [{\"hovertemplate\":\"<b>%{hovertext}</b><br><br>Industry=Retail<br>Rank=%{x}<br>Revenue (USD millions)=%{y}<br>Revenue growth=%{marker.size}<extra></extra>\",\"hovertext\":[\"Walmart\",\"Costco\",\"Albertsons\",\"Publix\",\"TJX\"],\"legendgroup\":\"Retail\",\"marker\":{\"color\":\"#636efa\",\"size\":[6.0,6.8,8.0,4.7,2.9],\"sizemode\":\"area\",\"sizeref\":0.31475000000000003,\"symbol\":\"circle\"},\"mode\":\"markers\",\"name\":\"Retail\",\"orientation\":\"v\",\"showlegend\":true,\"x\":[1,11,53,72,80],\"xaxis\":\"x\",\"y\":[648125,242290,77650,57534,49936],\"yaxis\":\"y\",\"type\":\"scatter\"},{\"hovertemplate\":\"<b>%{hovertext}</b><br><br>Industry=Retail and cloud computing<br>Rank=%{x}<br>Revenue (USD millions)=%{y}<br>Revenue growth=%{marker.size}<extra></extra>\",\"hovertext\":[\"Amazon\"],\"legendgroup\":\"Retail and cloud computing\",\"marker\":{\"color\":\"#EF553B\",\"size\":[11.9],\"sizemode\":\"area\",\"sizeref\":0.31475000000000003,\"symbol\":\"circle\"},\"mode\":\"markers\",\"name\":\"Retail and cloud computing\",\"orientation\":\"v\",\"showlegend\":true,\"x\":[2],\"xaxis\":\"x\",\"y\":[574785],\"yaxis\":\"y\",\"type\":\"scatter\"},{\"hovertemplate\":\"<b>%{hovertext}</b><br><br>Industry=Healthcare<br>Rank=%{x}<br>Revenue (USD millions)=%{y}<br>Revenue growth=%{marker.size}<extra></extra>\",\"hovertext\":[\"UnitedHealth Group\",\"CVS Health\",\"Cardinal Health\",\"Elevance Health\",\"Centene\",\"HCA Healthcare\"],\"legendgroup\":\"Healthcare\",\"marker\":{\"color\":\"#00cc96\",\"size\":[14.6,10.9,13.0,9.4,6.5,7.9],\"sizemode\":\"area\",\"sizeref\":0.31475000000000003,\"symbol\":\"circle\"},\"mode\":\"markers\",\"name\":\"Healthcare\",\"orientation\":\"v\",\"showlegend\":true,\"x\":[4,6,14,20,22,61],\"xaxis\":\"x\",\"y\":[371622,357776,205012,171340,153999,64968],\"yaxis\":\"y\",\"type\":\"scatter\"},{\"hovertemplate\":\"<b>%{hovertext}</b><br><br>Industry=Conglomerate<br>Rank=%{x}<br>Revenue (USD millions)=%{y}<br>Revenue growth=%{marker.size}<extra></extra>\",\"hovertext\":[\"Berkshire Hathaway\",\"RTX Corporation\"],\"legendgroup\":\"Conglomerate\",\"marker\":{\"color\":\"#ab63fa\",\"size\":[20.7,2.8],\"sizemode\":\"area\",\"sizeref\":0.31475000000000003,\"symbol\":\"circle\"},\"mode\":\"markers\",\"name\":\"Conglomerate\",\"orientation\":\"v\",\"showlegend\":true,\"x\":[5,55],\"xaxis\":\"x\",\"y\":[364482,68920],\"yaxis\":\"y\",\"type\":\"scatter\"},{\"hovertemplate\":\"<b>%{hovertext}</b><br><br>Industry=Technology and cloud computing<br>Rank=%{x}<br>Revenue (USD millions)=%{y}<br>Revenue growth=%{marker.size}<extra></extra>\",\"hovertext\":[\"Alphabet\",\"Microsoft\"],\"legendgroup\":\"Technology and cloud computing\",\"marker\":{\"color\":\"#FFA15A\",\"size\":[8.7,6.9],\"sizemode\":\"area\",\"sizeref\":0.31475000000000003,\"symbol\":\"circle\"},\"mode\":\"markers\",\"name\":\"Technology and cloud computing\",\"orientation\":\"v\",\"showlegend\":true,\"x\":[8,13],\"xaxis\":\"x\",\"y\":[307394,211915],\"yaxis\":\"y\",\"type\":\"scatter\"},{\"hovertemplate\":\"<b>%{hovertext}</b><br><br>Industry=Health<br>Rank=%{x}<br>Revenue (USD millions)=%{y}<br>Revenue growth=%{marker.size}<extra></extra>\",\"hovertext\":[\"McKesson Corporation\"],\"legendgroup\":\"Health\",\"marker\":{\"color\":\"#19d3f3\",\"size\":[4.8],\"sizemode\":\"area\",\"sizeref\":0.31475000000000003,\"symbol\":\"circle\"},\"mode\":\"markers\",\"name\":\"Health\",\"orientation\":\"v\",\"showlegend\":true,\"x\":[9],\"xaxis\":\"x\",\"y\":[276711],\"yaxis\":\"y\",\"type\":\"scatter\"},{\"hovertemplate\":\"<b>%{hovertext}</b><br><br>Industry=Pharmacy wholesale<br>Rank=%{x}<br>Revenue (USD millions)=%{y}<br>Revenue growth=%{marker.size}<extra></extra>\",\"hovertext\":[\"Cencora\"],\"legendgroup\":\"Pharmacy wholesale\",\"marker\":{\"color\":\"#FF6692\",\"size\":[9.9],\"sizemode\":\"area\",\"sizeref\":0.31475000000000003,\"symbol\":\"circle\"},\"mode\":\"markers\",\"name\":\"Pharmacy wholesale\",\"orientation\":\"v\",\"showlegend\":true,\"x\":[10],\"xaxis\":\"x\",\"y\":[262173],\"yaxis\":\"y\",\"type\":\"scatter\"},{\"hovertemplate\":\"<b>%{hovertext}</b><br><br>Industry=Financial services<br>Rank=%{x}<br>Revenue (USD millions)=%{y}<br>Revenue growth=%{marker.size}<extra></extra>\",\"hovertext\":[\"JPMorgan Chase\"],\"legendgroup\":\"Financial services\",\"marker\":{\"color\":\"#B6E880\",\"size\":[54.7],\"sizemode\":\"area\",\"sizeref\":0.31475000000000003,\"symbol\":\"circle\"},\"mode\":\"markers\",\"name\":\"Financial services\",\"orientation\":\"v\",\"showlegend\":true,\"x\":[12],\"xaxis\":\"x\",\"y\":[239425],\"yaxis\":\"y\",\"type\":\"scatter\"},{\"hovertemplate\":\"<b>%{hovertext}</b><br><br>Industry=Health insurance<br>Rank=%{x}<br>Revenue (USD millions)=%{y}<br>Revenue growth=%{marker.size}<extra></extra>\",\"hovertext\":[\"Cigna\",\"Humana\"],\"legendgroup\":\"Health insurance\",\"marker\":{\"color\":\"#FF97FF\",\"size\":[8.2,14.5],\"sizemode\":\"area\",\"sizeref\":0.31475000000000003,\"symbol\":\"circle\"},\"mode\":\"markers\",\"name\":\"Health insurance\",\"orientation\":\"v\",\"showlegend\":true,\"x\":[16,38],\"xaxis\":\"x\",\"y\":[195265,106374],\"yaxis\":\"y\",\"type\":\"scatter\"},{\"hovertemplate\":\"<b>%{hovertext}</b><br><br>Industry=Automotive industry<br>Rank=%{x}<br>Revenue (USD millions)=%{y}<br>Revenue growth=%{marker.size}<extra></extra>\",\"hovertext\":[\"Ford Motor Company\",\"General Motors\"],\"legendgroup\":\"Automotive industry\",\"marker\":{\"color\":\"#FECB52\",\"size\":[11.5,9.6],\"sizemode\":\"area\",\"sizeref\":0.31475000000000003,\"symbol\":\"circle\"},\"mode\":\"markers\",\"name\":\"Automotive industry\",\"orientation\":\"v\",\"showlegend\":true,\"x\":[17,19],\"xaxis\":\"x\",\"y\":[176191,171842],\"yaxis\":\"y\",\"type\":\"scatter\"},{\"hovertemplate\":\"<b>%{hovertext}</b><br><br>Industry=Financials<br>Rank=%{x}<br>Revenue (USD millions)=%{y}<br>Revenue growth=%{marker.size}<extra></extra>\",\"hovertext\":[\"Bank of America\",\"Citigroup\",\"Fannie Mae\",\"Wells Fargo\",\"Goldman Sachs\",\"Freddie Mac\",\"State Farm\",\"Morgan Stanley\",\"Capital One Financial\",\"TIAA\"],\"legendgroup\":\"Financials\",\"marker\":{\"color\":\"#636efa\",\"size\":[49.4,55.1,16.2,39.2,57.8,24.6,16.6,45.9,29.0,11.8],\"sizemode\":\"area\",\"sizeref\":0.31475000000000003,\"symbol\":\"circle\"},\"mode\":\"markers\",\"name\":\"Financials\",\"orientation\":\"v\",\"showlegend\":true,\"x\":[18,21,27,34,35,36,39,41,91,96],\"xaxis\":\"x\",\"y\":[171912,156820,141240,115340,108418,108050,104199,96194,49484,45735],\"yaxis\":\"y\",\"type\":\"scatter\"},{\"hovertemplate\":\"<b>%{hovertext}</b><br><br>Industry=Pharmaceutical industry<br>Rank=%{x}<br>Revenue (USD millions)=%{y}<br>Revenue growth=%{marker.size}<extra></extra>\",\"hovertext\":[\"Walgreens Boots Alliance\",\"Johnson & Johnson\",\"Merck & Co.\"],\"legendgroup\":\"Pharmaceutical industry\",\"marker\":{\"color\":\"#EF553B\",\"size\":[4.8,0.3,1.4],\"sizemode\":\"area\",\"sizeref\":0.31475000000000003,\"symbol\":\"circle\"},\"mode\":\"markers\",\"name\":\"Pharmaceutical industry\",\"orientation\":\"v\",\"showlegend\":true,\"x\":[28,42,67],\"xaxis\":\"x\",\"y\":[139081,95195,60115],\"yaxis\":\"y\",\"type\":\"scatter\"},{\"hovertemplate\":\"<b>%{hovertext}</b><br><br>Industry=Technology<br>Rank=%{x}<br>Revenue (USD millions)=%{y}<br>Revenue growth=%{marker.size}<extra></extra>\",\"hovertext\":[\"Meta Platforms\",\"Nvidia\",\"Oracle Corporation\"],\"legendgroup\":\"Technology\",\"marker\":{\"color\":\"#00cc96\",\"size\":[15.7,125.9,17.7],\"sizemode\":\"area\",\"sizeref\":0.31475000000000003,\"symbol\":\"circle\"},\"mode\":\"markers\",\"name\":\"Technology\",\"orientation\":\"v\",\"showlegend\":true,\"x\":[30,65,89],\"xaxis\":\"x\",\"y\":[134902,60922,49954],\"yaxis\":\"y\",\"type\":\"scatter\"},{\"hovertemplate\":\"<b>%{hovertext}</b><br><br>Industry=Conglomerate and telecommunications<br>Rank=%{x}<br>Revenue (USD millions)=%{y}<br>Revenue growth=%{marker.size}<extra></extra>\",\"hovertext\":[\"AT&T\"],\"legendgroup\":\"Conglomerate and telecommunications\",\"marker\":{\"color\":\"#ab63fa\",\"size\":[1.4],\"sizemode\":\"area\",\"sizeref\":0.31475000000000003,\"symbol\":\"circle\"},\"mode\":\"markers\",\"name\":\"Conglomerate and telecommunications\",\"orientation\":\"v\",\"showlegend\":true,\"x\":[32],\"xaxis\":\"x\",\"y\":[122428],\"yaxis\":\"y\",\"type\":\"scatter\"},{\"hovertemplate\":\"<b>%{hovertext}</b><br><br>Industry=Telecommunications<br>Rank=%{x}<br>Revenue (USD millions)=%{y}<br>Revenue growth=%{marker.size}<extra></extra>\",\"hovertext\":[\"Comcast\",\"Charter Communications\"],\"legendgroup\":\"Telecommunications\",\"marker\":{\"color\":\"#FFA15A\",\"size\":[0.1,1.1],\"sizemode\":\"area\",\"sizeref\":0.31475000000000003,\"symbol\":\"circle\"},\"mode\":\"markers\",\"name\":\"Telecommunications\",\"orientation\":\"v\",\"showlegend\":true,\"x\":[33,76],\"xaxis\":\"x\",\"y\":[121572,54607],\"yaxis\":\"y\",\"type\":\"scatter\"},{\"hovertemplate\":\"<b>%{hovertext}</b><br><br>Industry=Automotive and energy<br>Rank=%{x}<br>Revenue (USD millions)=%{y}<br>Revenue growth=%{marker.size}<extra></extra>\",\"hovertext\":[\"Tesla\"],\"legendgroup\":\"Automotive and energy\",\"marker\":{\"color\":\"#19d3f3\",\"size\":[18.8],\"sizemode\":\"area\",\"sizeref\":0.31475000000000003,\"symbol\":\"circle\"},\"mode\":\"markers\",\"name\":\"Automotive and energy\",\"orientation\":\"v\",\"showlegend\":true,\"x\":[40],\"xaxis\":\"x\",\"y\":[96773],\"yaxis\":\"y\",\"type\":\"scatter\"},{\"hovertemplate\":\"<b>%{hovertext}</b><br><br>Industry=Beverage<br>Rank=%{x}<br>Revenue (USD millions)=%{y}<br>Revenue growth=%{marker.size}<extra></extra>\",\"hovertext\":[\"PepsiCo\",\"Coca-Cola\"],\"legendgroup\":\"Beverage\",\"marker\":{\"color\":\"#FF6692\",\"size\":[5.9,6.4],\"sizemode\":\"area\",\"sizeref\":0.31475000000000003,\"symbol\":\"circle\"},\"mode\":\"markers\",\"name\":\"Beverage\",\"orientation\":\"v\",\"showlegend\":true,\"x\":[44,95],\"xaxis\":\"x\",\"y\":[91471,45754],\"yaxis\":\"y\",\"type\":\"scatter\"},{\"hovertemplate\":\"<b>%{hovertext}</b><br><br>Industry=Media<br>Rank=%{x}<br>Revenue (USD millions)=%{y}<br>Revenue growth=%{marker.size}<extra></extra>\",\"hovertext\":[\"The Walt Disney Company\"],\"legendgroup\":\"Media\",\"marker\":{\"color\":\"#B6E880\",\"size\":[7.5],\"sizemode\":\"area\",\"sizeref\":0.31475000000000003,\"symbol\":\"circle\"},\"mode\":\"markers\",\"name\":\"Media\",\"orientation\":\"v\",\"showlegend\":true,\"x\":[47],\"xaxis\":\"x\",\"y\":[88898],\"yaxis\":\"y\",\"type\":\"scatter\"},{\"hovertemplate\":\"<b>%{hovertext}</b><br><br>Industry=Consumer products manufacturing<br>Rank=%{x}<br>Revenue (USD millions)=%{y}<br>Revenue growth=%{marker.size}<extra></extra>\",\"hovertext\":[\"Procter & Gamble\"],\"legendgroup\":\"Consumer products manufacturing\",\"marker\":{\"color\":\"#FF97FF\",\"size\":[2.3],\"sizemode\":\"area\",\"sizeref\":0.31475000000000003,\"symbol\":\"circle\"},\"mode\":\"markers\",\"name\":\"Consumer products manufacturing\",\"orientation\":\"v\",\"showlegend\":true,\"x\":[50],\"xaxis\":\"x\",\"y\":[82006],\"yaxis\":\"y\",\"type\":\"scatter\"},{\"hovertemplate\":\"<b>%{hovertext}</b><br><br>Industry=Aerospace and defense<br>Rank=%{x}<br>Revenue (USD millions)=%{y}<br>Revenue growth=%{marker.size}<extra></extra>\",\"hovertext\":[\"Boeing\",\"Lockheed Martin\"],\"legendgroup\":\"Aerospace and defense\",\"marker\":{\"color\":\"#FECB52\",\"size\":[16.8,2.4],\"sizemode\":\"area\",\"sizeref\":0.31475000000000003,\"symbol\":\"circle\"},\"mode\":\"markers\",\"name\":\"Aerospace and defense\",\"orientation\":\"v\",\"showlegend\":true,\"x\":[52,57],\"xaxis\":\"x\",\"y\":[77794,67571],\"yaxis\":\"y\",\"type\":\"scatter\"},{\"hovertemplate\":\"<b>%{hovertext}</b><br><br>Industry=Food service<br>Rank=%{x}<br>Revenue (USD millions)=%{y}<br>Revenue growth=%{marker.size}<extra></extra>\",\"hovertext\":[\"Sysco\"],\"legendgroup\":\"Food service\",\"marker\":{\"color\":\"#636efa\",\"size\":[11.2],\"sizemode\":\"area\",\"sizeref\":0.31475000000000003,\"symbol\":\"circle\"},\"mode\":\"markers\",\"name\":\"Food service\",\"orientation\":\"v\",\"showlegend\":true,\"x\":[54],\"xaxis\":\"x\",\"y\":[76325],\"yaxis\":\"y\",\"type\":\"scatter\"},{\"hovertemplate\":\"<b>%{hovertext}</b><br><br>Industry=Financial<br>Rank=%{x}<br>Revenue (USD millions)=%{y}<br>Revenue growth=%{marker.size}<extra></extra>\",\"hovertext\":[\"American Express\",\"Nationwide Mutual Insurance Company\"],\"legendgroup\":\"Financial\",\"marker\":{\"color\":\"#EF553B\",\"size\":[21.1,6.1],\"sizemode\":\"area\",\"sizeref\":0.31475000000000003,\"symbol\":\"circle\"},\"mode\":\"markers\",\"name\":\"Financial\",\"orientation\":\"v\",\"showlegend\":true,\"x\":[58,75],\"xaxis\":\"x\",\"y\":[67364,54609],\"yaxis\":\"y\",\"type\":\"scatter\"},{\"hovertemplate\":\"<b>%{hovertext}</b><br><br>Industry=Machinery<br>Rank=%{x}<br>Revenue (USD millions)=%{y}<br>Revenue growth=%{marker.size}<extra></extra>\",\"hovertext\":[\"Caterpillar\"],\"legendgroup\":\"Machinery\",\"marker\":{\"color\":\"#00cc96\",\"size\":[12.8],\"sizemode\":\"area\",\"sizeref\":0.31475000000000003,\"symbol\":\"circle\"},\"mode\":\"markers\",\"name\":\"Machinery\",\"orientation\":\"v\",\"showlegend\":true,\"x\":[59],\"xaxis\":\"x\",\"y\":[67060],\"yaxis\":\"y\",\"type\":\"scatter\"},{\"hovertemplate\":\"<b>%{hovertext}</b><br><br>Industry=Insurance<br>Rank=%{x}<br>Revenue (USD millions)=%{y}<br>Revenue growth=%{marker.size}<extra></extra>\",\"hovertext\":[\"Progressive Corporation\",\"Allstate\",\"New York Life Insurance Company\",\"Liberty Mutual\"],\"legendgroup\":\"Insurance\",\"marker\":{\"color\":\"#ab63fa\",\"size\":[25.2,11.1,14.2,5.3],\"sizemode\":\"area\",\"sizeref\":0.31475000000000003,\"symbol\":\"circle\"},\"mode\":\"markers\",\"name\":\"Insurance\",\"orientation\":\"v\",\"showlegend\":true,\"x\":[62,73,78,87],\"xaxis\":\"x\",\"y\":[62109,57094,54317,52612],\"yaxis\":\"y\",\"type\":\"scatter\"},{\"hovertemplate\":\"<b>%{hovertext}</b><br><br>Industry=Agriculture manufacturing<br>Rank=%{x}<br>Revenue (USD millions)=%{y}<br>Revenue growth=%{marker.size}<extra></extra>\",\"hovertext\":[\"John Deere\"],\"legendgroup\":\"Agriculture manufacturing\",\"marker\":{\"color\":\"#FFA15A\",\"size\":[16.5],\"sizemode\":\"area\",\"sizeref\":0.31475000000000003,\"symbol\":\"circle\"},\"mode\":\"markers\",\"name\":\"Agriculture manufacturing\",\"orientation\":\"v\",\"showlegend\":true,\"x\":[64],\"xaxis\":\"x\",\"y\":[61251],\"yaxis\":\"y\",\"type\":\"scatter\"},{\"hovertemplate\":\"<b>%{hovertext}</b><br><br>Industry=Airline<br>Rank=%{x}<br>Revenue (USD millions)=%{y}<br>Revenue growth=%{marker.size}<extra></extra>\",\"hovertext\":[\"Delta Air Lines\",\"United Airlines\",\"American Airlines\"],\"legendgroup\":\"Airline\",\"marker\":{\"color\":\"#19d3f3\",\"size\":[14.8,19.5,7.8],\"sizemode\":\"area\",\"sizeref\":0.31475000000000003,\"symbol\":\"circle\"},\"mode\":\"markers\",\"name\":\"Airline\",\"orientation\":\"v\",\"showlegend\":true,\"x\":[70,83,86],\"xaxis\":\"x\",\"y\":[58048,53717,52788],\"yaxis\":\"y\",\"type\":\"scatter\"},{\"hovertemplate\":\"<b>%{hovertext}</b><br><br>Industry=Telecom hardware manufacturing<br>Rank=%{x}<br>Revenue (USD millions)=%{y}<br>Revenue growth=%{marker.size}<extra></extra>\",\"hovertext\":[\"Cisco\"],\"legendgroup\":\"Telecom hardware manufacturing\",\"marker\":{\"color\":\"#FF6692\",\"size\":[10.6],\"sizemode\":\"area\",\"sizeref\":0.31475000000000003,\"symbol\":\"circle\"},\"mode\":\"markers\",\"name\":\"Telecom hardware manufacturing\",\"orientation\":\"v\",\"showlegend\":true,\"x\":[74],\"xaxis\":\"x\",\"y\":[56998],\"yaxis\":\"y\",\"type\":\"scatter\"},{\"hovertemplate\":\"<b>%{hovertext}</b><br><br>Industry=Food processing<br>Rank=%{x}<br>Revenue (USD millions)=%{y}<br>Revenue growth=%{marker.size}<extra></extra>\",\"hovertext\":[\"Performance Food Group\"],\"legendgroup\":\"Food processing\",\"marker\":{\"color\":\"#B6E880\",\"size\":[13.1],\"sizemode\":\"area\",\"sizeref\":0.31475000000000003,\"symbol\":\"circle\"},\"mode\":\"markers\",\"name\":\"Food processing\",\"orientation\":\"v\",\"showlegend\":true,\"x\":[84],\"xaxis\":\"x\",\"y\":[53355],\"yaxis\":\"y\",\"type\":\"scatter\"},{\"hovertemplate\":\"<b>%{hovertext}</b><br><br>Industry=Apparel<br>Rank=%{x}<br>Revenue (USD millions)=%{y}<br>Revenue growth=%{marker.size}<extra></extra>\",\"hovertext\":[\"Nike\"],\"legendgroup\":\"Apparel\",\"marker\":{\"color\":\"#FF97FF\",\"size\":[9.6],\"sizemode\":\"area\",\"sizeref\":0.31475000000000003,\"symbol\":\"circle\"},\"mode\":\"markers\",\"name\":\"Apparel\",\"orientation\":\"v\",\"showlegend\":true,\"x\":[88],\"xaxis\":\"x\",\"y\":[51217],\"yaxis\":\"y\",\"type\":\"scatter\"}],                        {\"template\":{\"data\":{\"histogram2dcontour\":[{\"type\":\"histogram2dcontour\",\"colorbar\":{\"outlinewidth\":0,\"ticks\":\"\"},\"colorscale\":[[0.0,\"#0d0887\"],[0.1111111111111111,\"#46039f\"],[0.2222222222222222,\"#7201a8\"],[0.3333333333333333,\"#9c179e\"],[0.4444444444444444,\"#bd3786\"],[0.5555555555555556,\"#d8576b\"],[0.6666666666666666,\"#ed7953\"],[0.7777777777777778,\"#fb9f3a\"],[0.8888888888888888,\"#fdca26\"],[1.0,\"#f0f921\"]]}],\"choropleth\":[{\"type\":\"choropleth\",\"colorbar\":{\"outlinewidth\":0,\"ticks\":\"\"}}],\"histogram2d\":[{\"type\":\"histogram2d\",\"colorbar\":{\"outlinewidth\":0,\"ticks\":\"\"},\"colorscale\":[[0.0,\"#0d0887\"],[0.1111111111111111,\"#46039f\"],[0.2222222222222222,\"#7201a8\"],[0.3333333333333333,\"#9c179e\"],[0.4444444444444444,\"#bd3786\"],[0.5555555555555556,\"#d8576b\"],[0.6666666666666666,\"#ed7953\"],[0.7777777777777778,\"#fb9f3a\"],[0.8888888888888888,\"#fdca26\"],[1.0,\"#f0f921\"]]}],\"heatmap\":[{\"type\":\"heatmap\",\"colorbar\":{\"outlinewidth\":0,\"ticks\":\"\"},\"colorscale\":[[0.0,\"#0d0887\"],[0.1111111111111111,\"#46039f\"],[0.2222222222222222,\"#7201a8\"],[0.3333333333333333,\"#9c179e\"],[0.4444444444444444,\"#bd3786\"],[0.5555555555555556,\"#d8576b\"],[0.6666666666666666,\"#ed7953\"],[0.7777777777777778,\"#fb9f3a\"],[0.8888888888888888,\"#fdca26\"],[1.0,\"#f0f921\"]]}],\"heatmapgl\":[{\"type\":\"heatmapgl\",\"colorbar\":{\"outlinewidth\":0,\"ticks\":\"\"},\"colorscale\":[[0.0,\"#0d0887\"],[0.1111111111111111,\"#46039f\"],[0.2222222222222222,\"#7201a8\"],[0.3333333333333333,\"#9c179e\"],[0.4444444444444444,\"#bd3786\"],[0.5555555555555556,\"#d8576b\"],[0.6666666666666666,\"#ed7953\"],[0.7777777777777778,\"#fb9f3a\"],[0.8888888888888888,\"#fdca26\"],[1.0,\"#f0f921\"]]}],\"contourcarpet\":[{\"type\":\"contourcarpet\",\"colorbar\":{\"outlinewidth\":0,\"ticks\":\"\"}}],\"contour\":[{\"type\":\"contour\",\"colorbar\":{\"outlinewidth\":0,\"ticks\":\"\"},\"colorscale\":[[0.0,\"#0d0887\"],[0.1111111111111111,\"#46039f\"],[0.2222222222222222,\"#7201a8\"],[0.3333333333333333,\"#9c179e\"],[0.4444444444444444,\"#bd3786\"],[0.5555555555555556,\"#d8576b\"],[0.6666666666666666,\"#ed7953\"],[0.7777777777777778,\"#fb9f3a\"],[0.8888888888888888,\"#fdca26\"],[1.0,\"#f0f921\"]]}],\"surface\":[{\"type\":\"surface\",\"colorbar\":{\"outlinewidth\":0,\"ticks\":\"\"},\"colorscale\":[[0.0,\"#0d0887\"],[0.1111111111111111,\"#46039f\"],[0.2222222222222222,\"#7201a8\"],[0.3333333333333333,\"#9c179e\"],[0.4444444444444444,\"#bd3786\"],[0.5555555555555556,\"#d8576b\"],[0.6666666666666666,\"#ed7953\"],[0.7777777777777778,\"#fb9f3a\"],[0.8888888888888888,\"#fdca26\"],[1.0,\"#f0f921\"]]}],\"mesh3d\":[{\"type\":\"mesh3d\",\"colorbar\":{\"outlinewidth\":0,\"ticks\":\"\"}}],\"scatter\":[{\"fillpattern\":{\"fillmode\":\"overlay\",\"size\":10,\"solidity\":0.2},\"type\":\"scatter\"}],\"parcoords\":[{\"type\":\"parcoords\",\"line\":{\"colorbar\":{\"outlinewidth\":0,\"ticks\":\"\"}}}],\"scatterpolargl\":[{\"type\":\"scatterpolargl\",\"marker\":{\"colorbar\":{\"outlinewidth\":0,\"ticks\":\"\"}}}],\"bar\":[{\"error_x\":{\"color\":\"#2a3f5f\"},\"error_y\":{\"color\":\"#2a3f5f\"},\"marker\":{\"line\":{\"color\":\"#E5ECF6\",\"width\":0.5},\"pattern\":{\"fillmode\":\"overlay\",\"size\":10,\"solidity\":0.2}},\"type\":\"bar\"}],\"scattergeo\":[{\"type\":\"scattergeo\",\"marker\":{\"colorbar\":{\"outlinewidth\":0,\"ticks\":\"\"}}}],\"scatterpolar\":[{\"type\":\"scatterpolar\",\"marker\":{\"colorbar\":{\"outlinewidth\":0,\"ticks\":\"\"}}}],\"histogram\":[{\"marker\":{\"pattern\":{\"fillmode\":\"overlay\",\"size\":10,\"solidity\":0.2}},\"type\":\"histogram\"}],\"scattergl\":[{\"type\":\"scattergl\",\"marker\":{\"colorbar\":{\"outlinewidth\":0,\"ticks\":\"\"}}}],\"scatter3d\":[{\"type\":\"scatter3d\",\"line\":{\"colorbar\":{\"outlinewidth\":0,\"ticks\":\"\"}},\"marker\":{\"colorbar\":{\"outlinewidth\":0,\"ticks\":\"\"}}}],\"scattermapbox\":[{\"type\":\"scattermapbox\",\"marker\":{\"colorbar\":{\"outlinewidth\":0,\"ticks\":\"\"}}}],\"scatterternary\":[{\"type\":\"scatterternary\",\"marker\":{\"colorbar\":{\"outlinewidth\":0,\"ticks\":\"\"}}}],\"scattercarpet\":[{\"type\":\"scattercarpet\",\"marker\":{\"colorbar\":{\"outlinewidth\":0,\"ticks\":\"\"}}}],\"carpet\":[{\"aaxis\":{\"endlinecolor\":\"#2a3f5f\",\"gridcolor\":\"white\",\"linecolor\":\"white\",\"minorgridcolor\":\"white\",\"startlinecolor\":\"#2a3f5f\"},\"baxis\":{\"endlinecolor\":\"#2a3f5f\",\"gridcolor\":\"white\",\"linecolor\":\"white\",\"minorgridcolor\":\"white\",\"startlinecolor\":\"#2a3f5f\"},\"type\":\"carpet\"}],\"table\":[{\"cells\":{\"fill\":{\"color\":\"#EBF0F8\"},\"line\":{\"color\":\"white\"}},\"header\":{\"fill\":{\"color\":\"#C8D4E3\"},\"line\":{\"color\":\"white\"}},\"type\":\"table\"}],\"barpolar\":[{\"marker\":{\"line\":{\"color\":\"#E5ECF6\",\"width\":0.5},\"pattern\":{\"fillmode\":\"overlay\",\"size\":10,\"solidity\":0.2}},\"type\":\"barpolar\"}],\"pie\":[{\"automargin\":true,\"type\":\"pie\"}]},\"layout\":{\"autotypenumbers\":\"strict\",\"colorway\":[\"#636efa\",\"#EF553B\",\"#00cc96\",\"#ab63fa\",\"#FFA15A\",\"#19d3f3\",\"#FF6692\",\"#B6E880\",\"#FF97FF\",\"#FECB52\"],\"font\":{\"color\":\"#2a3f5f\"},\"hovermode\":\"closest\",\"hoverlabel\":{\"align\":\"left\"},\"paper_bgcolor\":\"white\",\"plot_bgcolor\":\"#E5ECF6\",\"polar\":{\"bgcolor\":\"#E5ECF6\",\"angularaxis\":{\"gridcolor\":\"white\",\"linecolor\":\"white\",\"ticks\":\"\"},\"radialaxis\":{\"gridcolor\":\"white\",\"linecolor\":\"white\",\"ticks\":\"\"}},\"ternary\":{\"bgcolor\":\"#E5ECF6\",\"aaxis\":{\"gridcolor\":\"white\",\"linecolor\":\"white\",\"ticks\":\"\"},\"baxis\":{\"gridcolor\":\"white\",\"linecolor\":\"white\",\"ticks\":\"\"},\"caxis\":{\"gridcolor\":\"white\",\"linecolor\":\"white\",\"ticks\":\"\"}},\"coloraxis\":{\"colorbar\":{\"outlinewidth\":0,\"ticks\":\"\"}},\"colorscale\":{\"sequential\":[[0.0,\"#0d0887\"],[0.1111111111111111,\"#46039f\"],[0.2222222222222222,\"#7201a8\"],[0.3333333333333333,\"#9c179e\"],[0.4444444444444444,\"#bd3786\"],[0.5555555555555556,\"#d8576b\"],[0.6666666666666666,\"#ed7953\"],[0.7777777777777778,\"#fb9f3a\"],[0.8888888888888888,\"#fdca26\"],[1.0,\"#f0f921\"]],\"sequentialminus\":[[0.0,\"#0d0887\"],[0.1111111111111111,\"#46039f\"],[0.2222222222222222,\"#7201a8\"],[0.3333333333333333,\"#9c179e\"],[0.4444444444444444,\"#bd3786\"],[0.5555555555555556,\"#d8576b\"],[0.6666666666666666,\"#ed7953\"],[0.7777777777777778,\"#fb9f3a\"],[0.8888888888888888,\"#fdca26\"],[1.0,\"#f0f921\"]],\"diverging\":[[0,\"#8e0152\"],[0.1,\"#c51b7d\"],[0.2,\"#de77ae\"],[0.3,\"#f1b6da\"],[0.4,\"#fde0ef\"],[0.5,\"#f7f7f7\"],[0.6,\"#e6f5d0\"],[0.7,\"#b8e186\"],[0.8,\"#7fbc41\"],[0.9,\"#4d9221\"],[1,\"#276419\"]]},\"xaxis\":{\"gridcolor\":\"white\",\"linecolor\":\"white\",\"ticks\":\"\",\"title\":{\"standoff\":15},\"zerolinecolor\":\"white\",\"automargin\":true,\"zerolinewidth\":2},\"yaxis\":{\"gridcolor\":\"white\",\"linecolor\":\"white\",\"ticks\":\"\",\"title\":{\"standoff\":15},\"zerolinecolor\":\"white\",\"automargin\":true,\"zerolinewidth\":2},\"scene\":{\"xaxis\":{\"backgroundcolor\":\"#E5ECF6\",\"gridcolor\":\"white\",\"linecolor\":\"white\",\"showbackground\":true,\"ticks\":\"\",\"zerolinecolor\":\"white\",\"gridwidth\":2},\"yaxis\":{\"backgroundcolor\":\"#E5ECF6\",\"gridcolor\":\"white\",\"linecolor\":\"white\",\"showbackground\":true,\"ticks\":\"\",\"zerolinecolor\":\"white\",\"gridwidth\":2},\"zaxis\":{\"backgroundcolor\":\"#E5ECF6\",\"gridcolor\":\"white\",\"linecolor\":\"white\",\"showbackground\":true,\"ticks\":\"\",\"zerolinecolor\":\"white\",\"gridwidth\":2}},\"shapedefaults\":{\"line\":{\"color\":\"#2a3f5f\"}},\"annotationdefaults\":{\"arrowcolor\":\"#2a3f5f\",\"arrowhead\":0,\"arrowwidth\":1},\"geo\":{\"bgcolor\":\"white\",\"landcolor\":\"#E5ECF6\",\"subunitcolor\":\"white\",\"showland\":true,\"showlakes\":true,\"lakecolor\":\"white\"},\"title\":{\"x\":0.05},\"mapbox\":{\"style\":\"light\"}}},\"xaxis\":{\"anchor\":\"y\",\"domain\":[0.0,1.0],\"title\":{\"text\":\"Rank\"}},\"yaxis\":{\"anchor\":\"x\",\"domain\":[0.0,1.0],\"title\":{\"text\":\"Revenue (USD millions)\"}},\"legend\":{\"title\":{\"text\":\"Industry\"},\"tracegroupgap\":0,\"itemsizing\":\"constant\"},\"title\":{\"text\":\"Scatter Plot of Companies\"}},                        {\"responsive\": true}                    ).then(function(){\n",
       "                            \n",
       "var gd = document.getElementById('7638c880-eef7-422c-a08b-3cae0e750ebe');\n",
       "var x = new MutationObserver(function (mutations, observer) {{\n",
       "        var display = window.getComputedStyle(gd).display;\n",
       "        if (!display || display === 'none') {{\n",
       "            console.log([gd, 'removed!']);\n",
       "            Plotly.purge(gd);\n",
       "            observer.disconnect();\n",
       "        }}\n",
       "}});\n",
       "\n",
       "// Listen for the removal of the full notebook cells\n",
       "var notebookContainer = gd.closest('#notebook-container');\n",
       "if (notebookContainer) {{\n",
       "    x.observe(notebookContainer, {childList: true});\n",
       "}}\n",
       "\n",
       "// Listen for the clearing of the current output cell\n",
       "var outputEl = gd.closest('.output');\n",
       "if (outputEl) {{\n",
       "    x.observe(outputEl, {childList: true});\n",
       "}}\n",
       "\n",
       "                        })                };                });            </script>        </div>"
      ]
     },
     "metadata": {},
     "output_type": "display_data"
    }
   ],
   "source": [
    "import pandas as pd\n",
    "import plotly.express as px\n",
    "\n",
    "df = pd.read_csv('Jupyter_Project/companies.csv')\n",
    "df.columns = df.columns.str.strip()\n",
    "df['Revenue (USD millions)'] = df['Revenue (USD millions)'].str.replace(',', '', regex=False)\n",
    "df['Revenue growth'] = df['Revenue growth'].str.replace('%', '', regex=False).astype(float)\n",
    "df['Revenue (USD millions)'] = pd.to_numeric(df['Revenue (USD millions)'], errors='coerce')\n",
    "df.dropna(subset=['Revenue (USD millions)', 'Revenue growth'], inplace=True) \n",
    "negative_revenue_growth = df[df['Revenue growth'] < 0]\n",
    "df = df[df['Revenue growth'] >= 0]\n",
    "fig = px.scatter(\n",
    "    df,\n",
    "    x='Rank',\n",
    "    y='Revenue (USD millions)',\n",
    "    color='Industry',          \n",
    "    size='Revenue growth',     \n",
    "    hover_name='Name',         \n",
    "    title='Scatter Plot of Companies' \n",
    ")\n",
    "\n",
    "fig.show()\n"
   ]
  },
  {
   "cell_type": "code",
   "execution_count": 17,
   "id": "cdb1ee36",
   "metadata": {
    "scrolled": false
   },
   "outputs": [
    {
     "data": {
      "application/vnd.plotly.v1+json": {
       "config": {
        "plotlyServerURL": "https://plot.ly"
       },
       "data": [
        {
         "hovertemplate": "<b>%{hovertext}</b><br><br>Industry=Retail<br>Rank=%{x}<br>Revenue (USD millions)=%{y}<br>Revenue growth=%{marker.size}<extra></extra>",
         "hovertext": [
          "Walmart",
          "Costco",
          "Albertsons",
          "Publix",
          "TJX"
         ],
         "legendgroup": "Retail",
         "marker": {
          "color": "#636efa",
          "size": [
           6,
           6.8,
           8,
           4.7,
           2.9
          ],
          "sizemode": "area",
          "sizeref": 0.31475000000000003,
          "symbol": "circle"
         },
         "mode": "markers",
         "name": "Retail",
         "orientation": "v",
         "showlegend": true,
         "type": "scatter",
         "x": [
          1,
          11,
          53,
          72,
          80
         ],
         "xaxis": "x",
         "y": [
          648125,
          242290,
          77650,
          57534,
          49936
         ],
         "yaxis": "y"
        },
        {
         "hovertemplate": "<b>%{hovertext}</b><br><br>Industry=Retail and cloud computing<br>Rank=%{x}<br>Revenue (USD millions)=%{y}<br>Revenue growth=%{marker.size}<extra></extra>",
         "hovertext": [
          "Amazon"
         ],
         "legendgroup": "Retail and cloud computing",
         "marker": {
          "color": "#EF553B",
          "size": [
           11.9
          ],
          "sizemode": "area",
          "sizeref": 0.31475000000000003,
          "symbol": "circle"
         },
         "mode": "markers",
         "name": "Retail and cloud computing",
         "orientation": "v",
         "showlegend": true,
         "type": "scatter",
         "x": [
          2
         ],
         "xaxis": "x",
         "y": [
          574785
         ],
         "yaxis": "y"
        },
        {
         "hovertemplate": "<b>%{hovertext}</b><br><br>Industry=Healthcare<br>Rank=%{x}<br>Revenue (USD millions)=%{y}<br>Revenue growth=%{marker.size}<extra></extra>",
         "hovertext": [
          "UnitedHealth Group",
          "CVS Health",
          "Cardinal Health",
          "Elevance Health",
          "Centene",
          "HCA Healthcare"
         ],
         "legendgroup": "Healthcare",
         "marker": {
          "color": "#00cc96",
          "size": [
           14.6,
           10.9,
           13,
           9.4,
           6.5,
           7.9
          ],
          "sizemode": "area",
          "sizeref": 0.31475000000000003,
          "symbol": "circle"
         },
         "mode": "markers",
         "name": "Healthcare",
         "orientation": "v",
         "showlegend": true,
         "type": "scatter",
         "x": [
          4,
          6,
          14,
          20,
          22,
          61
         ],
         "xaxis": "x",
         "y": [
          371622,
          357776,
          205012,
          171340,
          153999,
          64968
         ],
         "yaxis": "y"
        },
        {
         "hovertemplate": "<b>%{hovertext}</b><br><br>Industry=Conglomerate<br>Rank=%{x}<br>Revenue (USD millions)=%{y}<br>Revenue growth=%{marker.size}<extra></extra>",
         "hovertext": [
          "Berkshire Hathaway",
          "RTX Corporation"
         ],
         "legendgroup": "Conglomerate",
         "marker": {
          "color": "#ab63fa",
          "size": [
           20.7,
           2.8
          ],
          "sizemode": "area",
          "sizeref": 0.31475000000000003,
          "symbol": "circle"
         },
         "mode": "markers",
         "name": "Conglomerate",
         "orientation": "v",
         "showlegend": true,
         "type": "scatter",
         "x": [
          5,
          55
         ],
         "xaxis": "x",
         "y": [
          364482,
          68920
         ],
         "yaxis": "y"
        },
        {
         "hovertemplate": "<b>%{hovertext}</b><br><br>Industry=Technology and cloud computing<br>Rank=%{x}<br>Revenue (USD millions)=%{y}<br>Revenue growth=%{marker.size}<extra></extra>",
         "hovertext": [
          "Alphabet",
          "Microsoft"
         ],
         "legendgroup": "Technology and cloud computing",
         "marker": {
          "color": "#FFA15A",
          "size": [
           8.7,
           6.9
          ],
          "sizemode": "area",
          "sizeref": 0.31475000000000003,
          "symbol": "circle"
         },
         "mode": "markers",
         "name": "Technology and cloud computing",
         "orientation": "v",
         "showlegend": true,
         "type": "scatter",
         "x": [
          8,
          13
         ],
         "xaxis": "x",
         "y": [
          307394,
          211915
         ],
         "yaxis": "y"
        },
        {
         "hovertemplate": "<b>%{hovertext}</b><br><br>Industry=Health<br>Rank=%{x}<br>Revenue (USD millions)=%{y}<br>Revenue growth=%{marker.size}<extra></extra>",
         "hovertext": [
          "McKesson Corporation"
         ],
         "legendgroup": "Health",
         "marker": {
          "color": "#19d3f3",
          "size": [
           4.8
          ],
          "sizemode": "area",
          "sizeref": 0.31475000000000003,
          "symbol": "circle"
         },
         "mode": "markers",
         "name": "Health",
         "orientation": "v",
         "showlegend": true,
         "type": "scatter",
         "x": [
          9
         ],
         "xaxis": "x",
         "y": [
          276711
         ],
         "yaxis": "y"
        },
        {
         "hovertemplate": "<b>%{hovertext}</b><br><br>Industry=Pharmacy wholesale<br>Rank=%{x}<br>Revenue (USD millions)=%{y}<br>Revenue growth=%{marker.size}<extra></extra>",
         "hovertext": [
          "Cencora"
         ],
         "legendgroup": "Pharmacy wholesale",
         "marker": {
          "color": "#FF6692",
          "size": [
           9.9
          ],
          "sizemode": "area",
          "sizeref": 0.31475000000000003,
          "symbol": "circle"
         },
         "mode": "markers",
         "name": "Pharmacy wholesale",
         "orientation": "v",
         "showlegend": true,
         "type": "scatter",
         "x": [
          10
         ],
         "xaxis": "x",
         "y": [
          262173
         ],
         "yaxis": "y"
        },
        {
         "hovertemplate": "<b>%{hovertext}</b><br><br>Industry=Financial services<br>Rank=%{x}<br>Revenue (USD millions)=%{y}<br>Revenue growth=%{marker.size}<extra></extra>",
         "hovertext": [
          "JPMorgan Chase"
         ],
         "legendgroup": "Financial services",
         "marker": {
          "color": "#B6E880",
          "size": [
           54.7
          ],
          "sizemode": "area",
          "sizeref": 0.31475000000000003,
          "symbol": "circle"
         },
         "mode": "markers",
         "name": "Financial services",
         "orientation": "v",
         "showlegend": true,
         "type": "scatter",
         "x": [
          12
         ],
         "xaxis": "x",
         "y": [
          239425
         ],
         "yaxis": "y"
        },
        {
         "hovertemplate": "<b>%{hovertext}</b><br><br>Industry=Health insurance<br>Rank=%{x}<br>Revenue (USD millions)=%{y}<br>Revenue growth=%{marker.size}<extra></extra>",
         "hovertext": [
          "Cigna",
          "Humana"
         ],
         "legendgroup": "Health insurance",
         "marker": {
          "color": "#FF97FF",
          "size": [
           8.2,
           14.5
          ],
          "sizemode": "area",
          "sizeref": 0.31475000000000003,
          "symbol": "circle"
         },
         "mode": "markers",
         "name": "Health insurance",
         "orientation": "v",
         "showlegend": true,
         "type": "scatter",
         "x": [
          16,
          38
         ],
         "xaxis": "x",
         "y": [
          195265,
          106374
         ],
         "yaxis": "y"
        },
        {
         "hovertemplate": "<b>%{hovertext}</b><br><br>Industry=Automotive industry<br>Rank=%{x}<br>Revenue (USD millions)=%{y}<br>Revenue growth=%{marker.size}<extra></extra>",
         "hovertext": [
          "Ford Motor Company",
          "General Motors"
         ],
         "legendgroup": "Automotive industry",
         "marker": {
          "color": "#FECB52",
          "size": [
           11.5,
           9.6
          ],
          "sizemode": "area",
          "sizeref": 0.31475000000000003,
          "symbol": "circle"
         },
         "mode": "markers",
         "name": "Automotive industry",
         "orientation": "v",
         "showlegend": true,
         "type": "scatter",
         "x": [
          17,
          19
         ],
         "xaxis": "x",
         "y": [
          176191,
          171842
         ],
         "yaxis": "y"
        },
        {
         "hovertemplate": "<b>%{hovertext}</b><br><br>Industry=Financials<br>Rank=%{x}<br>Revenue (USD millions)=%{y}<br>Revenue growth=%{marker.size}<extra></extra>",
         "hovertext": [
          "Bank of America",
          "Citigroup",
          "Fannie Mae",
          "Wells Fargo",
          "Goldman Sachs",
          "Freddie Mac",
          "State Farm",
          "Morgan Stanley",
          "Capital One Financial",
          "TIAA"
         ],
         "legendgroup": "Financials",
         "marker": {
          "color": "#636efa",
          "size": [
           49.4,
           55.1,
           16.2,
           39.2,
           57.8,
           24.6,
           16.6,
           45.9,
           29,
           11.8
          ],
          "sizemode": "area",
          "sizeref": 0.31475000000000003,
          "symbol": "circle"
         },
         "mode": "markers",
         "name": "Financials",
         "orientation": "v",
         "showlegend": true,
         "type": "scatter",
         "x": [
          18,
          21,
          27,
          34,
          35,
          36,
          39,
          41,
          91,
          96
         ],
         "xaxis": "x",
         "y": [
          171912,
          156820,
          141240,
          115340,
          108418,
          108050,
          104199,
          96194,
          49484,
          45735
         ],
         "yaxis": "y"
        },
        {
         "hovertemplate": "<b>%{hovertext}</b><br><br>Industry=Pharmaceutical industry<br>Rank=%{x}<br>Revenue (USD millions)=%{y}<br>Revenue growth=%{marker.size}<extra></extra>",
         "hovertext": [
          "Walgreens Boots Alliance",
          "Johnson & Johnson",
          "Merck & Co."
         ],
         "legendgroup": "Pharmaceutical industry",
         "marker": {
          "color": "#EF553B",
          "size": [
           4.8,
           0.3,
           1.4
          ],
          "sizemode": "area",
          "sizeref": 0.31475000000000003,
          "symbol": "circle"
         },
         "mode": "markers",
         "name": "Pharmaceutical industry",
         "orientation": "v",
         "showlegend": true,
         "type": "scatter",
         "x": [
          28,
          42,
          67
         ],
         "xaxis": "x",
         "y": [
          139081,
          95195,
          60115
         ],
         "yaxis": "y"
        },
        {
         "hovertemplate": "<b>%{hovertext}</b><br><br>Industry=Technology<br>Rank=%{x}<br>Revenue (USD millions)=%{y}<br>Revenue growth=%{marker.size}<extra></extra>",
         "hovertext": [
          "Meta Platforms",
          "Nvidia",
          "Oracle Corporation"
         ],
         "legendgroup": "Technology",
         "marker": {
          "color": "#00cc96",
          "size": [
           15.7,
           125.9,
           17.7
          ],
          "sizemode": "area",
          "sizeref": 0.31475000000000003,
          "symbol": "circle"
         },
         "mode": "markers",
         "name": "Technology",
         "orientation": "v",
         "showlegend": true,
         "type": "scatter",
         "x": [
          30,
          65,
          89
         ],
         "xaxis": "x",
         "y": [
          134902,
          60922,
          49954
         ],
         "yaxis": "y"
        },
        {
         "hovertemplate": "<b>%{hovertext}</b><br><br>Industry=Conglomerate and telecommunications<br>Rank=%{x}<br>Revenue (USD millions)=%{y}<br>Revenue growth=%{marker.size}<extra></extra>",
         "hovertext": [
          "AT&T"
         ],
         "legendgroup": "Conglomerate and telecommunications",
         "marker": {
          "color": "#ab63fa",
          "size": [
           1.4
          ],
          "sizemode": "area",
          "sizeref": 0.31475000000000003,
          "symbol": "circle"
         },
         "mode": "markers",
         "name": "Conglomerate and telecommunications",
         "orientation": "v",
         "showlegend": true,
         "type": "scatter",
         "x": [
          32
         ],
         "xaxis": "x",
         "y": [
          122428
         ],
         "yaxis": "y"
        },
        {
         "hovertemplate": "<b>%{hovertext}</b><br><br>Industry=Telecommunications<br>Rank=%{x}<br>Revenue (USD millions)=%{y}<br>Revenue growth=%{marker.size}<extra></extra>",
         "hovertext": [
          "Comcast",
          "Charter Communications"
         ],
         "legendgroup": "Telecommunications",
         "marker": {
          "color": "#FFA15A",
          "size": [
           0.1,
           1.1
          ],
          "sizemode": "area",
          "sizeref": 0.31475000000000003,
          "symbol": "circle"
         },
         "mode": "markers",
         "name": "Telecommunications",
         "orientation": "v",
         "showlegend": true,
         "type": "scatter",
         "x": [
          33,
          76
         ],
         "xaxis": "x",
         "y": [
          121572,
          54607
         ],
         "yaxis": "y"
        },
        {
         "hovertemplate": "<b>%{hovertext}</b><br><br>Industry=Automotive and energy<br>Rank=%{x}<br>Revenue (USD millions)=%{y}<br>Revenue growth=%{marker.size}<extra></extra>",
         "hovertext": [
          "Tesla"
         ],
         "legendgroup": "Automotive and energy",
         "marker": {
          "color": "#19d3f3",
          "size": [
           18.8
          ],
          "sizemode": "area",
          "sizeref": 0.31475000000000003,
          "symbol": "circle"
         },
         "mode": "markers",
         "name": "Automotive and energy",
         "orientation": "v",
         "showlegend": true,
         "type": "scatter",
         "x": [
          40
         ],
         "xaxis": "x",
         "y": [
          96773
         ],
         "yaxis": "y"
        },
        {
         "hovertemplate": "<b>%{hovertext}</b><br><br>Industry=Beverage<br>Rank=%{x}<br>Revenue (USD millions)=%{y}<br>Revenue growth=%{marker.size}<extra></extra>",
         "hovertext": [
          "PepsiCo",
          "Coca-Cola"
         ],
         "legendgroup": "Beverage",
         "marker": {
          "color": "#FF6692",
          "size": [
           5.9,
           6.4
          ],
          "sizemode": "area",
          "sizeref": 0.31475000000000003,
          "symbol": "circle"
         },
         "mode": "markers",
         "name": "Beverage",
         "orientation": "v",
         "showlegend": true,
         "type": "scatter",
         "x": [
          44,
          95
         ],
         "xaxis": "x",
         "y": [
          91471,
          45754
         ],
         "yaxis": "y"
        },
        {
         "hovertemplate": "<b>%{hovertext}</b><br><br>Industry=Media<br>Rank=%{x}<br>Revenue (USD millions)=%{y}<br>Revenue growth=%{marker.size}<extra></extra>",
         "hovertext": [
          "The Walt Disney Company"
         ],
         "legendgroup": "Media",
         "marker": {
          "color": "#B6E880",
          "size": [
           7.5
          ],
          "sizemode": "area",
          "sizeref": 0.31475000000000003,
          "symbol": "circle"
         },
         "mode": "markers",
         "name": "Media",
         "orientation": "v",
         "showlegend": true,
         "type": "scatter",
         "x": [
          47
         ],
         "xaxis": "x",
         "y": [
          88898
         ],
         "yaxis": "y"
        },
        {
         "hovertemplate": "<b>%{hovertext}</b><br><br>Industry=Consumer products manufacturing<br>Rank=%{x}<br>Revenue (USD millions)=%{y}<br>Revenue growth=%{marker.size}<extra></extra>",
         "hovertext": [
          "Procter & Gamble"
         ],
         "legendgroup": "Consumer products manufacturing",
         "marker": {
          "color": "#FF97FF",
          "size": [
           2.3
          ],
          "sizemode": "area",
          "sizeref": 0.31475000000000003,
          "symbol": "circle"
         },
         "mode": "markers",
         "name": "Consumer products manufacturing",
         "orientation": "v",
         "showlegend": true,
         "type": "scatter",
         "x": [
          50
         ],
         "xaxis": "x",
         "y": [
          82006
         ],
         "yaxis": "y"
        },
        {
         "hovertemplate": "<b>%{hovertext}</b><br><br>Industry=Aerospace and defense<br>Rank=%{x}<br>Revenue (USD millions)=%{y}<br>Revenue growth=%{marker.size}<extra></extra>",
         "hovertext": [
          "Boeing",
          "Lockheed Martin"
         ],
         "legendgroup": "Aerospace and defense",
         "marker": {
          "color": "#FECB52",
          "size": [
           16.8,
           2.4
          ],
          "sizemode": "area",
          "sizeref": 0.31475000000000003,
          "symbol": "circle"
         },
         "mode": "markers",
         "name": "Aerospace and defense",
         "orientation": "v",
         "showlegend": true,
         "type": "scatter",
         "x": [
          52,
          57
         ],
         "xaxis": "x",
         "y": [
          77794,
          67571
         ],
         "yaxis": "y"
        },
        {
         "hovertemplate": "<b>%{hovertext}</b><br><br>Industry=Food service<br>Rank=%{x}<br>Revenue (USD millions)=%{y}<br>Revenue growth=%{marker.size}<extra></extra>",
         "hovertext": [
          "Sysco"
         ],
         "legendgroup": "Food service",
         "marker": {
          "color": "#636efa",
          "size": [
           11.2
          ],
          "sizemode": "area",
          "sizeref": 0.31475000000000003,
          "symbol": "circle"
         },
         "mode": "markers",
         "name": "Food service",
         "orientation": "v",
         "showlegend": true,
         "type": "scatter",
         "x": [
          54
         ],
         "xaxis": "x",
         "y": [
          76325
         ],
         "yaxis": "y"
        },
        {
         "hovertemplate": "<b>%{hovertext}</b><br><br>Industry=Financial<br>Rank=%{x}<br>Revenue (USD millions)=%{y}<br>Revenue growth=%{marker.size}<extra></extra>",
         "hovertext": [
          "American Express",
          "Nationwide Mutual Insurance Company"
         ],
         "legendgroup": "Financial",
         "marker": {
          "color": "#EF553B",
          "size": [
           21.1,
           6.1
          ],
          "sizemode": "area",
          "sizeref": 0.31475000000000003,
          "symbol": "circle"
         },
         "mode": "markers",
         "name": "Financial",
         "orientation": "v",
         "showlegend": true,
         "type": "scatter",
         "x": [
          58,
          75
         ],
         "xaxis": "x",
         "y": [
          67364,
          54609
         ],
         "yaxis": "y"
        },
        {
         "hovertemplate": "<b>%{hovertext}</b><br><br>Industry=Machinery<br>Rank=%{x}<br>Revenue (USD millions)=%{y}<br>Revenue growth=%{marker.size}<extra></extra>",
         "hovertext": [
          "Caterpillar"
         ],
         "legendgroup": "Machinery",
         "marker": {
          "color": "#00cc96",
          "size": [
           12.8
          ],
          "sizemode": "area",
          "sizeref": 0.31475000000000003,
          "symbol": "circle"
         },
         "mode": "markers",
         "name": "Machinery",
         "orientation": "v",
         "showlegend": true,
         "type": "scatter",
         "x": [
          59
         ],
         "xaxis": "x",
         "y": [
          67060
         ],
         "yaxis": "y"
        },
        {
         "hovertemplate": "<b>%{hovertext}</b><br><br>Industry=Insurance<br>Rank=%{x}<br>Revenue (USD millions)=%{y}<br>Revenue growth=%{marker.size}<extra></extra>",
         "hovertext": [
          "Progressive Corporation",
          "Allstate",
          "New York Life Insurance Company",
          "Liberty Mutual"
         ],
         "legendgroup": "Insurance",
         "marker": {
          "color": "#ab63fa",
          "size": [
           25.2,
           11.1,
           14.2,
           5.3
          ],
          "sizemode": "area",
          "sizeref": 0.31475000000000003,
          "symbol": "circle"
         },
         "mode": "markers",
         "name": "Insurance",
         "orientation": "v",
         "showlegend": true,
         "type": "scatter",
         "x": [
          62,
          73,
          78,
          87
         ],
         "xaxis": "x",
         "y": [
          62109,
          57094,
          54317,
          52612
         ],
         "yaxis": "y"
        },
        {
         "hovertemplate": "<b>%{hovertext}</b><br><br>Industry=Agriculture manufacturing<br>Rank=%{x}<br>Revenue (USD millions)=%{y}<br>Revenue growth=%{marker.size}<extra></extra>",
         "hovertext": [
          "John Deere"
         ],
         "legendgroup": "Agriculture manufacturing",
         "marker": {
          "color": "#FFA15A",
          "size": [
           16.5
          ],
          "sizemode": "area",
          "sizeref": 0.31475000000000003,
          "symbol": "circle"
         },
         "mode": "markers",
         "name": "Agriculture manufacturing",
         "orientation": "v",
         "showlegend": true,
         "type": "scatter",
         "x": [
          64
         ],
         "xaxis": "x",
         "y": [
          61251
         ],
         "yaxis": "y"
        },
        {
         "hovertemplate": "<b>%{hovertext}</b><br><br>Industry=Airline<br>Rank=%{x}<br>Revenue (USD millions)=%{y}<br>Revenue growth=%{marker.size}<extra></extra>",
         "hovertext": [
          "Delta Air Lines",
          "United Airlines",
          "American Airlines"
         ],
         "legendgroup": "Airline",
         "marker": {
          "color": "#19d3f3",
          "size": [
           14.8,
           19.5,
           7.8
          ],
          "sizemode": "area",
          "sizeref": 0.31475000000000003,
          "symbol": "circle"
         },
         "mode": "markers",
         "name": "Airline",
         "orientation": "v",
         "showlegend": true,
         "type": "scatter",
         "x": [
          70,
          83,
          86
         ],
         "xaxis": "x",
         "y": [
          58048,
          53717,
          52788
         ],
         "yaxis": "y"
        },
        {
         "hovertemplate": "<b>%{hovertext}</b><br><br>Industry=Telecom hardware manufacturing<br>Rank=%{x}<br>Revenue (USD millions)=%{y}<br>Revenue growth=%{marker.size}<extra></extra>",
         "hovertext": [
          "Cisco"
         ],
         "legendgroup": "Telecom hardware manufacturing",
         "marker": {
          "color": "#FF6692",
          "size": [
           10.6
          ],
          "sizemode": "area",
          "sizeref": 0.31475000000000003,
          "symbol": "circle"
         },
         "mode": "markers",
         "name": "Telecom hardware manufacturing",
         "orientation": "v",
         "showlegend": true,
         "type": "scatter",
         "x": [
          74
         ],
         "xaxis": "x",
         "y": [
          56998
         ],
         "yaxis": "y"
        },
        {
         "hovertemplate": "<b>%{hovertext}</b><br><br>Industry=Food processing<br>Rank=%{x}<br>Revenue (USD millions)=%{y}<br>Revenue growth=%{marker.size}<extra></extra>",
         "hovertext": [
          "Performance Food Group"
         ],
         "legendgroup": "Food processing",
         "marker": {
          "color": "#B6E880",
          "size": [
           13.1
          ],
          "sizemode": "area",
          "sizeref": 0.31475000000000003,
          "symbol": "circle"
         },
         "mode": "markers",
         "name": "Food processing",
         "orientation": "v",
         "showlegend": true,
         "type": "scatter",
         "x": [
          84
         ],
         "xaxis": "x",
         "y": [
          53355
         ],
         "yaxis": "y"
        },
        {
         "hovertemplate": "<b>%{hovertext}</b><br><br>Industry=Apparel<br>Rank=%{x}<br>Revenue (USD millions)=%{y}<br>Revenue growth=%{marker.size}<extra></extra>",
         "hovertext": [
          "Nike"
         ],
         "legendgroup": "Apparel",
         "marker": {
          "color": "#FF97FF",
          "size": [
           9.6
          ],
          "sizemode": "area",
          "sizeref": 0.31475000000000003,
          "symbol": "circle"
         },
         "mode": "markers",
         "name": "Apparel",
         "orientation": "v",
         "showlegend": true,
         "type": "scatter",
         "x": [
          88
         ],
         "xaxis": "x",
         "y": [
          51217
         ],
         "yaxis": "y"
        }
       ],
       "layout": {
        "legend": {
         "itemsizing": "constant",
         "title": {
          "text": "Industry"
         },
         "tracegroupgap": 0
        },
        "template": {
         "data": {
          "bar": [
           {
            "error_x": {
             "color": "#2a3f5f"
            },
            "error_y": {
             "color": "#2a3f5f"
            },
            "marker": {
             "line": {
              "color": "#E5ECF6",
              "width": 0.5
             },
             "pattern": {
              "fillmode": "overlay",
              "size": 10,
              "solidity": 0.2
             }
            },
            "type": "bar"
           }
          ],
          "barpolar": [
           {
            "marker": {
             "line": {
              "color": "#E5ECF6",
              "width": 0.5
             },
             "pattern": {
              "fillmode": "overlay",
              "size": 10,
              "solidity": 0.2
             }
            },
            "type": "barpolar"
           }
          ],
          "carpet": [
           {
            "aaxis": {
             "endlinecolor": "#2a3f5f",
             "gridcolor": "white",
             "linecolor": "white",
             "minorgridcolor": "white",
             "startlinecolor": "#2a3f5f"
            },
            "baxis": {
             "endlinecolor": "#2a3f5f",
             "gridcolor": "white",
             "linecolor": "white",
             "minorgridcolor": "white",
             "startlinecolor": "#2a3f5f"
            },
            "type": "carpet"
           }
          ],
          "choropleth": [
           {
            "colorbar": {
             "outlinewidth": 0,
             "ticks": ""
            },
            "type": "choropleth"
           }
          ],
          "contour": [
           {
            "colorbar": {
             "outlinewidth": 0,
             "ticks": ""
            },
            "colorscale": [
             [
              0,
              "#0d0887"
             ],
             [
              0.1111111111111111,
              "#46039f"
             ],
             [
              0.2222222222222222,
              "#7201a8"
             ],
             [
              0.3333333333333333,
              "#9c179e"
             ],
             [
              0.4444444444444444,
              "#bd3786"
             ],
             [
              0.5555555555555556,
              "#d8576b"
             ],
             [
              0.6666666666666666,
              "#ed7953"
             ],
             [
              0.7777777777777778,
              "#fb9f3a"
             ],
             [
              0.8888888888888888,
              "#fdca26"
             ],
             [
              1,
              "#f0f921"
             ]
            ],
            "type": "contour"
           }
          ],
          "contourcarpet": [
           {
            "colorbar": {
             "outlinewidth": 0,
             "ticks": ""
            },
            "type": "contourcarpet"
           }
          ],
          "heatmap": [
           {
            "colorbar": {
             "outlinewidth": 0,
             "ticks": ""
            },
            "colorscale": [
             [
              0,
              "#0d0887"
             ],
             [
              0.1111111111111111,
              "#46039f"
             ],
             [
              0.2222222222222222,
              "#7201a8"
             ],
             [
              0.3333333333333333,
              "#9c179e"
             ],
             [
              0.4444444444444444,
              "#bd3786"
             ],
             [
              0.5555555555555556,
              "#d8576b"
             ],
             [
              0.6666666666666666,
              "#ed7953"
             ],
             [
              0.7777777777777778,
              "#fb9f3a"
             ],
             [
              0.8888888888888888,
              "#fdca26"
             ],
             [
              1,
              "#f0f921"
             ]
            ],
            "type": "heatmap"
           }
          ],
          "heatmapgl": [
           {
            "colorbar": {
             "outlinewidth": 0,
             "ticks": ""
            },
            "colorscale": [
             [
              0,
              "#0d0887"
             ],
             [
              0.1111111111111111,
              "#46039f"
             ],
             [
              0.2222222222222222,
              "#7201a8"
             ],
             [
              0.3333333333333333,
              "#9c179e"
             ],
             [
              0.4444444444444444,
              "#bd3786"
             ],
             [
              0.5555555555555556,
              "#d8576b"
             ],
             [
              0.6666666666666666,
              "#ed7953"
             ],
             [
              0.7777777777777778,
              "#fb9f3a"
             ],
             [
              0.8888888888888888,
              "#fdca26"
             ],
             [
              1,
              "#f0f921"
             ]
            ],
            "type": "heatmapgl"
           }
          ],
          "histogram": [
           {
            "marker": {
             "pattern": {
              "fillmode": "overlay",
              "size": 10,
              "solidity": 0.2
             }
            },
            "type": "histogram"
           }
          ],
          "histogram2d": [
           {
            "colorbar": {
             "outlinewidth": 0,
             "ticks": ""
            },
            "colorscale": [
             [
              0,
              "#0d0887"
             ],
             [
              0.1111111111111111,
              "#46039f"
             ],
             [
              0.2222222222222222,
              "#7201a8"
             ],
             [
              0.3333333333333333,
              "#9c179e"
             ],
             [
              0.4444444444444444,
              "#bd3786"
             ],
             [
              0.5555555555555556,
              "#d8576b"
             ],
             [
              0.6666666666666666,
              "#ed7953"
             ],
             [
              0.7777777777777778,
              "#fb9f3a"
             ],
             [
              0.8888888888888888,
              "#fdca26"
             ],
             [
              1,
              "#f0f921"
             ]
            ],
            "type": "histogram2d"
           }
          ],
          "histogram2dcontour": [
           {
            "colorbar": {
             "outlinewidth": 0,
             "ticks": ""
            },
            "colorscale": [
             [
              0,
              "#0d0887"
             ],
             [
              0.1111111111111111,
              "#46039f"
             ],
             [
              0.2222222222222222,
              "#7201a8"
             ],
             [
              0.3333333333333333,
              "#9c179e"
             ],
             [
              0.4444444444444444,
              "#bd3786"
             ],
             [
              0.5555555555555556,
              "#d8576b"
             ],
             [
              0.6666666666666666,
              "#ed7953"
             ],
             [
              0.7777777777777778,
              "#fb9f3a"
             ],
             [
              0.8888888888888888,
              "#fdca26"
             ],
             [
              1,
              "#f0f921"
             ]
            ],
            "type": "histogram2dcontour"
           }
          ],
          "mesh3d": [
           {
            "colorbar": {
             "outlinewidth": 0,
             "ticks": ""
            },
            "type": "mesh3d"
           }
          ],
          "parcoords": [
           {
            "line": {
             "colorbar": {
              "outlinewidth": 0,
              "ticks": ""
             }
            },
            "type": "parcoords"
           }
          ],
          "pie": [
           {
            "automargin": true,
            "type": "pie"
           }
          ],
          "scatter": [
           {
            "fillpattern": {
             "fillmode": "overlay",
             "size": 10,
             "solidity": 0.2
            },
            "type": "scatter"
           }
          ],
          "scatter3d": [
           {
            "line": {
             "colorbar": {
              "outlinewidth": 0,
              "ticks": ""
             }
            },
            "marker": {
             "colorbar": {
              "outlinewidth": 0,
              "ticks": ""
             }
            },
            "type": "scatter3d"
           }
          ],
          "scattercarpet": [
           {
            "marker": {
             "colorbar": {
              "outlinewidth": 0,
              "ticks": ""
             }
            },
            "type": "scattercarpet"
           }
          ],
          "scattergeo": [
           {
            "marker": {
             "colorbar": {
              "outlinewidth": 0,
              "ticks": ""
             }
            },
            "type": "scattergeo"
           }
          ],
          "scattergl": [
           {
            "marker": {
             "colorbar": {
              "outlinewidth": 0,
              "ticks": ""
             }
            },
            "type": "scattergl"
           }
          ],
          "scattermapbox": [
           {
            "marker": {
             "colorbar": {
              "outlinewidth": 0,
              "ticks": ""
             }
            },
            "type": "scattermapbox"
           }
          ],
          "scatterpolar": [
           {
            "marker": {
             "colorbar": {
              "outlinewidth": 0,
              "ticks": ""
             }
            },
            "type": "scatterpolar"
           }
          ],
          "scatterpolargl": [
           {
            "marker": {
             "colorbar": {
              "outlinewidth": 0,
              "ticks": ""
             }
            },
            "type": "scatterpolargl"
           }
          ],
          "scatterternary": [
           {
            "marker": {
             "colorbar": {
              "outlinewidth": 0,
              "ticks": ""
             }
            },
            "type": "scatterternary"
           }
          ],
          "surface": [
           {
            "colorbar": {
             "outlinewidth": 0,
             "ticks": ""
            },
            "colorscale": [
             [
              0,
              "#0d0887"
             ],
             [
              0.1111111111111111,
              "#46039f"
             ],
             [
              0.2222222222222222,
              "#7201a8"
             ],
             [
              0.3333333333333333,
              "#9c179e"
             ],
             [
              0.4444444444444444,
              "#bd3786"
             ],
             [
              0.5555555555555556,
              "#d8576b"
             ],
             [
              0.6666666666666666,
              "#ed7953"
             ],
             [
              0.7777777777777778,
              "#fb9f3a"
             ],
             [
              0.8888888888888888,
              "#fdca26"
             ],
             [
              1,
              "#f0f921"
             ]
            ],
            "type": "surface"
           }
          ],
          "table": [
           {
            "cells": {
             "fill": {
              "color": "#EBF0F8"
             },
             "line": {
              "color": "white"
             }
            },
            "header": {
             "fill": {
              "color": "#C8D4E3"
             },
             "line": {
              "color": "white"
             }
            },
            "type": "table"
           }
          ]
         },
         "layout": {
          "annotationdefaults": {
           "arrowcolor": "#2a3f5f",
           "arrowhead": 0,
           "arrowwidth": 1
          },
          "autotypenumbers": "strict",
          "coloraxis": {
           "colorbar": {
            "outlinewidth": 0,
            "ticks": ""
           }
          },
          "colorscale": {
           "diverging": [
            [
             0,
             "#8e0152"
            ],
            [
             0.1,
             "#c51b7d"
            ],
            [
             0.2,
             "#de77ae"
            ],
            [
             0.3,
             "#f1b6da"
            ],
            [
             0.4,
             "#fde0ef"
            ],
            [
             0.5,
             "#f7f7f7"
            ],
            [
             0.6,
             "#e6f5d0"
            ],
            [
             0.7,
             "#b8e186"
            ],
            [
             0.8,
             "#7fbc41"
            ],
            [
             0.9,
             "#4d9221"
            ],
            [
             1,
             "#276419"
            ]
           ],
           "sequential": [
            [
             0,
             "#0d0887"
            ],
            [
             0.1111111111111111,
             "#46039f"
            ],
            [
             0.2222222222222222,
             "#7201a8"
            ],
            [
             0.3333333333333333,
             "#9c179e"
            ],
            [
             0.4444444444444444,
             "#bd3786"
            ],
            [
             0.5555555555555556,
             "#d8576b"
            ],
            [
             0.6666666666666666,
             "#ed7953"
            ],
            [
             0.7777777777777778,
             "#fb9f3a"
            ],
            [
             0.8888888888888888,
             "#fdca26"
            ],
            [
             1,
             "#f0f921"
            ]
           ],
           "sequentialminus": [
            [
             0,
             "#0d0887"
            ],
            [
             0.1111111111111111,
             "#46039f"
            ],
            [
             0.2222222222222222,
             "#7201a8"
            ],
            [
             0.3333333333333333,
             "#9c179e"
            ],
            [
             0.4444444444444444,
             "#bd3786"
            ],
            [
             0.5555555555555556,
             "#d8576b"
            ],
            [
             0.6666666666666666,
             "#ed7953"
            ],
            [
             0.7777777777777778,
             "#fb9f3a"
            ],
            [
             0.8888888888888888,
             "#fdca26"
            ],
            [
             1,
             "#f0f921"
            ]
           ]
          },
          "colorway": [
           "#636efa",
           "#EF553B",
           "#00cc96",
           "#ab63fa",
           "#FFA15A",
           "#19d3f3",
           "#FF6692",
           "#B6E880",
           "#FF97FF",
           "#FECB52"
          ],
          "font": {
           "color": "#2a3f5f"
          },
          "geo": {
           "bgcolor": "white",
           "lakecolor": "white",
           "landcolor": "#E5ECF6",
           "showlakes": true,
           "showland": true,
           "subunitcolor": "white"
          },
          "hoverlabel": {
           "align": "left"
          },
          "hovermode": "closest",
          "mapbox": {
           "style": "light"
          },
          "paper_bgcolor": "white",
          "plot_bgcolor": "#E5ECF6",
          "polar": {
           "angularaxis": {
            "gridcolor": "white",
            "linecolor": "white",
            "ticks": ""
           },
           "bgcolor": "#E5ECF6",
           "radialaxis": {
            "gridcolor": "white",
            "linecolor": "white",
            "ticks": ""
           }
          },
          "scene": {
           "xaxis": {
            "backgroundcolor": "#E5ECF6",
            "gridcolor": "white",
            "gridwidth": 2,
            "linecolor": "white",
            "showbackground": true,
            "ticks": "",
            "zerolinecolor": "white"
           },
           "yaxis": {
            "backgroundcolor": "#E5ECF6",
            "gridcolor": "white",
            "gridwidth": 2,
            "linecolor": "white",
            "showbackground": true,
            "ticks": "",
            "zerolinecolor": "white"
           },
           "zaxis": {
            "backgroundcolor": "#E5ECF6",
            "gridcolor": "white",
            "gridwidth": 2,
            "linecolor": "white",
            "showbackground": true,
            "ticks": "",
            "zerolinecolor": "white"
           }
          },
          "shapedefaults": {
           "line": {
            "color": "#2a3f5f"
           }
          },
          "ternary": {
           "aaxis": {
            "gridcolor": "white",
            "linecolor": "white",
            "ticks": ""
           },
           "baxis": {
            "gridcolor": "white",
            "linecolor": "white",
            "ticks": ""
           },
           "bgcolor": "#E5ECF6",
           "caxis": {
            "gridcolor": "white",
            "linecolor": "white",
            "ticks": ""
           }
          },
          "title": {
           "x": 0.05
          },
          "xaxis": {
           "automargin": true,
           "gridcolor": "white",
           "linecolor": "white",
           "ticks": "",
           "title": {
            "standoff": 15
           },
           "zerolinecolor": "white",
           "zerolinewidth": 2
          },
          "yaxis": {
           "automargin": true,
           "gridcolor": "white",
           "linecolor": "white",
           "ticks": "",
           "title": {
            "standoff": 15
           },
           "zerolinecolor": "white",
           "zerolinewidth": 2
          }
         }
        },
        "title": {
         "text": "Scatter Plot of Companies"
        },
        "updatemenus": [
         {
          "buttons": [
           {
            "args": [
             {
              "visible": [
               true,
               false,
               false,
               false,
               false,
               false,
               false,
               false,
               true,
               false,
               false,
               false,
               false,
               false,
               false,
               false,
               false,
               false,
               false,
               false,
               false,
               false,
               false,
               false,
               false,
               false,
               false,
               false,
               false,
               false,
               false,
               false,
               false,
               false,
               false,
               false,
               true,
               false,
               false,
               false,
               false,
               false,
               false,
               false,
               false,
               false,
               false,
               false,
               true,
               false,
               false,
               false,
               false,
               false,
               true,
               false,
               false,
               false,
               false,
               false,
               false,
               false,
               false,
               false
              ]
             },
             {
              "title": "Scatter Plot for Industry: Retail"
             }
            ],
            "label": "Retail",
            "method": "update"
           },
           {
            "args": [
             {
              "visible": [
               false,
               true,
               false,
               false,
               false,
               false,
               false,
               false,
               false,
               false,
               false,
               false,
               false,
               false,
               false,
               false,
               false,
               false,
               false,
               false,
               false,
               false,
               false,
               false,
               false,
               false,
               false,
               false,
               false,
               false,
               false,
               false,
               false,
               false,
               false,
               false,
               false,
               false,
               false,
               false,
               false,
               false,
               false,
               false,
               false,
               false,
               false,
               false,
               false,
               false,
               false,
               false,
               false,
               false,
               false,
               false,
               false,
               false,
               false,
               false,
               false,
               false,
               false,
               false
              ]
             },
             {
              "title": "Scatter Plot for Industry: Retail and cloud computing"
             }
            ],
            "label": "Retail and cloud computing",
            "method": "update"
           },
           {
            "args": [
             {
              "visible": [
               false,
               false,
               true,
               false,
               true,
               false,
               false,
               false,
               false,
               false,
               false,
               true,
               false,
               false,
               false,
               false,
               true,
               false,
               true,
               false,
               false,
               false,
               false,
               false,
               false,
               false,
               false,
               false,
               false,
               false,
               false,
               false,
               false,
               false,
               false,
               false,
               false,
               false,
               false,
               false,
               false,
               false,
               true,
               false,
               false,
               false,
               false,
               false,
               false,
               false,
               false,
               false,
               false,
               false,
               false,
               false,
               false,
               false,
               false,
               false,
               false,
               false,
               false,
               false
              ]
             },
             {
              "title": "Scatter Plot for Industry: Healthcare"
             }
            ],
            "label": "Healthcare",
            "method": "update"
           },
           {
            "args": [
             {
              "visible": [
               false,
               false,
               false,
               true,
               false,
               false,
               false,
               false,
               false,
               false,
               false,
               false,
               false,
               false,
               false,
               false,
               false,
               false,
               false,
               false,
               false,
               false,
               false,
               false,
               false,
               false,
               false,
               false,
               false,
               false,
               false,
               false,
               false,
               false,
               false,
               false,
               false,
               false,
               true,
               false,
               false,
               false,
               false,
               false,
               false,
               false,
               false,
               false,
               false,
               false,
               false,
               false,
               false,
               false,
               false,
               false,
               false,
               false,
               false,
               false,
               false,
               false,
               false,
               false
              ]
             },
             {
              "title": "Scatter Plot for Industry: Conglomerate"
             }
            ],
            "label": "Conglomerate",
            "method": "update"
           },
           {
            "args": [
             {
              "visible": [
               false,
               false,
               false,
               false,
               false,
               true,
               false,
               false,
               false,
               false,
               true,
               false,
               false,
               false,
               false,
               false,
               false,
               false,
               false,
               false,
               false,
               false,
               false,
               false,
               false,
               false,
               false,
               false,
               false,
               false,
               false,
               false,
               false,
               false,
               false,
               false,
               false,
               false,
               false,
               false,
               false,
               false,
               false,
               false,
               false,
               false,
               false,
               false,
               false,
               false,
               false,
               false,
               false,
               false,
               false,
               false,
               false,
               false,
               false,
               false,
               false,
               false,
               false,
               false
              ]
             },
             {
              "title": "Scatter Plot for Industry: Technology and cloud computing"
             }
            ],
            "label": "Technology and cloud computing",
            "method": "update"
           },
           {
            "args": [
             {
              "visible": [
               false,
               false,
               false,
               false,
               false,
               false,
               true,
               false,
               false,
               false,
               false,
               false,
               false,
               false,
               false,
               false,
               false,
               false,
               false,
               false,
               false,
               false,
               false,
               false,
               false,
               false,
               false,
               false,
               false,
               false,
               false,
               false,
               false,
               false,
               false,
               false,
               false,
               false,
               false,
               false,
               false,
               false,
               false,
               false,
               false,
               false,
               false,
               false,
               false,
               false,
               false,
               false,
               false,
               false,
               false,
               false,
               false,
               false,
               false,
               false,
               false,
               false,
               false,
               false
              ]
             },
             {
              "title": "Scatter Plot for Industry: Health"
             }
            ],
            "label": "Health",
            "method": "update"
           },
           {
            "args": [
             {
              "visible": [
               false,
               false,
               false,
               false,
               false,
               false,
               false,
               true,
               false,
               false,
               false,
               false,
               false,
               false,
               false,
               false,
               false,
               false,
               false,
               false,
               false,
               false,
               false,
               false,
               false,
               false,
               false,
               false,
               false,
               false,
               false,
               false,
               false,
               false,
               false,
               false,
               false,
               false,
               false,
               false,
               false,
               false,
               false,
               false,
               false,
               false,
               false,
               false,
               false,
               false,
               false,
               false,
               false,
               false,
               false,
               false,
               false,
               false,
               false,
               false,
               false,
               false,
               false,
               false
              ]
             },
             {
              "title": "Scatter Plot for Industry: Pharmacy wholesale"
             }
            ],
            "label": "Pharmacy wholesale",
            "method": "update"
           },
           {
            "args": [
             {
              "visible": [
               false,
               false,
               false,
               false,
               false,
               false,
               false,
               false,
               false,
               true,
               false,
               false,
               false,
               false,
               false,
               false,
               false,
               false,
               false,
               false,
               false,
               false,
               false,
               false,
               false,
               false,
               false,
               false,
               false,
               false,
               false,
               false,
               false,
               false,
               false,
               false,
               false,
               false,
               false,
               false,
               false,
               false,
               false,
               false,
               false,
               false,
               false,
               false,
               false,
               false,
               false,
               false,
               false,
               false,
               false,
               false,
               false,
               false,
               false,
               false,
               false,
               false,
               false,
               false
              ]
             },
             {
              "title": "Scatter Plot for Industry: Financial services"
             }
            ],
            "label": "Financial services",
            "method": "update"
           },
           {
            "args": [
             {
              "visible": [
               false,
               false,
               false,
               false,
               false,
               false,
               false,
               false,
               false,
               false,
               false,
               false,
               true,
               false,
               false,
               false,
               false,
               false,
               false,
               false,
               false,
               false,
               false,
               false,
               false,
               false,
               false,
               true,
               false,
               false,
               false,
               false,
               false,
               false,
               false,
               false,
               false,
               false,
               false,
               false,
               false,
               false,
               false,
               false,
               false,
               false,
               false,
               false,
               false,
               false,
               false,
               false,
               false,
               false,
               false,
               false,
               false,
               false,
               false,
               false,
               false,
               false,
               false,
               false
              ]
             },
             {
              "title": "Scatter Plot for Industry: Health insurance"
             }
            ],
            "label": "Health insurance",
            "method": "update"
           },
           {
            "args": [
             {
              "visible": [
               false,
               false,
               false,
               false,
               false,
               false,
               false,
               false,
               false,
               false,
               false,
               false,
               false,
               true,
               false,
               true,
               false,
               false,
               false,
               false,
               false,
               false,
               false,
               false,
               false,
               false,
               false,
               false,
               false,
               false,
               false,
               false,
               false,
               false,
               false,
               false,
               false,
               false,
               false,
               false,
               false,
               false,
               false,
               false,
               false,
               false,
               false,
               false,
               false,
               false,
               false,
               false,
               false,
               false,
               false,
               false,
               false,
               false,
               false,
               false,
               false,
               false,
               false,
               false
              ]
             },
             {
              "title": "Scatter Plot for Industry: Automotive industry"
             }
            ],
            "label": "Automotive industry",
            "method": "update"
           },
           {
            "args": [
             {
              "visible": [
               false,
               false,
               false,
               false,
               false,
               false,
               false,
               false,
               false,
               false,
               false,
               false,
               false,
               false,
               true,
               false,
               false,
               true,
               false,
               true,
               false,
               false,
               false,
               false,
               true,
               true,
               true,
               false,
               true,
               false,
               true,
               false,
               false,
               false,
               false,
               false,
               false,
               false,
               false,
               false,
               false,
               false,
               false,
               false,
               false,
               false,
               false,
               false,
               false,
               false,
               false,
               false,
               false,
               false,
               false,
               false,
               false,
               false,
               false,
               false,
               false,
               true,
               false,
               true
              ]
             },
             {
              "title": "Scatter Plot for Industry: Financials"
             }
            ],
            "label": "Financials",
            "method": "update"
           },
           {
            "args": [
             {
              "visible": [
               false,
               false,
               false,
               false,
               false,
               false,
               false,
               false,
               false,
               false,
               false,
               false,
               false,
               false,
               false,
               false,
               false,
               false,
               false,
               false,
               true,
               false,
               false,
               false,
               false,
               false,
               false,
               false,
               false,
               false,
               false,
               true,
               false,
               false,
               false,
               false,
               false,
               false,
               false,
               false,
               false,
               false,
               false,
               false,
               false,
               false,
               true,
               false,
               false,
               false,
               false,
               false,
               false,
               false,
               false,
               false,
               false,
               false,
               false,
               false,
               false,
               false,
               false,
               false
              ]
             },
             {
              "title": "Scatter Plot for Industry: Pharmaceutical industry"
             }
            ],
            "label": "Pharmaceutical industry",
            "method": "update"
           },
           {
            "args": [
             {
              "visible": [
               false,
               false,
               false,
               false,
               false,
               false,
               false,
               false,
               false,
               false,
               false,
               false,
               false,
               false,
               false,
               false,
               false,
               false,
               false,
               false,
               false,
               true,
               false,
               false,
               false,
               false,
               false,
               false,
               false,
               false,
               false,
               false,
               false,
               false,
               false,
               false,
               false,
               false,
               false,
               false,
               false,
               false,
               false,
               false,
               false,
               true,
               false,
               false,
               false,
               false,
               false,
               false,
               false,
               false,
               false,
               false,
               false,
               false,
               false,
               false,
               true,
               false,
               false,
               false
              ]
             },
             {
              "title": "Scatter Plot for Industry: Technology"
             }
            ],
            "label": "Technology",
            "method": "update"
           },
           {
            "args": [
             {
              "visible": [
               false,
               false,
               false,
               false,
               false,
               false,
               false,
               false,
               false,
               false,
               false,
               false,
               false,
               false,
               false,
               false,
               false,
               false,
               false,
               false,
               false,
               false,
               true,
               false,
               false,
               false,
               false,
               false,
               false,
               false,
               false,
               false,
               false,
               false,
               false,
               false,
               false,
               false,
               false,
               false,
               false,
               false,
               false,
               false,
               false,
               false,
               false,
               false,
               false,
               false,
               false,
               false,
               false,
               false,
               false,
               false,
               false,
               false,
               false,
               false,
               false,
               false,
               false,
               false
              ]
             },
             {
              "title": "Scatter Plot for Industry: Conglomerate and telecommunications"
             }
            ],
            "label": "Conglomerate and telecommunications",
            "method": "update"
           },
           {
            "args": [
             {
              "visible": [
               false,
               false,
               false,
               false,
               false,
               false,
               false,
               false,
               false,
               false,
               false,
               false,
               false,
               false,
               false,
               false,
               false,
               false,
               false,
               false,
               false,
               false,
               false,
               true,
               false,
               false,
               false,
               false,
               false,
               false,
               false,
               false,
               false,
               false,
               false,
               false,
               false,
               false,
               false,
               false,
               false,
               false,
               false,
               false,
               false,
               false,
               false,
               false,
               false,
               false,
               false,
               false,
               true,
               false,
               false,
               false,
               false,
               false,
               false,
               false,
               false,
               false,
               false,
               false
              ]
             },
             {
              "title": "Scatter Plot for Industry: Telecommunications"
             }
            ],
            "label": "Telecommunications",
            "method": "update"
           },
           {
            "args": [
             {
              "visible": [
               false,
               false,
               false,
               false,
               false,
               false,
               false,
               false,
               false,
               false,
               false,
               false,
               false,
               false,
               false,
               false,
               false,
               false,
               false,
               false,
               false,
               false,
               false,
               false,
               false,
               false,
               false,
               false,
               false,
               true,
               false,
               false,
               false,
               false,
               false,
               false,
               false,
               false,
               false,
               false,
               false,
               false,
               false,
               false,
               false,
               false,
               false,
               false,
               false,
               false,
               false,
               false,
               false,
               false,
               false,
               false,
               false,
               false,
               false,
               false,
               false,
               false,
               false,
               false
              ]
             },
             {
              "title": "Scatter Plot for Industry: Automotive and energy"
             }
            ],
            "label": "Automotive and energy",
            "method": "update"
           },
           {
            "args": [
             {
              "visible": [
               false,
               false,
               false,
               false,
               false,
               false,
               false,
               false,
               false,
               false,
               false,
               false,
               false,
               false,
               false,
               false,
               false,
               false,
               false,
               false,
               false,
               false,
               false,
               false,
               false,
               false,
               false,
               false,
               false,
               false,
               false,
               false,
               true,
               false,
               false,
               false,
               false,
               false,
               false,
               false,
               false,
               false,
               false,
               false,
               false,
               false,
               false,
               false,
               false,
               false,
               false,
               false,
               false,
               false,
               false,
               false,
               false,
               false,
               false,
               false,
               false,
               false,
               true,
               false
              ]
             },
             {
              "title": "Scatter Plot for Industry: Beverage"
             }
            ],
            "label": "Beverage",
            "method": "update"
           },
           {
            "args": [
             {
              "visible": [
               false,
               false,
               false,
               false,
               false,
               false,
               false,
               false,
               false,
               false,
               false,
               false,
               false,
               false,
               false,
               false,
               false,
               false,
               false,
               false,
               false,
               false,
               false,
               false,
               false,
               false,
               false,
               false,
               false,
               false,
               false,
               false,
               false,
               true,
               false,
               false,
               false,
               false,
               false,
               false,
               false,
               false,
               false,
               false,
               false,
               false,
               false,
               false,
               false,
               false,
               false,
               false,
               false,
               false,
               false,
               false,
               false,
               false,
               false,
               false,
               false,
               false,
               false,
               false
              ]
             },
             {
              "title": "Scatter Plot for Industry: Media"
             }
            ],
            "label": "Media",
            "method": "update"
           },
           {
            "args": [
             {
              "visible": [
               false,
               false,
               false,
               false,
               false,
               false,
               false,
               false,
               false,
               false,
               false,
               false,
               false,
               false,
               false,
               false,
               false,
               false,
               false,
               false,
               false,
               false,
               false,
               false,
               false,
               false,
               false,
               false,
               false,
               false,
               false,
               false,
               false,
               false,
               true,
               false,
               false,
               false,
               false,
               false,
               false,
               false,
               false,
               false,
               false,
               false,
               false,
               false,
               false,
               false,
               false,
               false,
               false,
               false,
               false,
               false,
               false,
               false,
               false,
               false,
               false,
               false,
               false,
               false
              ]
             },
             {
              "title": "Scatter Plot for Industry: Consumer products manufacturing"
             }
            ],
            "label": "Consumer products manufacturing",
            "method": "update"
           },
           {
            "args": [
             {
              "visible": [
               false,
               false,
               false,
               false,
               false,
               false,
               false,
               false,
               false,
               false,
               false,
               false,
               false,
               false,
               false,
               false,
               false,
               false,
               false,
               false,
               false,
               false,
               false,
               false,
               false,
               false,
               false,
               false,
               false,
               false,
               false,
               false,
               false,
               false,
               false,
               true,
               false,
               false,
               false,
               true,
               false,
               false,
               false,
               false,
               false,
               false,
               false,
               false,
               false,
               false,
               false,
               false,
               false,
               false,
               false,
               false,
               false,
               false,
               false,
               false,
               false,
               false,
               false,
               false
              ]
             },
             {
              "title": "Scatter Plot for Industry: Aerospace and defense"
             }
            ],
            "label": "Aerospace and defense",
            "method": "update"
           },
           {
            "args": [
             {
              "visible": [
               false,
               false,
               false,
               false,
               false,
               false,
               false,
               false,
               false,
               false,
               false,
               false,
               false,
               false,
               false,
               false,
               false,
               false,
               false,
               false,
               false,
               false,
               false,
               false,
               false,
               false,
               false,
               false,
               false,
               false,
               false,
               false,
               false,
               false,
               false,
               false,
               false,
               true,
               false,
               false,
               false,
               false,
               false,
               false,
               false,
               false,
               false,
               false,
               false,
               false,
               false,
               false,
               false,
               false,
               false,
               false,
               false,
               false,
               false,
               false,
               false,
               false,
               false,
               false
              ]
             },
             {
              "title": "Scatter Plot for Industry: Food service"
             }
            ],
            "label": "Food service",
            "method": "update"
           },
           {
            "args": [
             {
              "visible": [
               false,
               false,
               false,
               false,
               false,
               false,
               false,
               false,
               false,
               false,
               false,
               false,
               false,
               false,
               false,
               false,
               false,
               false,
               false,
               false,
               false,
               false,
               false,
               false,
               false,
               false,
               false,
               false,
               false,
               false,
               false,
               false,
               false,
               false,
               false,
               false,
               false,
               false,
               false,
               false,
               true,
               false,
               false,
               false,
               false,
               false,
               false,
               false,
               false,
               false,
               false,
               true,
               false,
               false,
               false,
               false,
               false,
               false,
               false,
               false,
               false,
               false,
               false,
               false
              ]
             },
             {
              "title": "Scatter Plot for Industry: Financial"
             }
            ],
            "label": "Financial",
            "method": "update"
           },
           {
            "args": [
             {
              "visible": [
               false,
               false,
               false,
               false,
               false,
               false,
               false,
               false,
               false,
               false,
               false,
               false,
               false,
               false,
               false,
               false,
               false,
               false,
               false,
               false,
               false,
               false,
               false,
               false,
               false,
               false,
               false,
               false,
               false,
               false,
               false,
               false,
               false,
               false,
               false,
               false,
               false,
               false,
               false,
               false,
               false,
               true,
               false,
               false,
               false,
               false,
               false,
               false,
               false,
               false,
               false,
               false,
               false,
               false,
               false,
               false,
               false,
               false,
               false,
               false,
               false,
               false,
               false,
               false
              ]
             },
             {
              "title": "Scatter Plot for Industry: Machinery"
             }
            ],
            "label": "Machinery",
            "method": "update"
           },
           {
            "args": [
             {
              "visible": [
               false,
               false,
               false,
               false,
               false,
               false,
               false,
               false,
               false,
               false,
               false,
               false,
               false,
               false,
               false,
               false,
               false,
               false,
               false,
               false,
               false,
               false,
               false,
               false,
               false,
               false,
               false,
               false,
               false,
               false,
               false,
               false,
               false,
               false,
               false,
               false,
               false,
               false,
               false,
               false,
               false,
               false,
               false,
               true,
               false,
               false,
               false,
               false,
               false,
               true,
               false,
               false,
               false,
               true,
               false,
               false,
               false,
               false,
               true,
               false,
               false,
               false,
               false,
               false
              ]
             },
             {
              "title": "Scatter Plot for Industry: Insurance"
             }
            ],
            "label": "Insurance",
            "method": "update"
           },
           {
            "args": [
             {
              "visible": [
               false,
               false,
               false,
               false,
               false,
               false,
               false,
               false,
               false,
               false,
               false,
               false,
               false,
               false,
               false,
               false,
               false,
               false,
               false,
               false,
               false,
               false,
               false,
               false,
               false,
               false,
               false,
               false,
               false,
               false,
               false,
               false,
               false,
               false,
               false,
               false,
               false,
               false,
               false,
               false,
               false,
               false,
               false,
               false,
               true,
               false,
               false,
               false,
               false,
               false,
               false,
               false,
               false,
               false,
               false,
               false,
               false,
               false,
               false,
               false,
               false,
               false,
               false,
               false
              ]
             },
             {
              "title": "Scatter Plot for Industry: Agriculture manufacturing"
             }
            ],
            "label": "Agriculture manufacturing",
            "method": "update"
           },
           {
            "args": [
             {
              "visible": [
               false,
               false,
               false,
               false,
               false,
               false,
               false,
               false,
               false,
               false,
               false,
               false,
               false,
               false,
               false,
               false,
               false,
               false,
               false,
               false,
               false,
               false,
               false,
               false,
               false,
               false,
               false,
               false,
               false,
               false,
               false,
               false,
               false,
               false,
               false,
               false,
               false,
               false,
               false,
               false,
               false,
               false,
               false,
               false,
               false,
               false,
               false,
               true,
               false,
               false,
               false,
               false,
               false,
               false,
               false,
               true,
               false,
               true,
               false,
               false,
               false,
               false,
               false,
               false
              ]
             },
             {
              "title": "Scatter Plot for Industry: Airline"
             }
            ],
            "label": "Airline",
            "method": "update"
           },
           {
            "args": [
             {
              "visible": [
               false,
               false,
               false,
               false,
               false,
               false,
               false,
               false,
               false,
               false,
               false,
               false,
               false,
               false,
               false,
               false,
               false,
               false,
               false,
               false,
               false,
               false,
               false,
               false,
               false,
               false,
               false,
               false,
               false,
               false,
               false,
               false,
               false,
               false,
               false,
               false,
               false,
               false,
               false,
               false,
               false,
               false,
               false,
               false,
               false,
               false,
               false,
               false,
               false,
               false,
               true,
               false,
               false,
               false,
               false,
               false,
               false,
               false,
               false,
               false,
               false,
               false,
               false,
               false
              ]
             },
             {
              "title": "Scatter Plot for Industry: Telecom hardware manufacturing"
             }
            ],
            "label": "Telecom hardware manufacturing",
            "method": "update"
           },
           {
            "args": [
             {
              "visible": [
               false,
               false,
               false,
               false,
               false,
               false,
               false,
               false,
               false,
               false,
               false,
               false,
               false,
               false,
               false,
               false,
               false,
               false,
               false,
               false,
               false,
               false,
               false,
               false,
               false,
               false,
               false,
               false,
               false,
               false,
               false,
               false,
               false,
               false,
               false,
               false,
               false,
               false,
               false,
               false,
               false,
               false,
               false,
               false,
               false,
               false,
               false,
               false,
               false,
               false,
               false,
               false,
               false,
               false,
               false,
               false,
               true,
               false,
               false,
               false,
               false,
               false,
               false,
               false
              ]
             },
             {
              "title": "Scatter Plot for Industry: Food processing"
             }
            ],
            "label": "Food processing",
            "method": "update"
           },
           {
            "args": [
             {
              "visible": [
               false,
               false,
               false,
               false,
               false,
               false,
               false,
               false,
               false,
               false,
               false,
               false,
               false,
               false,
               false,
               false,
               false,
               false,
               false,
               false,
               false,
               false,
               false,
               false,
               false,
               false,
               false,
               false,
               false,
               false,
               false,
               false,
               false,
               false,
               false,
               false,
               false,
               false,
               false,
               false,
               false,
               false,
               false,
               false,
               false,
               false,
               false,
               false,
               false,
               false,
               false,
               false,
               false,
               false,
               false,
               false,
               false,
               false,
               false,
               true,
               false,
               false,
               false,
               false
              ]
             },
             {
              "title": "Scatter Plot for Industry: Apparel"
             }
            ],
            "label": "Apparel",
            "method": "update"
           }
          ]
         }
        ],
        "xaxis": {
         "anchor": "y",
         "domain": [
          0,
          1
         ],
         "rangeslider": {
          "visible": true
         },
         "title": {
          "text": "Rank"
         }
        },
        "yaxis": {
         "anchor": "x",
         "domain": [
          0,
          1
         ],
         "title": {
          "text": "Revenue (USD millions)"
         }
        }
       }
      },
      "text/html": [
       "<div>                            <div id=\"20f5e14b-228d-4212-b0d3-6107132c49d8\" class=\"plotly-graph-div\" style=\"height:525px; width:100%;\"></div>            <script type=\"text/javascript\">                require([\"plotly\"], function(Plotly) {                    window.PLOTLYENV=window.PLOTLYENV || {};                                    if (document.getElementById(\"20f5e14b-228d-4212-b0d3-6107132c49d8\")) {                    Plotly.newPlot(                        \"20f5e14b-228d-4212-b0d3-6107132c49d8\",                        [{\"hovertemplate\":\"<b>%{hovertext}</b><br><br>Industry=Retail<br>Rank=%{x}<br>Revenue (USD millions)=%{y}<br>Revenue growth=%{marker.size}<extra></extra>\",\"hovertext\":[\"Walmart\",\"Costco\",\"Albertsons\",\"Publix\",\"TJX\"],\"legendgroup\":\"Retail\",\"marker\":{\"color\":\"#636efa\",\"size\":[6.0,6.8,8.0,4.7,2.9],\"sizemode\":\"area\",\"sizeref\":0.31475000000000003,\"symbol\":\"circle\"},\"mode\":\"markers\",\"name\":\"Retail\",\"orientation\":\"v\",\"showlegend\":true,\"x\":[1,11,53,72,80],\"xaxis\":\"x\",\"y\":[648125,242290,77650,57534,49936],\"yaxis\":\"y\",\"type\":\"scatter\"},{\"hovertemplate\":\"<b>%{hovertext}</b><br><br>Industry=Retail and cloud computing<br>Rank=%{x}<br>Revenue (USD millions)=%{y}<br>Revenue growth=%{marker.size}<extra></extra>\",\"hovertext\":[\"Amazon\"],\"legendgroup\":\"Retail and cloud computing\",\"marker\":{\"color\":\"#EF553B\",\"size\":[11.9],\"sizemode\":\"area\",\"sizeref\":0.31475000000000003,\"symbol\":\"circle\"},\"mode\":\"markers\",\"name\":\"Retail and cloud computing\",\"orientation\":\"v\",\"showlegend\":true,\"x\":[2],\"xaxis\":\"x\",\"y\":[574785],\"yaxis\":\"y\",\"type\":\"scatter\"},{\"hovertemplate\":\"<b>%{hovertext}</b><br><br>Industry=Healthcare<br>Rank=%{x}<br>Revenue (USD millions)=%{y}<br>Revenue growth=%{marker.size}<extra></extra>\",\"hovertext\":[\"UnitedHealth Group\",\"CVS Health\",\"Cardinal Health\",\"Elevance Health\",\"Centene\",\"HCA Healthcare\"],\"legendgroup\":\"Healthcare\",\"marker\":{\"color\":\"#00cc96\",\"size\":[14.6,10.9,13.0,9.4,6.5,7.9],\"sizemode\":\"area\",\"sizeref\":0.31475000000000003,\"symbol\":\"circle\"},\"mode\":\"markers\",\"name\":\"Healthcare\",\"orientation\":\"v\",\"showlegend\":true,\"x\":[4,6,14,20,22,61],\"xaxis\":\"x\",\"y\":[371622,357776,205012,171340,153999,64968],\"yaxis\":\"y\",\"type\":\"scatter\"},{\"hovertemplate\":\"<b>%{hovertext}</b><br><br>Industry=Conglomerate<br>Rank=%{x}<br>Revenue (USD millions)=%{y}<br>Revenue growth=%{marker.size}<extra></extra>\",\"hovertext\":[\"Berkshire Hathaway\",\"RTX Corporation\"],\"legendgroup\":\"Conglomerate\",\"marker\":{\"color\":\"#ab63fa\",\"size\":[20.7,2.8],\"sizemode\":\"area\",\"sizeref\":0.31475000000000003,\"symbol\":\"circle\"},\"mode\":\"markers\",\"name\":\"Conglomerate\",\"orientation\":\"v\",\"showlegend\":true,\"x\":[5,55],\"xaxis\":\"x\",\"y\":[364482,68920],\"yaxis\":\"y\",\"type\":\"scatter\"},{\"hovertemplate\":\"<b>%{hovertext}</b><br><br>Industry=Technology and cloud computing<br>Rank=%{x}<br>Revenue (USD millions)=%{y}<br>Revenue growth=%{marker.size}<extra></extra>\",\"hovertext\":[\"Alphabet\",\"Microsoft\"],\"legendgroup\":\"Technology and cloud computing\",\"marker\":{\"color\":\"#FFA15A\",\"size\":[8.7,6.9],\"sizemode\":\"area\",\"sizeref\":0.31475000000000003,\"symbol\":\"circle\"},\"mode\":\"markers\",\"name\":\"Technology and cloud computing\",\"orientation\":\"v\",\"showlegend\":true,\"x\":[8,13],\"xaxis\":\"x\",\"y\":[307394,211915],\"yaxis\":\"y\",\"type\":\"scatter\"},{\"hovertemplate\":\"<b>%{hovertext}</b><br><br>Industry=Health<br>Rank=%{x}<br>Revenue (USD millions)=%{y}<br>Revenue growth=%{marker.size}<extra></extra>\",\"hovertext\":[\"McKesson Corporation\"],\"legendgroup\":\"Health\",\"marker\":{\"color\":\"#19d3f3\",\"size\":[4.8],\"sizemode\":\"area\",\"sizeref\":0.31475000000000003,\"symbol\":\"circle\"},\"mode\":\"markers\",\"name\":\"Health\",\"orientation\":\"v\",\"showlegend\":true,\"x\":[9],\"xaxis\":\"x\",\"y\":[276711],\"yaxis\":\"y\",\"type\":\"scatter\"},{\"hovertemplate\":\"<b>%{hovertext}</b><br><br>Industry=Pharmacy wholesale<br>Rank=%{x}<br>Revenue (USD millions)=%{y}<br>Revenue growth=%{marker.size}<extra></extra>\",\"hovertext\":[\"Cencora\"],\"legendgroup\":\"Pharmacy wholesale\",\"marker\":{\"color\":\"#FF6692\",\"size\":[9.9],\"sizemode\":\"area\",\"sizeref\":0.31475000000000003,\"symbol\":\"circle\"},\"mode\":\"markers\",\"name\":\"Pharmacy wholesale\",\"orientation\":\"v\",\"showlegend\":true,\"x\":[10],\"xaxis\":\"x\",\"y\":[262173],\"yaxis\":\"y\",\"type\":\"scatter\"},{\"hovertemplate\":\"<b>%{hovertext}</b><br><br>Industry=Financial services<br>Rank=%{x}<br>Revenue (USD millions)=%{y}<br>Revenue growth=%{marker.size}<extra></extra>\",\"hovertext\":[\"JPMorgan Chase\"],\"legendgroup\":\"Financial services\",\"marker\":{\"color\":\"#B6E880\",\"size\":[54.7],\"sizemode\":\"area\",\"sizeref\":0.31475000000000003,\"symbol\":\"circle\"},\"mode\":\"markers\",\"name\":\"Financial services\",\"orientation\":\"v\",\"showlegend\":true,\"x\":[12],\"xaxis\":\"x\",\"y\":[239425],\"yaxis\":\"y\",\"type\":\"scatter\"},{\"hovertemplate\":\"<b>%{hovertext}</b><br><br>Industry=Health insurance<br>Rank=%{x}<br>Revenue (USD millions)=%{y}<br>Revenue growth=%{marker.size}<extra></extra>\",\"hovertext\":[\"Cigna\",\"Humana\"],\"legendgroup\":\"Health insurance\",\"marker\":{\"color\":\"#FF97FF\",\"size\":[8.2,14.5],\"sizemode\":\"area\",\"sizeref\":0.31475000000000003,\"symbol\":\"circle\"},\"mode\":\"markers\",\"name\":\"Health insurance\",\"orientation\":\"v\",\"showlegend\":true,\"x\":[16,38],\"xaxis\":\"x\",\"y\":[195265,106374],\"yaxis\":\"y\",\"type\":\"scatter\"},{\"hovertemplate\":\"<b>%{hovertext}</b><br><br>Industry=Automotive industry<br>Rank=%{x}<br>Revenue (USD millions)=%{y}<br>Revenue growth=%{marker.size}<extra></extra>\",\"hovertext\":[\"Ford Motor Company\",\"General Motors\"],\"legendgroup\":\"Automotive industry\",\"marker\":{\"color\":\"#FECB52\",\"size\":[11.5,9.6],\"sizemode\":\"area\",\"sizeref\":0.31475000000000003,\"symbol\":\"circle\"},\"mode\":\"markers\",\"name\":\"Automotive industry\",\"orientation\":\"v\",\"showlegend\":true,\"x\":[17,19],\"xaxis\":\"x\",\"y\":[176191,171842],\"yaxis\":\"y\",\"type\":\"scatter\"},{\"hovertemplate\":\"<b>%{hovertext}</b><br><br>Industry=Financials<br>Rank=%{x}<br>Revenue (USD millions)=%{y}<br>Revenue growth=%{marker.size}<extra></extra>\",\"hovertext\":[\"Bank of America\",\"Citigroup\",\"Fannie Mae\",\"Wells Fargo\",\"Goldman Sachs\",\"Freddie Mac\",\"State Farm\",\"Morgan Stanley\",\"Capital One Financial\",\"TIAA\"],\"legendgroup\":\"Financials\",\"marker\":{\"color\":\"#636efa\",\"size\":[49.4,55.1,16.2,39.2,57.8,24.6,16.6,45.9,29.0,11.8],\"sizemode\":\"area\",\"sizeref\":0.31475000000000003,\"symbol\":\"circle\"},\"mode\":\"markers\",\"name\":\"Financials\",\"orientation\":\"v\",\"showlegend\":true,\"x\":[18,21,27,34,35,36,39,41,91,96],\"xaxis\":\"x\",\"y\":[171912,156820,141240,115340,108418,108050,104199,96194,49484,45735],\"yaxis\":\"y\",\"type\":\"scatter\"},{\"hovertemplate\":\"<b>%{hovertext}</b><br><br>Industry=Pharmaceutical industry<br>Rank=%{x}<br>Revenue (USD millions)=%{y}<br>Revenue growth=%{marker.size}<extra></extra>\",\"hovertext\":[\"Walgreens Boots Alliance\",\"Johnson & Johnson\",\"Merck & Co.\"],\"legendgroup\":\"Pharmaceutical industry\",\"marker\":{\"color\":\"#EF553B\",\"size\":[4.8,0.3,1.4],\"sizemode\":\"area\",\"sizeref\":0.31475000000000003,\"symbol\":\"circle\"},\"mode\":\"markers\",\"name\":\"Pharmaceutical industry\",\"orientation\":\"v\",\"showlegend\":true,\"x\":[28,42,67],\"xaxis\":\"x\",\"y\":[139081,95195,60115],\"yaxis\":\"y\",\"type\":\"scatter\"},{\"hovertemplate\":\"<b>%{hovertext}</b><br><br>Industry=Technology<br>Rank=%{x}<br>Revenue (USD millions)=%{y}<br>Revenue growth=%{marker.size}<extra></extra>\",\"hovertext\":[\"Meta Platforms\",\"Nvidia\",\"Oracle Corporation\"],\"legendgroup\":\"Technology\",\"marker\":{\"color\":\"#00cc96\",\"size\":[15.7,125.9,17.7],\"sizemode\":\"area\",\"sizeref\":0.31475000000000003,\"symbol\":\"circle\"},\"mode\":\"markers\",\"name\":\"Technology\",\"orientation\":\"v\",\"showlegend\":true,\"x\":[30,65,89],\"xaxis\":\"x\",\"y\":[134902,60922,49954],\"yaxis\":\"y\",\"type\":\"scatter\"},{\"hovertemplate\":\"<b>%{hovertext}</b><br><br>Industry=Conglomerate and telecommunications<br>Rank=%{x}<br>Revenue (USD millions)=%{y}<br>Revenue growth=%{marker.size}<extra></extra>\",\"hovertext\":[\"AT&T\"],\"legendgroup\":\"Conglomerate and telecommunications\",\"marker\":{\"color\":\"#ab63fa\",\"size\":[1.4],\"sizemode\":\"area\",\"sizeref\":0.31475000000000003,\"symbol\":\"circle\"},\"mode\":\"markers\",\"name\":\"Conglomerate and telecommunications\",\"orientation\":\"v\",\"showlegend\":true,\"x\":[32],\"xaxis\":\"x\",\"y\":[122428],\"yaxis\":\"y\",\"type\":\"scatter\"},{\"hovertemplate\":\"<b>%{hovertext}</b><br><br>Industry=Telecommunications<br>Rank=%{x}<br>Revenue (USD millions)=%{y}<br>Revenue growth=%{marker.size}<extra></extra>\",\"hovertext\":[\"Comcast\",\"Charter Communications\"],\"legendgroup\":\"Telecommunications\",\"marker\":{\"color\":\"#FFA15A\",\"size\":[0.1,1.1],\"sizemode\":\"area\",\"sizeref\":0.31475000000000003,\"symbol\":\"circle\"},\"mode\":\"markers\",\"name\":\"Telecommunications\",\"orientation\":\"v\",\"showlegend\":true,\"x\":[33,76],\"xaxis\":\"x\",\"y\":[121572,54607],\"yaxis\":\"y\",\"type\":\"scatter\"},{\"hovertemplate\":\"<b>%{hovertext}</b><br><br>Industry=Automotive and energy<br>Rank=%{x}<br>Revenue (USD millions)=%{y}<br>Revenue growth=%{marker.size}<extra></extra>\",\"hovertext\":[\"Tesla\"],\"legendgroup\":\"Automotive and energy\",\"marker\":{\"color\":\"#19d3f3\",\"size\":[18.8],\"sizemode\":\"area\",\"sizeref\":0.31475000000000003,\"symbol\":\"circle\"},\"mode\":\"markers\",\"name\":\"Automotive and energy\",\"orientation\":\"v\",\"showlegend\":true,\"x\":[40],\"xaxis\":\"x\",\"y\":[96773],\"yaxis\":\"y\",\"type\":\"scatter\"},{\"hovertemplate\":\"<b>%{hovertext}</b><br><br>Industry=Beverage<br>Rank=%{x}<br>Revenue (USD millions)=%{y}<br>Revenue growth=%{marker.size}<extra></extra>\",\"hovertext\":[\"PepsiCo\",\"Coca-Cola\"],\"legendgroup\":\"Beverage\",\"marker\":{\"color\":\"#FF6692\",\"size\":[5.9,6.4],\"sizemode\":\"area\",\"sizeref\":0.31475000000000003,\"symbol\":\"circle\"},\"mode\":\"markers\",\"name\":\"Beverage\",\"orientation\":\"v\",\"showlegend\":true,\"x\":[44,95],\"xaxis\":\"x\",\"y\":[91471,45754],\"yaxis\":\"y\",\"type\":\"scatter\"},{\"hovertemplate\":\"<b>%{hovertext}</b><br><br>Industry=Media<br>Rank=%{x}<br>Revenue (USD millions)=%{y}<br>Revenue growth=%{marker.size}<extra></extra>\",\"hovertext\":[\"The Walt Disney Company\"],\"legendgroup\":\"Media\",\"marker\":{\"color\":\"#B6E880\",\"size\":[7.5],\"sizemode\":\"area\",\"sizeref\":0.31475000000000003,\"symbol\":\"circle\"},\"mode\":\"markers\",\"name\":\"Media\",\"orientation\":\"v\",\"showlegend\":true,\"x\":[47],\"xaxis\":\"x\",\"y\":[88898],\"yaxis\":\"y\",\"type\":\"scatter\"},{\"hovertemplate\":\"<b>%{hovertext}</b><br><br>Industry=Consumer products manufacturing<br>Rank=%{x}<br>Revenue (USD millions)=%{y}<br>Revenue growth=%{marker.size}<extra></extra>\",\"hovertext\":[\"Procter & Gamble\"],\"legendgroup\":\"Consumer products manufacturing\",\"marker\":{\"color\":\"#FF97FF\",\"size\":[2.3],\"sizemode\":\"area\",\"sizeref\":0.31475000000000003,\"symbol\":\"circle\"},\"mode\":\"markers\",\"name\":\"Consumer products manufacturing\",\"orientation\":\"v\",\"showlegend\":true,\"x\":[50],\"xaxis\":\"x\",\"y\":[82006],\"yaxis\":\"y\",\"type\":\"scatter\"},{\"hovertemplate\":\"<b>%{hovertext}</b><br><br>Industry=Aerospace and defense<br>Rank=%{x}<br>Revenue (USD millions)=%{y}<br>Revenue growth=%{marker.size}<extra></extra>\",\"hovertext\":[\"Boeing\",\"Lockheed Martin\"],\"legendgroup\":\"Aerospace and defense\",\"marker\":{\"color\":\"#FECB52\",\"size\":[16.8,2.4],\"sizemode\":\"area\",\"sizeref\":0.31475000000000003,\"symbol\":\"circle\"},\"mode\":\"markers\",\"name\":\"Aerospace and defense\",\"orientation\":\"v\",\"showlegend\":true,\"x\":[52,57],\"xaxis\":\"x\",\"y\":[77794,67571],\"yaxis\":\"y\",\"type\":\"scatter\"},{\"hovertemplate\":\"<b>%{hovertext}</b><br><br>Industry=Food service<br>Rank=%{x}<br>Revenue (USD millions)=%{y}<br>Revenue growth=%{marker.size}<extra></extra>\",\"hovertext\":[\"Sysco\"],\"legendgroup\":\"Food service\",\"marker\":{\"color\":\"#636efa\",\"size\":[11.2],\"sizemode\":\"area\",\"sizeref\":0.31475000000000003,\"symbol\":\"circle\"},\"mode\":\"markers\",\"name\":\"Food service\",\"orientation\":\"v\",\"showlegend\":true,\"x\":[54],\"xaxis\":\"x\",\"y\":[76325],\"yaxis\":\"y\",\"type\":\"scatter\"},{\"hovertemplate\":\"<b>%{hovertext}</b><br><br>Industry=Financial<br>Rank=%{x}<br>Revenue (USD millions)=%{y}<br>Revenue growth=%{marker.size}<extra></extra>\",\"hovertext\":[\"American Express\",\"Nationwide Mutual Insurance Company\"],\"legendgroup\":\"Financial\",\"marker\":{\"color\":\"#EF553B\",\"size\":[21.1,6.1],\"sizemode\":\"area\",\"sizeref\":0.31475000000000003,\"symbol\":\"circle\"},\"mode\":\"markers\",\"name\":\"Financial\",\"orientation\":\"v\",\"showlegend\":true,\"x\":[58,75],\"xaxis\":\"x\",\"y\":[67364,54609],\"yaxis\":\"y\",\"type\":\"scatter\"},{\"hovertemplate\":\"<b>%{hovertext}</b><br><br>Industry=Machinery<br>Rank=%{x}<br>Revenue (USD millions)=%{y}<br>Revenue growth=%{marker.size}<extra></extra>\",\"hovertext\":[\"Caterpillar\"],\"legendgroup\":\"Machinery\",\"marker\":{\"color\":\"#00cc96\",\"size\":[12.8],\"sizemode\":\"area\",\"sizeref\":0.31475000000000003,\"symbol\":\"circle\"},\"mode\":\"markers\",\"name\":\"Machinery\",\"orientation\":\"v\",\"showlegend\":true,\"x\":[59],\"xaxis\":\"x\",\"y\":[67060],\"yaxis\":\"y\",\"type\":\"scatter\"},{\"hovertemplate\":\"<b>%{hovertext}</b><br><br>Industry=Insurance<br>Rank=%{x}<br>Revenue (USD millions)=%{y}<br>Revenue growth=%{marker.size}<extra></extra>\",\"hovertext\":[\"Progressive Corporation\",\"Allstate\",\"New York Life Insurance Company\",\"Liberty Mutual\"],\"legendgroup\":\"Insurance\",\"marker\":{\"color\":\"#ab63fa\",\"size\":[25.2,11.1,14.2,5.3],\"sizemode\":\"area\",\"sizeref\":0.31475000000000003,\"symbol\":\"circle\"},\"mode\":\"markers\",\"name\":\"Insurance\",\"orientation\":\"v\",\"showlegend\":true,\"x\":[62,73,78,87],\"xaxis\":\"x\",\"y\":[62109,57094,54317,52612],\"yaxis\":\"y\",\"type\":\"scatter\"},{\"hovertemplate\":\"<b>%{hovertext}</b><br><br>Industry=Agriculture manufacturing<br>Rank=%{x}<br>Revenue (USD millions)=%{y}<br>Revenue growth=%{marker.size}<extra></extra>\",\"hovertext\":[\"John Deere\"],\"legendgroup\":\"Agriculture manufacturing\",\"marker\":{\"color\":\"#FFA15A\",\"size\":[16.5],\"sizemode\":\"area\",\"sizeref\":0.31475000000000003,\"symbol\":\"circle\"},\"mode\":\"markers\",\"name\":\"Agriculture manufacturing\",\"orientation\":\"v\",\"showlegend\":true,\"x\":[64],\"xaxis\":\"x\",\"y\":[61251],\"yaxis\":\"y\",\"type\":\"scatter\"},{\"hovertemplate\":\"<b>%{hovertext}</b><br><br>Industry=Airline<br>Rank=%{x}<br>Revenue (USD millions)=%{y}<br>Revenue growth=%{marker.size}<extra></extra>\",\"hovertext\":[\"Delta Air Lines\",\"United Airlines\",\"American Airlines\"],\"legendgroup\":\"Airline\",\"marker\":{\"color\":\"#19d3f3\",\"size\":[14.8,19.5,7.8],\"sizemode\":\"area\",\"sizeref\":0.31475000000000003,\"symbol\":\"circle\"},\"mode\":\"markers\",\"name\":\"Airline\",\"orientation\":\"v\",\"showlegend\":true,\"x\":[70,83,86],\"xaxis\":\"x\",\"y\":[58048,53717,52788],\"yaxis\":\"y\",\"type\":\"scatter\"},{\"hovertemplate\":\"<b>%{hovertext}</b><br><br>Industry=Telecom hardware manufacturing<br>Rank=%{x}<br>Revenue (USD millions)=%{y}<br>Revenue growth=%{marker.size}<extra></extra>\",\"hovertext\":[\"Cisco\"],\"legendgroup\":\"Telecom hardware manufacturing\",\"marker\":{\"color\":\"#FF6692\",\"size\":[10.6],\"sizemode\":\"area\",\"sizeref\":0.31475000000000003,\"symbol\":\"circle\"},\"mode\":\"markers\",\"name\":\"Telecom hardware manufacturing\",\"orientation\":\"v\",\"showlegend\":true,\"x\":[74],\"xaxis\":\"x\",\"y\":[56998],\"yaxis\":\"y\",\"type\":\"scatter\"},{\"hovertemplate\":\"<b>%{hovertext}</b><br><br>Industry=Food processing<br>Rank=%{x}<br>Revenue (USD millions)=%{y}<br>Revenue growth=%{marker.size}<extra></extra>\",\"hovertext\":[\"Performance Food Group\"],\"legendgroup\":\"Food processing\",\"marker\":{\"color\":\"#B6E880\",\"size\":[13.1],\"sizemode\":\"area\",\"sizeref\":0.31475000000000003,\"symbol\":\"circle\"},\"mode\":\"markers\",\"name\":\"Food processing\",\"orientation\":\"v\",\"showlegend\":true,\"x\":[84],\"xaxis\":\"x\",\"y\":[53355],\"yaxis\":\"y\",\"type\":\"scatter\"},{\"hovertemplate\":\"<b>%{hovertext}</b><br><br>Industry=Apparel<br>Rank=%{x}<br>Revenue (USD millions)=%{y}<br>Revenue growth=%{marker.size}<extra></extra>\",\"hovertext\":[\"Nike\"],\"legendgroup\":\"Apparel\",\"marker\":{\"color\":\"#FF97FF\",\"size\":[9.6],\"sizemode\":\"area\",\"sizeref\":0.31475000000000003,\"symbol\":\"circle\"},\"mode\":\"markers\",\"name\":\"Apparel\",\"orientation\":\"v\",\"showlegend\":true,\"x\":[88],\"xaxis\":\"x\",\"y\":[51217],\"yaxis\":\"y\",\"type\":\"scatter\"}],                        {\"template\":{\"data\":{\"histogram2dcontour\":[{\"type\":\"histogram2dcontour\",\"colorbar\":{\"outlinewidth\":0,\"ticks\":\"\"},\"colorscale\":[[0.0,\"#0d0887\"],[0.1111111111111111,\"#46039f\"],[0.2222222222222222,\"#7201a8\"],[0.3333333333333333,\"#9c179e\"],[0.4444444444444444,\"#bd3786\"],[0.5555555555555556,\"#d8576b\"],[0.6666666666666666,\"#ed7953\"],[0.7777777777777778,\"#fb9f3a\"],[0.8888888888888888,\"#fdca26\"],[1.0,\"#f0f921\"]]}],\"choropleth\":[{\"type\":\"choropleth\",\"colorbar\":{\"outlinewidth\":0,\"ticks\":\"\"}}],\"histogram2d\":[{\"type\":\"histogram2d\",\"colorbar\":{\"outlinewidth\":0,\"ticks\":\"\"},\"colorscale\":[[0.0,\"#0d0887\"],[0.1111111111111111,\"#46039f\"],[0.2222222222222222,\"#7201a8\"],[0.3333333333333333,\"#9c179e\"],[0.4444444444444444,\"#bd3786\"],[0.5555555555555556,\"#d8576b\"],[0.6666666666666666,\"#ed7953\"],[0.7777777777777778,\"#fb9f3a\"],[0.8888888888888888,\"#fdca26\"],[1.0,\"#f0f921\"]]}],\"heatmap\":[{\"type\":\"heatmap\",\"colorbar\":{\"outlinewidth\":0,\"ticks\":\"\"},\"colorscale\":[[0.0,\"#0d0887\"],[0.1111111111111111,\"#46039f\"],[0.2222222222222222,\"#7201a8\"],[0.3333333333333333,\"#9c179e\"],[0.4444444444444444,\"#bd3786\"],[0.5555555555555556,\"#d8576b\"],[0.6666666666666666,\"#ed7953\"],[0.7777777777777778,\"#fb9f3a\"],[0.8888888888888888,\"#fdca26\"],[1.0,\"#f0f921\"]]}],\"heatmapgl\":[{\"type\":\"heatmapgl\",\"colorbar\":{\"outlinewidth\":0,\"ticks\":\"\"},\"colorscale\":[[0.0,\"#0d0887\"],[0.1111111111111111,\"#46039f\"],[0.2222222222222222,\"#7201a8\"],[0.3333333333333333,\"#9c179e\"],[0.4444444444444444,\"#bd3786\"],[0.5555555555555556,\"#d8576b\"],[0.6666666666666666,\"#ed7953\"],[0.7777777777777778,\"#fb9f3a\"],[0.8888888888888888,\"#fdca26\"],[1.0,\"#f0f921\"]]}],\"contourcarpet\":[{\"type\":\"contourcarpet\",\"colorbar\":{\"outlinewidth\":0,\"ticks\":\"\"}}],\"contour\":[{\"type\":\"contour\",\"colorbar\":{\"outlinewidth\":0,\"ticks\":\"\"},\"colorscale\":[[0.0,\"#0d0887\"],[0.1111111111111111,\"#46039f\"],[0.2222222222222222,\"#7201a8\"],[0.3333333333333333,\"#9c179e\"],[0.4444444444444444,\"#bd3786\"],[0.5555555555555556,\"#d8576b\"],[0.6666666666666666,\"#ed7953\"],[0.7777777777777778,\"#fb9f3a\"],[0.8888888888888888,\"#fdca26\"],[1.0,\"#f0f921\"]]}],\"surface\":[{\"type\":\"surface\",\"colorbar\":{\"outlinewidth\":0,\"ticks\":\"\"},\"colorscale\":[[0.0,\"#0d0887\"],[0.1111111111111111,\"#46039f\"],[0.2222222222222222,\"#7201a8\"],[0.3333333333333333,\"#9c179e\"],[0.4444444444444444,\"#bd3786\"],[0.5555555555555556,\"#d8576b\"],[0.6666666666666666,\"#ed7953\"],[0.7777777777777778,\"#fb9f3a\"],[0.8888888888888888,\"#fdca26\"],[1.0,\"#f0f921\"]]}],\"mesh3d\":[{\"type\":\"mesh3d\",\"colorbar\":{\"outlinewidth\":0,\"ticks\":\"\"}}],\"scatter\":[{\"fillpattern\":{\"fillmode\":\"overlay\",\"size\":10,\"solidity\":0.2},\"type\":\"scatter\"}],\"parcoords\":[{\"type\":\"parcoords\",\"line\":{\"colorbar\":{\"outlinewidth\":0,\"ticks\":\"\"}}}],\"scatterpolargl\":[{\"type\":\"scatterpolargl\",\"marker\":{\"colorbar\":{\"outlinewidth\":0,\"ticks\":\"\"}}}],\"bar\":[{\"error_x\":{\"color\":\"#2a3f5f\"},\"error_y\":{\"color\":\"#2a3f5f\"},\"marker\":{\"line\":{\"color\":\"#E5ECF6\",\"width\":0.5},\"pattern\":{\"fillmode\":\"overlay\",\"size\":10,\"solidity\":0.2}},\"type\":\"bar\"}],\"scattergeo\":[{\"type\":\"scattergeo\",\"marker\":{\"colorbar\":{\"outlinewidth\":0,\"ticks\":\"\"}}}],\"scatterpolar\":[{\"type\":\"scatterpolar\",\"marker\":{\"colorbar\":{\"outlinewidth\":0,\"ticks\":\"\"}}}],\"histogram\":[{\"marker\":{\"pattern\":{\"fillmode\":\"overlay\",\"size\":10,\"solidity\":0.2}},\"type\":\"histogram\"}],\"scattergl\":[{\"type\":\"scattergl\",\"marker\":{\"colorbar\":{\"outlinewidth\":0,\"ticks\":\"\"}}}],\"scatter3d\":[{\"type\":\"scatter3d\",\"line\":{\"colorbar\":{\"outlinewidth\":0,\"ticks\":\"\"}},\"marker\":{\"colorbar\":{\"outlinewidth\":0,\"ticks\":\"\"}}}],\"scattermapbox\":[{\"type\":\"scattermapbox\",\"marker\":{\"colorbar\":{\"outlinewidth\":0,\"ticks\":\"\"}}}],\"scatterternary\":[{\"type\":\"scatterternary\",\"marker\":{\"colorbar\":{\"outlinewidth\":0,\"ticks\":\"\"}}}],\"scattercarpet\":[{\"type\":\"scattercarpet\",\"marker\":{\"colorbar\":{\"outlinewidth\":0,\"ticks\":\"\"}}}],\"carpet\":[{\"aaxis\":{\"endlinecolor\":\"#2a3f5f\",\"gridcolor\":\"white\",\"linecolor\":\"white\",\"minorgridcolor\":\"white\",\"startlinecolor\":\"#2a3f5f\"},\"baxis\":{\"endlinecolor\":\"#2a3f5f\",\"gridcolor\":\"white\",\"linecolor\":\"white\",\"minorgridcolor\":\"white\",\"startlinecolor\":\"#2a3f5f\"},\"type\":\"carpet\"}],\"table\":[{\"cells\":{\"fill\":{\"color\":\"#EBF0F8\"},\"line\":{\"color\":\"white\"}},\"header\":{\"fill\":{\"color\":\"#C8D4E3\"},\"line\":{\"color\":\"white\"}},\"type\":\"table\"}],\"barpolar\":[{\"marker\":{\"line\":{\"color\":\"#E5ECF6\",\"width\":0.5},\"pattern\":{\"fillmode\":\"overlay\",\"size\":10,\"solidity\":0.2}},\"type\":\"barpolar\"}],\"pie\":[{\"automargin\":true,\"type\":\"pie\"}]},\"layout\":{\"autotypenumbers\":\"strict\",\"colorway\":[\"#636efa\",\"#EF553B\",\"#00cc96\",\"#ab63fa\",\"#FFA15A\",\"#19d3f3\",\"#FF6692\",\"#B6E880\",\"#FF97FF\",\"#FECB52\"],\"font\":{\"color\":\"#2a3f5f\"},\"hovermode\":\"closest\",\"hoverlabel\":{\"align\":\"left\"},\"paper_bgcolor\":\"white\",\"plot_bgcolor\":\"#E5ECF6\",\"polar\":{\"bgcolor\":\"#E5ECF6\",\"angularaxis\":{\"gridcolor\":\"white\",\"linecolor\":\"white\",\"ticks\":\"\"},\"radialaxis\":{\"gridcolor\":\"white\",\"linecolor\":\"white\",\"ticks\":\"\"}},\"ternary\":{\"bgcolor\":\"#E5ECF6\",\"aaxis\":{\"gridcolor\":\"white\",\"linecolor\":\"white\",\"ticks\":\"\"},\"baxis\":{\"gridcolor\":\"white\",\"linecolor\":\"white\",\"ticks\":\"\"},\"caxis\":{\"gridcolor\":\"white\",\"linecolor\":\"white\",\"ticks\":\"\"}},\"coloraxis\":{\"colorbar\":{\"outlinewidth\":0,\"ticks\":\"\"}},\"colorscale\":{\"sequential\":[[0.0,\"#0d0887\"],[0.1111111111111111,\"#46039f\"],[0.2222222222222222,\"#7201a8\"],[0.3333333333333333,\"#9c179e\"],[0.4444444444444444,\"#bd3786\"],[0.5555555555555556,\"#d8576b\"],[0.6666666666666666,\"#ed7953\"],[0.7777777777777778,\"#fb9f3a\"],[0.8888888888888888,\"#fdca26\"],[1.0,\"#f0f921\"]],\"sequentialminus\":[[0.0,\"#0d0887\"],[0.1111111111111111,\"#46039f\"],[0.2222222222222222,\"#7201a8\"],[0.3333333333333333,\"#9c179e\"],[0.4444444444444444,\"#bd3786\"],[0.5555555555555556,\"#d8576b\"],[0.6666666666666666,\"#ed7953\"],[0.7777777777777778,\"#fb9f3a\"],[0.8888888888888888,\"#fdca26\"],[1.0,\"#f0f921\"]],\"diverging\":[[0,\"#8e0152\"],[0.1,\"#c51b7d\"],[0.2,\"#de77ae\"],[0.3,\"#f1b6da\"],[0.4,\"#fde0ef\"],[0.5,\"#f7f7f7\"],[0.6,\"#e6f5d0\"],[0.7,\"#b8e186\"],[0.8,\"#7fbc41\"],[0.9,\"#4d9221\"],[1,\"#276419\"]]},\"xaxis\":{\"gridcolor\":\"white\",\"linecolor\":\"white\",\"ticks\":\"\",\"title\":{\"standoff\":15},\"zerolinecolor\":\"white\",\"automargin\":true,\"zerolinewidth\":2},\"yaxis\":{\"gridcolor\":\"white\",\"linecolor\":\"white\",\"ticks\":\"\",\"title\":{\"standoff\":15},\"zerolinecolor\":\"white\",\"automargin\":true,\"zerolinewidth\":2},\"scene\":{\"xaxis\":{\"backgroundcolor\":\"#E5ECF6\",\"gridcolor\":\"white\",\"linecolor\":\"white\",\"showbackground\":true,\"ticks\":\"\",\"zerolinecolor\":\"white\",\"gridwidth\":2},\"yaxis\":{\"backgroundcolor\":\"#E5ECF6\",\"gridcolor\":\"white\",\"linecolor\":\"white\",\"showbackground\":true,\"ticks\":\"\",\"zerolinecolor\":\"white\",\"gridwidth\":2},\"zaxis\":{\"backgroundcolor\":\"#E5ECF6\",\"gridcolor\":\"white\",\"linecolor\":\"white\",\"showbackground\":true,\"ticks\":\"\",\"zerolinecolor\":\"white\",\"gridwidth\":2}},\"shapedefaults\":{\"line\":{\"color\":\"#2a3f5f\"}},\"annotationdefaults\":{\"arrowcolor\":\"#2a3f5f\",\"arrowhead\":0,\"arrowwidth\":1},\"geo\":{\"bgcolor\":\"white\",\"landcolor\":\"#E5ECF6\",\"subunitcolor\":\"white\",\"showland\":true,\"showlakes\":true,\"lakecolor\":\"white\"},\"title\":{\"x\":0.05},\"mapbox\":{\"style\":\"light\"}}},\"xaxis\":{\"anchor\":\"y\",\"domain\":[0.0,1.0],\"title\":{\"text\":\"Rank\"},\"rangeslider\":{\"visible\":true}},\"yaxis\":{\"anchor\":\"x\",\"domain\":[0.0,1.0],\"title\":{\"text\":\"Revenue (USD millions)\"}},\"legend\":{\"title\":{\"text\":\"Industry\"},\"tracegroupgap\":0,\"itemsizing\":\"constant\"},\"title\":{\"text\":\"Scatter Plot of Companies\"},\"updatemenus\":[{\"buttons\":[{\"args\":[{\"visible\":[true,false,false,false,false,false,false,false,true,false,false,false,false,false,false,false,false,false,false,false,false,false,false,false,false,false,false,false,false,false,false,false,false,false,false,false,true,false,false,false,false,false,false,false,false,false,false,false,true,false,false,false,false,false,true,false,false,false,false,false,false,false,false,false]},{\"title\":\"Scatter Plot for Industry: Retail\"}],\"label\":\"Retail\",\"method\":\"update\"},{\"args\":[{\"visible\":[false,true,false,false,false,false,false,false,false,false,false,false,false,false,false,false,false,false,false,false,false,false,false,false,false,false,false,false,false,false,false,false,false,false,false,false,false,false,false,false,false,false,false,false,false,false,false,false,false,false,false,false,false,false,false,false,false,false,false,false,false,false,false,false]},{\"title\":\"Scatter Plot for Industry: Retail and cloud computing\"}],\"label\":\"Retail and cloud computing\",\"method\":\"update\"},{\"args\":[{\"visible\":[false,false,true,false,true,false,false,false,false,false,false,true,false,false,false,false,true,false,true,false,false,false,false,false,false,false,false,false,false,false,false,false,false,false,false,false,false,false,false,false,false,false,true,false,false,false,false,false,false,false,false,false,false,false,false,false,false,false,false,false,false,false,false,false]},{\"title\":\"Scatter Plot for Industry: Healthcare\"}],\"label\":\"Healthcare\",\"method\":\"update\"},{\"args\":[{\"visible\":[false,false,false,true,false,false,false,false,false,false,false,false,false,false,false,false,false,false,false,false,false,false,false,false,false,false,false,false,false,false,false,false,false,false,false,false,false,false,true,false,false,false,false,false,false,false,false,false,false,false,false,false,false,false,false,false,false,false,false,false,false,false,false,false]},{\"title\":\"Scatter Plot for Industry: Conglomerate\"}],\"label\":\"Conglomerate\",\"method\":\"update\"},{\"args\":[{\"visible\":[false,false,false,false,false,true,false,false,false,false,true,false,false,false,false,false,false,false,false,false,false,false,false,false,false,false,false,false,false,false,false,false,false,false,false,false,false,false,false,false,false,false,false,false,false,false,false,false,false,false,false,false,false,false,false,false,false,false,false,false,false,false,false,false]},{\"title\":\"Scatter Plot for Industry: Technology and cloud computing\"}],\"label\":\"Technology and cloud computing\",\"method\":\"update\"},{\"args\":[{\"visible\":[false,false,false,false,false,false,true,false,false,false,false,false,false,false,false,false,false,false,false,false,false,false,false,false,false,false,false,false,false,false,false,false,false,false,false,false,false,false,false,false,false,false,false,false,false,false,false,false,false,false,false,false,false,false,false,false,false,false,false,false,false,false,false,false]},{\"title\":\"Scatter Plot for Industry: Health\"}],\"label\":\"Health\",\"method\":\"update\"},{\"args\":[{\"visible\":[false,false,false,false,false,false,false,true,false,false,false,false,false,false,false,false,false,false,false,false,false,false,false,false,false,false,false,false,false,false,false,false,false,false,false,false,false,false,false,false,false,false,false,false,false,false,false,false,false,false,false,false,false,false,false,false,false,false,false,false,false,false,false,false]},{\"title\":\"Scatter Plot for Industry: Pharmacy wholesale\"}],\"label\":\"Pharmacy wholesale\",\"method\":\"update\"},{\"args\":[{\"visible\":[false,false,false,false,false,false,false,false,false,true,false,false,false,false,false,false,false,false,false,false,false,false,false,false,false,false,false,false,false,false,false,false,false,false,false,false,false,false,false,false,false,false,false,false,false,false,false,false,false,false,false,false,false,false,false,false,false,false,false,false,false,false,false,false]},{\"title\":\"Scatter Plot for Industry: Financial services\"}],\"label\":\"Financial services\",\"method\":\"update\"},{\"args\":[{\"visible\":[false,false,false,false,false,false,false,false,false,false,false,false,true,false,false,false,false,false,false,false,false,false,false,false,false,false,false,true,false,false,false,false,false,false,false,false,false,false,false,false,false,false,false,false,false,false,false,false,false,false,false,false,false,false,false,false,false,false,false,false,false,false,false,false]},{\"title\":\"Scatter Plot for Industry: Health insurance\"}],\"label\":\"Health insurance\",\"method\":\"update\"},{\"args\":[{\"visible\":[false,false,false,false,false,false,false,false,false,false,false,false,false,true,false,true,false,false,false,false,false,false,false,false,false,false,false,false,false,false,false,false,false,false,false,false,false,false,false,false,false,false,false,false,false,false,false,false,false,false,false,false,false,false,false,false,false,false,false,false,false,false,false,false]},{\"title\":\"Scatter Plot for Industry: Automotive industry\"}],\"label\":\"Automotive industry\",\"method\":\"update\"},{\"args\":[{\"visible\":[false,false,false,false,false,false,false,false,false,false,false,false,false,false,true,false,false,true,false,true,false,false,false,false,true,true,true,false,true,false,true,false,false,false,false,false,false,false,false,false,false,false,false,false,false,false,false,false,false,false,false,false,false,false,false,false,false,false,false,false,false,true,false,true]},{\"title\":\"Scatter Plot for Industry: Financials\"}],\"label\":\"Financials\",\"method\":\"update\"},{\"args\":[{\"visible\":[false,false,false,false,false,false,false,false,false,false,false,false,false,false,false,false,false,false,false,false,true,false,false,false,false,false,false,false,false,false,false,true,false,false,false,false,false,false,false,false,false,false,false,false,false,false,true,false,false,false,false,false,false,false,false,false,false,false,false,false,false,false,false,false]},{\"title\":\"Scatter Plot for Industry: Pharmaceutical industry\"}],\"label\":\"Pharmaceutical industry\",\"method\":\"update\"},{\"args\":[{\"visible\":[false,false,false,false,false,false,false,false,false,false,false,false,false,false,false,false,false,false,false,false,false,true,false,false,false,false,false,false,false,false,false,false,false,false,false,false,false,false,false,false,false,false,false,false,false,true,false,false,false,false,false,false,false,false,false,false,false,false,false,false,true,false,false,false]},{\"title\":\"Scatter Plot for Industry: Technology\"}],\"label\":\"Technology\",\"method\":\"update\"},{\"args\":[{\"visible\":[false,false,false,false,false,false,false,false,false,false,false,false,false,false,false,false,false,false,false,false,false,false,true,false,false,false,false,false,false,false,false,false,false,false,false,false,false,false,false,false,false,false,false,false,false,false,false,false,false,false,false,false,false,false,false,false,false,false,false,false,false,false,false,false]},{\"title\":\"Scatter Plot for Industry: Conglomerate and telecommunications\"}],\"label\":\"Conglomerate and telecommunications\",\"method\":\"update\"},{\"args\":[{\"visible\":[false,false,false,false,false,false,false,false,false,false,false,false,false,false,false,false,false,false,false,false,false,false,false,true,false,false,false,false,false,false,false,false,false,false,false,false,false,false,false,false,false,false,false,false,false,false,false,false,false,false,false,false,true,false,false,false,false,false,false,false,false,false,false,false]},{\"title\":\"Scatter Plot for Industry: Telecommunications\"}],\"label\":\"Telecommunications\",\"method\":\"update\"},{\"args\":[{\"visible\":[false,false,false,false,false,false,false,false,false,false,false,false,false,false,false,false,false,false,false,false,false,false,false,false,false,false,false,false,false,true,false,false,false,false,false,false,false,false,false,false,false,false,false,false,false,false,false,false,false,false,false,false,false,false,false,false,false,false,false,false,false,false,false,false]},{\"title\":\"Scatter Plot for Industry: Automotive and energy\"}],\"label\":\"Automotive and energy\",\"method\":\"update\"},{\"args\":[{\"visible\":[false,false,false,false,false,false,false,false,false,false,false,false,false,false,false,false,false,false,false,false,false,false,false,false,false,false,false,false,false,false,false,false,true,false,false,false,false,false,false,false,false,false,false,false,false,false,false,false,false,false,false,false,false,false,false,false,false,false,false,false,false,false,true,false]},{\"title\":\"Scatter Plot for Industry: Beverage\"}],\"label\":\"Beverage\",\"method\":\"update\"},{\"args\":[{\"visible\":[false,false,false,false,false,false,false,false,false,false,false,false,false,false,false,false,false,false,false,false,false,false,false,false,false,false,false,false,false,false,false,false,false,true,false,false,false,false,false,false,false,false,false,false,false,false,false,false,false,false,false,false,false,false,false,false,false,false,false,false,false,false,false,false]},{\"title\":\"Scatter Plot for Industry: Media\"}],\"label\":\"Media\",\"method\":\"update\"},{\"args\":[{\"visible\":[false,false,false,false,false,false,false,false,false,false,false,false,false,false,false,false,false,false,false,false,false,false,false,false,false,false,false,false,false,false,false,false,false,false,true,false,false,false,false,false,false,false,false,false,false,false,false,false,false,false,false,false,false,false,false,false,false,false,false,false,false,false,false,false]},{\"title\":\"Scatter Plot for Industry: Consumer products manufacturing\"}],\"label\":\"Consumer products manufacturing\",\"method\":\"update\"},{\"args\":[{\"visible\":[false,false,false,false,false,false,false,false,false,false,false,false,false,false,false,false,false,false,false,false,false,false,false,false,false,false,false,false,false,false,false,false,false,false,false,true,false,false,false,true,false,false,false,false,false,false,false,false,false,false,false,false,false,false,false,false,false,false,false,false,false,false,false,false]},{\"title\":\"Scatter Plot for Industry: Aerospace and defense\"}],\"label\":\"Aerospace and defense\",\"method\":\"update\"},{\"args\":[{\"visible\":[false,false,false,false,false,false,false,false,false,false,false,false,false,false,false,false,false,false,false,false,false,false,false,false,false,false,false,false,false,false,false,false,false,false,false,false,false,true,false,false,false,false,false,false,false,false,false,false,false,false,false,false,false,false,false,false,false,false,false,false,false,false,false,false]},{\"title\":\"Scatter Plot for Industry: Food service\"}],\"label\":\"Food service\",\"method\":\"update\"},{\"args\":[{\"visible\":[false,false,false,false,false,false,false,false,false,false,false,false,false,false,false,false,false,false,false,false,false,false,false,false,false,false,false,false,false,false,false,false,false,false,false,false,false,false,false,false,true,false,false,false,false,false,false,false,false,false,false,true,false,false,false,false,false,false,false,false,false,false,false,false]},{\"title\":\"Scatter Plot for Industry: Financial\"}],\"label\":\"Financial\",\"method\":\"update\"},{\"args\":[{\"visible\":[false,false,false,false,false,false,false,false,false,false,false,false,false,false,false,false,false,false,false,false,false,false,false,false,false,false,false,false,false,false,false,false,false,false,false,false,false,false,false,false,false,true,false,false,false,false,false,false,false,false,false,false,false,false,false,false,false,false,false,false,false,false,false,false]},{\"title\":\"Scatter Plot for Industry: Machinery\"}],\"label\":\"Machinery\",\"method\":\"update\"},{\"args\":[{\"visible\":[false,false,false,false,false,false,false,false,false,false,false,false,false,false,false,false,false,false,false,false,false,false,false,false,false,false,false,false,false,false,false,false,false,false,false,false,false,false,false,false,false,false,false,true,false,false,false,false,false,true,false,false,false,true,false,false,false,false,true,false,false,false,false,false]},{\"title\":\"Scatter Plot for Industry: Insurance\"}],\"label\":\"Insurance\",\"method\":\"update\"},{\"args\":[{\"visible\":[false,false,false,false,false,false,false,false,false,false,false,false,false,false,false,false,false,false,false,false,false,false,false,false,false,false,false,false,false,false,false,false,false,false,false,false,false,false,false,false,false,false,false,false,true,false,false,false,false,false,false,false,false,false,false,false,false,false,false,false,false,false,false,false]},{\"title\":\"Scatter Plot for Industry: Agriculture manufacturing\"}],\"label\":\"Agriculture manufacturing\",\"method\":\"update\"},{\"args\":[{\"visible\":[false,false,false,false,false,false,false,false,false,false,false,false,false,false,false,false,false,false,false,false,false,false,false,false,false,false,false,false,false,false,false,false,false,false,false,false,false,false,false,false,false,false,false,false,false,false,false,true,false,false,false,false,false,false,false,true,false,true,false,false,false,false,false,false]},{\"title\":\"Scatter Plot for Industry: Airline\"}],\"label\":\"Airline\",\"method\":\"update\"},{\"args\":[{\"visible\":[false,false,false,false,false,false,false,false,false,false,false,false,false,false,false,false,false,false,false,false,false,false,false,false,false,false,false,false,false,false,false,false,false,false,false,false,false,false,false,false,false,false,false,false,false,false,false,false,false,false,true,false,false,false,false,false,false,false,false,false,false,false,false,false]},{\"title\":\"Scatter Plot for Industry: Telecom hardware manufacturing\"}],\"label\":\"Telecom hardware manufacturing\",\"method\":\"update\"},{\"args\":[{\"visible\":[false,false,false,false,false,false,false,false,false,false,false,false,false,false,false,false,false,false,false,false,false,false,false,false,false,false,false,false,false,false,false,false,false,false,false,false,false,false,false,false,false,false,false,false,false,false,false,false,false,false,false,false,false,false,false,false,true,false,false,false,false,false,false,false]},{\"title\":\"Scatter Plot for Industry: Food processing\"}],\"label\":\"Food processing\",\"method\":\"update\"},{\"args\":[{\"visible\":[false,false,false,false,false,false,false,false,false,false,false,false,false,false,false,false,false,false,false,false,false,false,false,false,false,false,false,false,false,false,false,false,false,false,false,false,false,false,false,false,false,false,false,false,false,false,false,false,false,false,false,false,false,false,false,false,false,false,false,true,false,false,false,false]},{\"title\":\"Scatter Plot for Industry: Apparel\"}],\"label\":\"Apparel\",\"method\":\"update\"}]}]},                        {\"responsive\": true}                    ).then(function(){\n",
       "                            \n",
       "var gd = document.getElementById('20f5e14b-228d-4212-b0d3-6107132c49d8');\n",
       "var x = new MutationObserver(function (mutations, observer) {{\n",
       "        var display = window.getComputedStyle(gd).display;\n",
       "        if (!display || display === 'none') {{\n",
       "            console.log([gd, 'removed!']);\n",
       "            Plotly.purge(gd);\n",
       "            observer.disconnect();\n",
       "        }}\n",
       "}});\n",
       "\n",
       "// Listen for the removal of the full notebook cells\n",
       "var notebookContainer = gd.closest('#notebook-container');\n",
       "if (notebookContainer) {{\n",
       "    x.observe(notebookContainer, {childList: true});\n",
       "}}\n",
       "\n",
       "// Listen for the clearing of the current output cell\n",
       "var outputEl = gd.closest('.output');\n",
       "if (outputEl) {{\n",
       "    x.observe(outputEl, {childList: true});\n",
       "}}\n",
       "\n",
       "                        })                };                });            </script>        </div>"
      ]
     },
     "metadata": {},
     "output_type": "display_data"
    }
   ],
   "source": [
    "import pandas as pd\n",
    "import plotly.express as px\n",
    "\n",
    "\n",
    "df = pd.read_csv('Jupyter_Project/companies.csv')\n",
    "df.columns = df.columns.str.strip()\n",
    "df['Revenue (USD millions)'] = df['Revenue (USD millions)'].str.replace(',', '', regex=False)\n",
    "df['Revenue growth'] = df['Revenue growth'].str.replace('%', '', regex=False).astype(float)\n",
    "df['Revenue (USD millions)'] = pd.to_numeric(df['Revenue (USD millions)'], errors='coerce')\n",
    "df.dropna(subset=['Revenue (USD millions)', 'Revenue growth'], inplace=True)\n",
    "df = df[df['Revenue growth'] >= 0]\n",
    "fig = px.scatter(\n",
    "    df,\n",
    "    x='Rank',\n",
    "    y='Revenue (USD millions)',\n",
    "    color='Industry',\n",
    "    size='Revenue growth',\n",
    "    hover_name='Name',\n",
    "    title='Scatter Plot of Companies'\n",
    ")\n",
    "\n",
    "ranks = df['Rank'].unique()\n",
    "fig.update_layout(\n",
    "    updatemenus=[\n",
    "\n",
    "        {\n",
    "            'buttons': [\n",
    "                {\n",
    "                    'label': industry,\n",
    "                    'method': 'update',\n",
    "                    'args': [{'visible': df['Industry'] == industry}, {'title': f'Scatter Plot for Industry: {industry}'}]\n",
    "                } for industry in df['Industry'].unique()\n",
    "            ],\n",
    "     \n",
    "        },\n",
    "       \n",
    "    ]\n",
    ")\n",
    "\n",
    "fig.update_xaxes(\n",
    "    title='Rank',\n",
    "    rangeslider_visible=True\n",
    ")\n",
    "\n",
    "fig.show()"
   ]
  }
 ],
 "metadata": {
  "kernelspec": {
   "display_name": "Python 3 (ipykernel)",
   "language": "python",
   "name": "python3"
  },
  "language_info": {
   "codemirror_mode": {
    "name": "ipython",
    "version": 3
   },
   "file_extension": ".py",
   "mimetype": "text/x-python",
   "name": "python",
   "nbconvert_exporter": "python",
   "pygments_lexer": "ipython3",
   "version": "3.10.6"
  },
  "toc": {
   "base_numbering": 1,
   "nav_menu": {},
   "number_sections": true,
   "sideBar": true,
   "skip_h1_title": false,
   "title_cell": "Table of Contents",
   "title_sidebar": "Contents",
   "toc_cell": false,
   "toc_position": {},
   "toc_section_display": true,
   "toc_window_display": false
  }
 },
 "nbformat": 4,
 "nbformat_minor": 5
}
